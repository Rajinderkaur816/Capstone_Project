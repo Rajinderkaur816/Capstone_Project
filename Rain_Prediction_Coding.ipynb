{
  "nbformat": 4,
  "nbformat_minor": 0,
  "metadata": {
    "colab": {
      "name": "Rain Prediction Coding.ipynb",
      "provenance": [],
      "collapsed_sections": []
    },
    "kernelspec": {
      "name": "python3",
      "display_name": "Python 3"
    },
    "language_info": {
      "name": "python"
    }
  },
  "cells": [
    {
      "cell_type": "markdown",
      "source": [
        "#IMPORTING LIBRARIES\n",
        "\n",
        "\n",
        "\n"
      ],
      "metadata": {
        "id": "Xg9wquXgaIBb"
      }
    },
    {
      "cell_type": "code",
      "execution_count": null,
      "metadata": {
        "id": "VJuvVgsWhKdj"
      },
      "outputs": [],
      "source": [
        "#Import libraries\n",
        "\n",
        "import pandas as pd #(used for data mnipulation nd analysis)\n",
        "import matplotlib.pyplot as plt # to create plots\n",
        "import seaborn as sns #Used for data visualising and exploratory data analysis\n",
        "import numpy as np # used for mathematical calculations\n",
        "import warnings \n",
        "warnings.filterwarnings('ignore')"
      ]
    },
    {
      "cell_type": "markdown",
      "source": [
        "#LOADING DATASET"
      ],
      "metadata": {
        "id": "iCNkMWt4aQ65"
      }
    },
    {
      "cell_type": "code",
      "source": [
        "# To load data\n",
        "\n",
        "RAIN = pd.read_csv('/content/weatherAUS.csv')"
      ],
      "metadata": {
        "id": "9CoRDycNhPkM"
      },
      "execution_count": null,
      "outputs": []
    },
    {
      "cell_type": "markdown",
      "source": [
        "#To check number of attributes and records.."
      ],
      "metadata": {
        "id": "EsKSiQ1E1jHq"
      }
    },
    {
      "cell_type": "code",
      "source": [
        "# To check shape(no. of records and attributes in dataset)\n",
        "\n",
        "RAIN.shape"
      ],
      "metadata": {
        "id": "UDlO2nQEhkJT",
        "colab": {
          "base_uri": "https://localhost:8080/"
        },
        "outputId": "6c294e18-fe74-4268-db4e-161411fe7436"
      },
      "execution_count": null,
      "outputs": [
        {
          "output_type": "execute_result",
          "data": {
            "text/plain": [
              "(145460, 23)"
            ]
          },
          "metadata": {},
          "execution_count": 3
        }
      ]
    },
    {
      "cell_type": "markdown",
      "source": [
        "It shows that this dataset contains 145460 records and 23 attributes."
      ],
      "metadata": {
        "id": "hZohEOBuqQoS"
      }
    },
    {
      "cell_type": "markdown",
      "source": [
        "#Printing top 10 rows from dataset."
      ],
      "metadata": {
        "id": "2lgQvteU1ooy"
      }
    },
    {
      "cell_type": "code",
      "source": [
        "# Print top 10 rows\n",
        "\n",
        "RAIN.head(10)"
      ],
      "metadata": {
        "id": "kDJUgSSFhuj0",
        "colab": {
          "base_uri": "https://localhost:8080/",
          "height": 803
        },
        "outputId": "f37591ba-eab3-4b1d-bcaa-825800a31a98"
      },
      "execution_count": null,
      "outputs": [
        {
          "output_type": "execute_result",
          "data": {
            "text/plain": [
              "         Date Location  MinTemp  MaxTemp  Rainfall  Evaporation  Sunshine  \\\n",
              "0  01-12-2008   Albury     13.4     22.9       0.6          NaN       NaN   \n",
              "1  02-12-2008   Albury      7.4     25.1       0.0          NaN       NaN   \n",
              "2  03-12-2008   Albury     12.9     25.7       0.0          NaN       NaN   \n",
              "3  04-12-2008   Albury      9.2     28.0       0.0          NaN       NaN   \n",
              "4  05-12-2008   Albury     17.5     32.3       1.0          NaN       NaN   \n",
              "5  06-12-2008   Albury     14.6     29.7       0.2          NaN       NaN   \n",
              "6  07-12-2008   Albury     14.3     25.0       0.0          NaN       NaN   \n",
              "7  08-12-2008   Albury      7.7     26.7       0.0          NaN       NaN   \n",
              "8  09-12-2008   Albury      9.7     31.9       0.0          NaN       NaN   \n",
              "9  10-12-2008   Albury     13.1     30.1       1.4          NaN       NaN   \n",
              "\n",
              "  WindGustDir  WindGustSpeed WindDir9am  ... Humidity9am  Humidity3pm  \\\n",
              "0           W           44.0          W  ...        71.0         22.0   \n",
              "1         WNW           44.0        NNW  ...        44.0         25.0   \n",
              "2         WSW           46.0          W  ...        38.0         30.0   \n",
              "3          NE           24.0         SE  ...        45.0         16.0   \n",
              "4           W           41.0        ENE  ...        82.0         33.0   \n",
              "5         WNW           56.0          W  ...        55.0         23.0   \n",
              "6           W           50.0         SW  ...        49.0         19.0   \n",
              "7           W           35.0        SSE  ...        48.0         19.0   \n",
              "8         NNW           80.0         SE  ...        42.0          9.0   \n",
              "9           W           28.0          S  ...        58.0         27.0   \n",
              "\n",
              "   Pressure9am  Pressure3pm  Cloud9am  Cloud3pm  Temp9am  Temp3pm  RainToday  \\\n",
              "0       1007.7       1007.1       8.0       NaN     16.9     21.8         No   \n",
              "1       1010.6       1007.8       NaN       NaN     17.2     24.3         No   \n",
              "2       1007.6       1008.7       NaN       2.0     21.0     23.2         No   \n",
              "3       1017.6       1012.8       NaN       NaN     18.1     26.5         No   \n",
              "4       1010.8       1006.0       7.0       8.0     17.8     29.7         No   \n",
              "5       1009.2       1005.4       NaN       NaN     20.6     28.9         No   \n",
              "6       1009.6       1008.2       1.0       NaN     18.1     24.6         No   \n",
              "7       1013.4       1010.1       NaN       NaN     16.3     25.5         No   \n",
              "8       1008.9       1003.6       NaN       NaN     18.3     30.2         No   \n",
              "9       1007.0       1005.7       NaN       NaN     20.1     28.2        Yes   \n",
              "\n",
              "   RainTomorrow  \n",
              "0            No  \n",
              "1            No  \n",
              "2            No  \n",
              "3            No  \n",
              "4            No  \n",
              "5            No  \n",
              "6            No  \n",
              "7            No  \n",
              "8           Yes  \n",
              "9            No  \n",
              "\n",
              "[10 rows x 23 columns]"
            ],
            "text/html": [
              "\n",
              "  <div id=\"df-68360833-9c92-400b-b33b-e1fcaf6fa5de\">\n",
              "    <div class=\"colab-df-container\">\n",
              "      <div>\n",
              "<style scoped>\n",
              "    .dataframe tbody tr th:only-of-type {\n",
              "        vertical-align: middle;\n",
              "    }\n",
              "\n",
              "    .dataframe tbody tr th {\n",
              "        vertical-align: top;\n",
              "    }\n",
              "\n",
              "    .dataframe thead th {\n",
              "        text-align: right;\n",
              "    }\n",
              "</style>\n",
              "<table border=\"1\" class=\"dataframe\">\n",
              "  <thead>\n",
              "    <tr style=\"text-align: right;\">\n",
              "      <th></th>\n",
              "      <th>Date</th>\n",
              "      <th>Location</th>\n",
              "      <th>MinTemp</th>\n",
              "      <th>MaxTemp</th>\n",
              "      <th>Rainfall</th>\n",
              "      <th>Evaporation</th>\n",
              "      <th>Sunshine</th>\n",
              "      <th>WindGustDir</th>\n",
              "      <th>WindGustSpeed</th>\n",
              "      <th>WindDir9am</th>\n",
              "      <th>...</th>\n",
              "      <th>Humidity9am</th>\n",
              "      <th>Humidity3pm</th>\n",
              "      <th>Pressure9am</th>\n",
              "      <th>Pressure3pm</th>\n",
              "      <th>Cloud9am</th>\n",
              "      <th>Cloud3pm</th>\n",
              "      <th>Temp9am</th>\n",
              "      <th>Temp3pm</th>\n",
              "      <th>RainToday</th>\n",
              "      <th>RainTomorrow</th>\n",
              "    </tr>\n",
              "  </thead>\n",
              "  <tbody>\n",
              "    <tr>\n",
              "      <th>0</th>\n",
              "      <td>01-12-2008</td>\n",
              "      <td>Albury</td>\n",
              "      <td>13.4</td>\n",
              "      <td>22.9</td>\n",
              "      <td>0.6</td>\n",
              "      <td>NaN</td>\n",
              "      <td>NaN</td>\n",
              "      <td>W</td>\n",
              "      <td>44.0</td>\n",
              "      <td>W</td>\n",
              "      <td>...</td>\n",
              "      <td>71.0</td>\n",
              "      <td>22.0</td>\n",
              "      <td>1007.7</td>\n",
              "      <td>1007.1</td>\n",
              "      <td>8.0</td>\n",
              "      <td>NaN</td>\n",
              "      <td>16.9</td>\n",
              "      <td>21.8</td>\n",
              "      <td>No</td>\n",
              "      <td>No</td>\n",
              "    </tr>\n",
              "    <tr>\n",
              "      <th>1</th>\n",
              "      <td>02-12-2008</td>\n",
              "      <td>Albury</td>\n",
              "      <td>7.4</td>\n",
              "      <td>25.1</td>\n",
              "      <td>0.0</td>\n",
              "      <td>NaN</td>\n",
              "      <td>NaN</td>\n",
              "      <td>WNW</td>\n",
              "      <td>44.0</td>\n",
              "      <td>NNW</td>\n",
              "      <td>...</td>\n",
              "      <td>44.0</td>\n",
              "      <td>25.0</td>\n",
              "      <td>1010.6</td>\n",
              "      <td>1007.8</td>\n",
              "      <td>NaN</td>\n",
              "      <td>NaN</td>\n",
              "      <td>17.2</td>\n",
              "      <td>24.3</td>\n",
              "      <td>No</td>\n",
              "      <td>No</td>\n",
              "    </tr>\n",
              "    <tr>\n",
              "      <th>2</th>\n",
              "      <td>03-12-2008</td>\n",
              "      <td>Albury</td>\n",
              "      <td>12.9</td>\n",
              "      <td>25.7</td>\n",
              "      <td>0.0</td>\n",
              "      <td>NaN</td>\n",
              "      <td>NaN</td>\n",
              "      <td>WSW</td>\n",
              "      <td>46.0</td>\n",
              "      <td>W</td>\n",
              "      <td>...</td>\n",
              "      <td>38.0</td>\n",
              "      <td>30.0</td>\n",
              "      <td>1007.6</td>\n",
              "      <td>1008.7</td>\n",
              "      <td>NaN</td>\n",
              "      <td>2.0</td>\n",
              "      <td>21.0</td>\n",
              "      <td>23.2</td>\n",
              "      <td>No</td>\n",
              "      <td>No</td>\n",
              "    </tr>\n",
              "    <tr>\n",
              "      <th>3</th>\n",
              "      <td>04-12-2008</td>\n",
              "      <td>Albury</td>\n",
              "      <td>9.2</td>\n",
              "      <td>28.0</td>\n",
              "      <td>0.0</td>\n",
              "      <td>NaN</td>\n",
              "      <td>NaN</td>\n",
              "      <td>NE</td>\n",
              "      <td>24.0</td>\n",
              "      <td>SE</td>\n",
              "      <td>...</td>\n",
              "      <td>45.0</td>\n",
              "      <td>16.0</td>\n",
              "      <td>1017.6</td>\n",
              "      <td>1012.8</td>\n",
              "      <td>NaN</td>\n",
              "      <td>NaN</td>\n",
              "      <td>18.1</td>\n",
              "      <td>26.5</td>\n",
              "      <td>No</td>\n",
              "      <td>No</td>\n",
              "    </tr>\n",
              "    <tr>\n",
              "      <th>4</th>\n",
              "      <td>05-12-2008</td>\n",
              "      <td>Albury</td>\n",
              "      <td>17.5</td>\n",
              "      <td>32.3</td>\n",
              "      <td>1.0</td>\n",
              "      <td>NaN</td>\n",
              "      <td>NaN</td>\n",
              "      <td>W</td>\n",
              "      <td>41.0</td>\n",
              "      <td>ENE</td>\n",
              "      <td>...</td>\n",
              "      <td>82.0</td>\n",
              "      <td>33.0</td>\n",
              "      <td>1010.8</td>\n",
              "      <td>1006.0</td>\n",
              "      <td>7.0</td>\n",
              "      <td>8.0</td>\n",
              "      <td>17.8</td>\n",
              "      <td>29.7</td>\n",
              "      <td>No</td>\n",
              "      <td>No</td>\n",
              "    </tr>\n",
              "    <tr>\n",
              "      <th>5</th>\n",
              "      <td>06-12-2008</td>\n",
              "      <td>Albury</td>\n",
              "      <td>14.6</td>\n",
              "      <td>29.7</td>\n",
              "      <td>0.2</td>\n",
              "      <td>NaN</td>\n",
              "      <td>NaN</td>\n",
              "      <td>WNW</td>\n",
              "      <td>56.0</td>\n",
              "      <td>W</td>\n",
              "      <td>...</td>\n",
              "      <td>55.0</td>\n",
              "      <td>23.0</td>\n",
              "      <td>1009.2</td>\n",
              "      <td>1005.4</td>\n",
              "      <td>NaN</td>\n",
              "      <td>NaN</td>\n",
              "      <td>20.6</td>\n",
              "      <td>28.9</td>\n",
              "      <td>No</td>\n",
              "      <td>No</td>\n",
              "    </tr>\n",
              "    <tr>\n",
              "      <th>6</th>\n",
              "      <td>07-12-2008</td>\n",
              "      <td>Albury</td>\n",
              "      <td>14.3</td>\n",
              "      <td>25.0</td>\n",
              "      <td>0.0</td>\n",
              "      <td>NaN</td>\n",
              "      <td>NaN</td>\n",
              "      <td>W</td>\n",
              "      <td>50.0</td>\n",
              "      <td>SW</td>\n",
              "      <td>...</td>\n",
              "      <td>49.0</td>\n",
              "      <td>19.0</td>\n",
              "      <td>1009.6</td>\n",
              "      <td>1008.2</td>\n",
              "      <td>1.0</td>\n",
              "      <td>NaN</td>\n",
              "      <td>18.1</td>\n",
              "      <td>24.6</td>\n",
              "      <td>No</td>\n",
              "      <td>No</td>\n",
              "    </tr>\n",
              "    <tr>\n",
              "      <th>7</th>\n",
              "      <td>08-12-2008</td>\n",
              "      <td>Albury</td>\n",
              "      <td>7.7</td>\n",
              "      <td>26.7</td>\n",
              "      <td>0.0</td>\n",
              "      <td>NaN</td>\n",
              "      <td>NaN</td>\n",
              "      <td>W</td>\n",
              "      <td>35.0</td>\n",
              "      <td>SSE</td>\n",
              "      <td>...</td>\n",
              "      <td>48.0</td>\n",
              "      <td>19.0</td>\n",
              "      <td>1013.4</td>\n",
              "      <td>1010.1</td>\n",
              "      <td>NaN</td>\n",
              "      <td>NaN</td>\n",
              "      <td>16.3</td>\n",
              "      <td>25.5</td>\n",
              "      <td>No</td>\n",
              "      <td>No</td>\n",
              "    </tr>\n",
              "    <tr>\n",
              "      <th>8</th>\n",
              "      <td>09-12-2008</td>\n",
              "      <td>Albury</td>\n",
              "      <td>9.7</td>\n",
              "      <td>31.9</td>\n",
              "      <td>0.0</td>\n",
              "      <td>NaN</td>\n",
              "      <td>NaN</td>\n",
              "      <td>NNW</td>\n",
              "      <td>80.0</td>\n",
              "      <td>SE</td>\n",
              "      <td>...</td>\n",
              "      <td>42.0</td>\n",
              "      <td>9.0</td>\n",
              "      <td>1008.9</td>\n",
              "      <td>1003.6</td>\n",
              "      <td>NaN</td>\n",
              "      <td>NaN</td>\n",
              "      <td>18.3</td>\n",
              "      <td>30.2</td>\n",
              "      <td>No</td>\n",
              "      <td>Yes</td>\n",
              "    </tr>\n",
              "    <tr>\n",
              "      <th>9</th>\n",
              "      <td>10-12-2008</td>\n",
              "      <td>Albury</td>\n",
              "      <td>13.1</td>\n",
              "      <td>30.1</td>\n",
              "      <td>1.4</td>\n",
              "      <td>NaN</td>\n",
              "      <td>NaN</td>\n",
              "      <td>W</td>\n",
              "      <td>28.0</td>\n",
              "      <td>S</td>\n",
              "      <td>...</td>\n",
              "      <td>58.0</td>\n",
              "      <td>27.0</td>\n",
              "      <td>1007.0</td>\n",
              "      <td>1005.7</td>\n",
              "      <td>NaN</td>\n",
              "      <td>NaN</td>\n",
              "      <td>20.1</td>\n",
              "      <td>28.2</td>\n",
              "      <td>Yes</td>\n",
              "      <td>No</td>\n",
              "    </tr>\n",
              "  </tbody>\n",
              "</table>\n",
              "<p>10 rows × 23 columns</p>\n",
              "</div>\n",
              "      <button class=\"colab-df-convert\" onclick=\"convertToInteractive('df-68360833-9c92-400b-b33b-e1fcaf6fa5de')\"\n",
              "              title=\"Convert this dataframe to an interactive table.\"\n",
              "              style=\"display:none;\">\n",
              "        \n",
              "  <svg xmlns=\"http://www.w3.org/2000/svg\" height=\"24px\"viewBox=\"0 0 24 24\"\n",
              "       width=\"24px\">\n",
              "    <path d=\"M0 0h24v24H0V0z\" fill=\"none\"/>\n",
              "    <path d=\"M18.56 5.44l.94 2.06.94-2.06 2.06-.94-2.06-.94-.94-2.06-.94 2.06-2.06.94zm-11 1L8.5 8.5l.94-2.06 2.06-.94-2.06-.94L8.5 2.5l-.94 2.06-2.06.94zm10 10l.94 2.06.94-2.06 2.06-.94-2.06-.94-.94-2.06-.94 2.06-2.06.94z\"/><path d=\"M17.41 7.96l-1.37-1.37c-.4-.4-.92-.59-1.43-.59-.52 0-1.04.2-1.43.59L10.3 9.45l-7.72 7.72c-.78.78-.78 2.05 0 2.83L4 21.41c.39.39.9.59 1.41.59.51 0 1.02-.2 1.41-.59l7.78-7.78 2.81-2.81c.8-.78.8-2.07 0-2.86zM5.41 20L4 18.59l7.72-7.72 1.47 1.35L5.41 20z\"/>\n",
              "  </svg>\n",
              "      </button>\n",
              "      \n",
              "  <style>\n",
              "    .colab-df-container {\n",
              "      display:flex;\n",
              "      flex-wrap:wrap;\n",
              "      gap: 12px;\n",
              "    }\n",
              "\n",
              "    .colab-df-convert {\n",
              "      background-color: #E8F0FE;\n",
              "      border: none;\n",
              "      border-radius: 50%;\n",
              "      cursor: pointer;\n",
              "      display: none;\n",
              "      fill: #1967D2;\n",
              "      height: 32px;\n",
              "      padding: 0 0 0 0;\n",
              "      width: 32px;\n",
              "    }\n",
              "\n",
              "    .colab-df-convert:hover {\n",
              "      background-color: #E2EBFA;\n",
              "      box-shadow: 0px 1px 2px rgba(60, 64, 67, 0.3), 0px 1px 3px 1px rgba(60, 64, 67, 0.15);\n",
              "      fill: #174EA6;\n",
              "    }\n",
              "\n",
              "    [theme=dark] .colab-df-convert {\n",
              "      background-color: #3B4455;\n",
              "      fill: #D2E3FC;\n",
              "    }\n",
              "\n",
              "    [theme=dark] .colab-df-convert:hover {\n",
              "      background-color: #434B5C;\n",
              "      box-shadow: 0px 1px 3px 1px rgba(0, 0, 0, 0.15);\n",
              "      filter: drop-shadow(0px 1px 2px rgba(0, 0, 0, 0.3));\n",
              "      fill: #FFFFFF;\n",
              "    }\n",
              "  </style>\n",
              "\n",
              "      <script>\n",
              "        const buttonEl =\n",
              "          document.querySelector('#df-68360833-9c92-400b-b33b-e1fcaf6fa5de button.colab-df-convert');\n",
              "        buttonEl.style.display =\n",
              "          google.colab.kernel.accessAllowed ? 'block' : 'none';\n",
              "\n",
              "        async function convertToInteractive(key) {\n",
              "          const element = document.querySelector('#df-68360833-9c92-400b-b33b-e1fcaf6fa5de');\n",
              "          const dataTable =\n",
              "            await google.colab.kernel.invokeFunction('convertToInteractive',\n",
              "                                                     [key], {});\n",
              "          if (!dataTable) return;\n",
              "\n",
              "          const docLinkHtml = 'Like what you see? Visit the ' +\n",
              "            '<a target=\"_blank\" href=https://colab.research.google.com/notebooks/data_table.ipynb>data table notebook</a>'\n",
              "            + ' to learn more about interactive tables.';\n",
              "          element.innerHTML = '';\n",
              "          dataTable['output_type'] = 'display_data';\n",
              "          await google.colab.output.renderOutput(dataTable, element);\n",
              "          const docLink = document.createElement('div');\n",
              "          docLink.innerHTML = docLinkHtml;\n",
              "          element.appendChild(docLink);\n",
              "        }\n",
              "      </script>\n",
              "    </div>\n",
              "  </div>\n",
              "  "
            ]
          },
          "metadata": {},
          "execution_count": 4
        }
      ]
    },
    {
      "cell_type": "code",
      "source": [
        "# Printing concise summary(detailed information)\n",
        "\n",
        "RAIN.info"
      ],
      "metadata": {
        "id": "OdQw4amehznG",
        "colab": {
          "base_uri": "https://localhost:8080/"
        },
        "outputId": "bfa80438-8fd2-439a-fdac-d1919887d92f"
      },
      "execution_count": null,
      "outputs": [
        {
          "output_type": "execute_result",
          "data": {
            "text/plain": [
              "<bound method DataFrame.info of               Date Location  MinTemp  MaxTemp  Rainfall  Evaporation  \\\n",
              "0       01-12-2008   Albury     13.4     22.9       0.6          NaN   \n",
              "1       02-12-2008   Albury      7.4     25.1       0.0          NaN   \n",
              "2       03-12-2008   Albury     12.9     25.7       0.0          NaN   \n",
              "3       04-12-2008   Albury      9.2     28.0       0.0          NaN   \n",
              "4       05-12-2008   Albury     17.5     32.3       1.0          NaN   \n",
              "...            ...      ...      ...      ...       ...          ...   \n",
              "145455  21-06-2017    Uluru      2.8     23.4       0.0          NaN   \n",
              "145456  22-06-2017    Uluru      3.6     25.3       0.0          NaN   \n",
              "145457  23-06-2017    Uluru      5.4     26.9       0.0          NaN   \n",
              "145458  24-06-2017    Uluru      7.8     27.0       0.0          NaN   \n",
              "145459  25-06-2017    Uluru     14.9      NaN       0.0          NaN   \n",
              "\n",
              "        Sunshine WindGustDir  WindGustSpeed WindDir9am  ... Humidity9am  \\\n",
              "0            NaN           W           44.0          W  ...        71.0   \n",
              "1            NaN         WNW           44.0        NNW  ...        44.0   \n",
              "2            NaN         WSW           46.0          W  ...        38.0   \n",
              "3            NaN          NE           24.0         SE  ...        45.0   \n",
              "4            NaN           W           41.0        ENE  ...        82.0   \n",
              "...          ...         ...            ...        ...  ...         ...   \n",
              "145455       NaN           E           31.0         SE  ...        51.0   \n",
              "145456       NaN         NNW           22.0         SE  ...        56.0   \n",
              "145457       NaN           N           37.0         SE  ...        53.0   \n",
              "145458       NaN          SE           28.0        SSE  ...        51.0   \n",
              "145459       NaN         NaN            NaN        ESE  ...        62.0   \n",
              "\n",
              "        Humidity3pm  Pressure9am  Pressure3pm  Cloud9am  Cloud3pm  Temp9am  \\\n",
              "0              22.0       1007.7       1007.1       8.0       NaN     16.9   \n",
              "1              25.0       1010.6       1007.8       NaN       NaN     17.2   \n",
              "2              30.0       1007.6       1008.7       NaN       2.0     21.0   \n",
              "3              16.0       1017.6       1012.8       NaN       NaN     18.1   \n",
              "4              33.0       1010.8       1006.0       7.0       8.0     17.8   \n",
              "...             ...          ...          ...       ...       ...      ...   \n",
              "145455         24.0       1024.6       1020.3       NaN       NaN     10.1   \n",
              "145456         21.0       1023.5       1019.1       NaN       NaN     10.9   \n",
              "145457         24.0       1021.0       1016.8       NaN       NaN     12.5   \n",
              "145458         24.0       1019.4       1016.5       3.0       2.0     15.1   \n",
              "145459         36.0       1020.2       1017.9       8.0       8.0     15.0   \n",
              "\n",
              "        Temp3pm  RainToday  RainTomorrow  \n",
              "0          21.8         No            No  \n",
              "1          24.3         No            No  \n",
              "2          23.2         No            No  \n",
              "3          26.5         No            No  \n",
              "4          29.7         No            No  \n",
              "...         ...        ...           ...  \n",
              "145455     22.4         No            No  \n",
              "145456     24.5         No            No  \n",
              "145457     26.1         No            No  \n",
              "145458     26.0         No            No  \n",
              "145459     20.9         No           NaN  \n",
              "\n",
              "[145460 rows x 23 columns]>"
            ]
          },
          "metadata": {},
          "execution_count": 5
        }
      ]
    },
    {
      "cell_type": "code",
      "source": [
        "#To check columns name\n",
        "\n",
        "RAIN.columns"
      ],
      "metadata": {
        "id": "nIEde7JRjCbT",
        "colab": {
          "base_uri": "https://localhost:8080/"
        },
        "outputId": "24d54c66-9027-4deb-ebb5-b80d680cc539"
      },
      "execution_count": null,
      "outputs": [
        {
          "output_type": "execute_result",
          "data": {
            "text/plain": [
              "Index(['Date', 'Location', 'MinTemp', 'MaxTemp', 'Rainfall', 'Evaporation',\n",
              "       'Sunshine', 'WindGustDir', 'WindGustSpeed', 'WindDir9am', 'WindDir3pm',\n",
              "       'WindSpeed9am', 'WindSpeed3pm', 'Humidity9am', 'Humidity3pm',\n",
              "       'Pressure9am', 'Pressure3pm', 'Cloud9am', 'Cloud3pm', 'Temp9am',\n",
              "       'Temp3pm', 'RainToday', 'RainTomorrow'],\n",
              "      dtype='object')"
            ]
          },
          "metadata": {},
          "execution_count": 6
        }
      ]
    },
    {
      "cell_type": "code",
      "source": [
        "#RENAME COLUMNS\n",
        "RAIN.rename(columns = {'MinTemp' : 'MiniTemp', 'MaxTemp' : 'MaxiTemp'}, inplace = True)"
      ],
      "metadata": {
        "id": "Bg5Nq3bMjFVL"
      },
      "execution_count": null,
      "outputs": []
    },
    {
      "cell_type": "code",
      "source": [
        "RAIN.info()"
      ],
      "metadata": {
        "id": "gSkwWLkVkAqC",
        "colab": {
          "base_uri": "https://localhost:8080/"
        },
        "outputId": "c47c30f3-4901-4dee-91e7-5ee436f91d2a"
      },
      "execution_count": null,
      "outputs": [
        {
          "output_type": "stream",
          "name": "stdout",
          "text": [
            "<class 'pandas.core.frame.DataFrame'>\n",
            "RangeIndex: 145460 entries, 0 to 145459\n",
            "Data columns (total 23 columns):\n",
            " #   Column         Non-Null Count   Dtype  \n",
            "---  ------         --------------   -----  \n",
            " 0   Date           145460 non-null  object \n",
            " 1   Location       145460 non-null  object \n",
            " 2   MiniTemp       143975 non-null  float64\n",
            " 3   MaxiTemp       144199 non-null  float64\n",
            " 4   Rainfall       142199 non-null  float64\n",
            " 5   Evaporation    82670 non-null   float64\n",
            " 6   Sunshine       75625 non-null   float64\n",
            " 7   WindGustDir    135134 non-null  object \n",
            " 8   WindGustSpeed  135197 non-null  float64\n",
            " 9   WindDir9am     134894 non-null  object \n",
            " 10  WindDir3pm     141232 non-null  object \n",
            " 11  WindSpeed9am   143693 non-null  float64\n",
            " 12  WindSpeed3pm   142398 non-null  float64\n",
            " 13  Humidity9am    142806 non-null  float64\n",
            " 14  Humidity3pm    140953 non-null  float64\n",
            " 15  Pressure9am    130395 non-null  float64\n",
            " 16  Pressure3pm    130432 non-null  float64\n",
            " 17  Cloud9am       89572 non-null   float64\n",
            " 18  Cloud3pm       86102 non-null   float64\n",
            " 19  Temp9am        143693 non-null  float64\n",
            " 20  Temp3pm        141851 non-null  float64\n",
            " 21  RainToday      142199 non-null  object \n",
            " 22  RainTomorrow   142193 non-null  object \n",
            "dtypes: float64(16), object(7)\n",
            "memory usage: 25.5+ MB\n"
          ]
        }
      ]
    },
    {
      "cell_type": "code",
      "source": [
        "#To check duplicate records in entire data\n",
        "\n",
        "RAIN.duplicated().sum()"
      ],
      "metadata": {
        "id": "wrPWxJWNkE5v",
        "colab": {
          "base_uri": "https://localhost:8080/"
        },
        "outputId": "f952ac93-506a-4c66-ef7c-e320a62728ab"
      },
      "execution_count": null,
      "outputs": [
        {
          "output_type": "execute_result",
          "data": {
            "text/plain": [
              "0"
            ]
          },
          "metadata": {},
          "execution_count": 9
        }
      ]
    },
    {
      "cell_type": "markdown",
      "source": [
        "#HANDLING NA VALUES"
      ],
      "metadata": {
        "id": "ULI1zXDcS5nh"
      }
    },
    {
      "cell_type": "code",
      "source": [
        "#Total no of NA/null values and arrange in descending order \n",
        "\n",
        "NA = RAIN.isnull().sum().sort_values(ascending = False)\n",
        "NA"
      ],
      "metadata": {
        "id": "RmVrp1QaAI-T",
        "colab": {
          "base_uri": "https://localhost:8080/"
        },
        "outputId": "7e7bb749-fef5-431b-ca78-844a1fdfc52b"
      },
      "execution_count": null,
      "outputs": [
        {
          "output_type": "execute_result",
          "data": {
            "text/plain": [
              "Sunshine         69835\n",
              "Evaporation      62790\n",
              "Cloud3pm         59358\n",
              "Cloud9am         55888\n",
              "Pressure9am      15065\n",
              "Pressure3pm      15028\n",
              "WindDir9am       10566\n",
              "WindGustDir      10326\n",
              "WindGustSpeed    10263\n",
              "Humidity3pm       4507\n",
              "WindDir3pm        4228\n",
              "Temp3pm           3609\n",
              "RainTomorrow      3267\n",
              "Rainfall          3261\n",
              "RainToday         3261\n",
              "WindSpeed3pm      3062\n",
              "Humidity9am       2654\n",
              "Temp9am           1767\n",
              "WindSpeed9am      1767\n",
              "MiniTemp          1485\n",
              "MaxiTemp          1261\n",
              "Location             0\n",
              "Date                 0\n",
              "dtype: int64"
            ]
          },
          "metadata": {},
          "execution_count": 10
        }
      ]
    },
    {
      "cell_type": "code",
      "source": [
        "#Extracting into excel\n",
        "\n",
        "NA.to_excel(\"Missing_Values.xls\")"
      ],
      "metadata": {
        "id": "XAEnZY60b67l"
      },
      "execution_count": null,
      "outputs": []
    },
    {
      "cell_type": "code",
      "source": [
        "# Drop attributes that having sufficient(10000 or more) no. of Null values\n",
        "\n",
        "RAIN = RAIN.drop(['Sunshine', 'Evaporation', 'Cloud3pm', 'Cloud9am', 'Pressure9am', 'Pressure3pm', 'WindDir9am', 'WindGustDir', 'WindGustSpeed'], axis = 1)"
      ],
      "metadata": {
        "id": "hgo0GLHMBjnw"
      },
      "execution_count": null,
      "outputs": []
    },
    {
      "cell_type": "markdown",
      "source": [
        "Here we drop those attributes which contains missing values equals to 10000 or more because if we randomly drop NA values where exist it will almost delete third part of my records. So that's why we remove attributes."
      ],
      "metadata": {
        "id": "EGBF_7GS59mc"
      }
    },
    {
      "cell_type": "code",
      "source": [
        "#To check changes\n",
        "RAIN.info()"
      ],
      "metadata": {
        "id": "_k8WF_3BB34J",
        "colab": {
          "base_uri": "https://localhost:8080/"
        },
        "outputId": "53ad06f3-8f84-4db1-d958-1fd1062531f2"
      },
      "execution_count": null,
      "outputs": [
        {
          "output_type": "stream",
          "name": "stdout",
          "text": [
            "<class 'pandas.core.frame.DataFrame'>\n",
            "RangeIndex: 145460 entries, 0 to 145459\n",
            "Data columns (total 14 columns):\n",
            " #   Column        Non-Null Count   Dtype  \n",
            "---  ------        --------------   -----  \n",
            " 0   Date          145460 non-null  object \n",
            " 1   Location      145460 non-null  object \n",
            " 2   MiniTemp      143975 non-null  float64\n",
            " 3   MaxiTemp      144199 non-null  float64\n",
            " 4   Rainfall      142199 non-null  float64\n",
            " 5   WindDir3pm    141232 non-null  object \n",
            " 6   WindSpeed9am  143693 non-null  float64\n",
            " 7   WindSpeed3pm  142398 non-null  float64\n",
            " 8   Humidity9am   142806 non-null  float64\n",
            " 9   Humidity3pm   140953 non-null  float64\n",
            " 10  Temp9am       143693 non-null  float64\n",
            " 11  Temp3pm       141851 non-null  float64\n",
            " 12  RainToday     142199 non-null  object \n",
            " 13  RainTomorrow  142193 non-null  object \n",
            "dtypes: float64(9), object(5)\n",
            "memory usage: 15.5+ MB\n"
          ]
        }
      ]
    },
    {
      "cell_type": "code",
      "source": [
        "# To drop NA value(less than 10000)\n",
        "RAIN = RAIN.dropna(how = \"any\", inplace = False )"
      ],
      "metadata": {
        "id": "LE2ba6j-AKlw"
      },
      "execution_count": null,
      "outputs": []
    },
    {
      "cell_type": "markdown",
      "source": [
        "Here we remove NA values randomly(whereever it occurs)for those whose values is less than 10000."
      ],
      "metadata": {
        "id": "1zF4CUUM9_SH"
      }
    },
    {
      "cell_type": "code",
      "source": [
        "# To check changes\n",
        "RAIN.isna().sum()"
      ],
      "metadata": {
        "id": "lecMJL7VAUoL",
        "colab": {
          "base_uri": "https://localhost:8080/"
        },
        "outputId": "137c50cf-416c-46c6-fb2e-3d4a6b634ba2"
      },
      "execution_count": null,
      "outputs": [
        {
          "output_type": "execute_result",
          "data": {
            "text/plain": [
              "Date            0\n",
              "Location        0\n",
              "MiniTemp        0\n",
              "MaxiTemp        0\n",
              "Rainfall        0\n",
              "WindDir3pm      0\n",
              "WindSpeed9am    0\n",
              "WindSpeed3pm    0\n",
              "Humidity9am     0\n",
              "Humidity3pm     0\n",
              "Temp9am         0\n",
              "Temp3pm         0\n",
              "RainToday       0\n",
              "RainTomorrow    0\n",
              "dtype: int64"
            ]
          },
          "metadata": {},
          "execution_count": 15
        }
      ]
    },
    {
      "cell_type": "code",
      "source": [
        "# For numerical values\n",
        "\n",
        "RAIN.describe()"
      ],
      "metadata": {
        "colab": {
          "base_uri": "https://localhost:8080/",
          "height": 364
        },
        "id": "mseupnzvwKEB",
        "outputId": "c75a7162-2dd5-421e-eeb7-9fde13402662"
      },
      "execution_count": null,
      "outputs": [
        {
          "output_type": "execute_result",
          "data": {
            "text/plain": [
              "            MiniTemp       MaxiTemp       Rainfall   WindSpeed9am  \\\n",
              "count  134590.000000  134590.000000  134590.000000  134590.000000   \n",
              "mean       12.189509      23.260816       2.314654      14.118055   \n",
              "std         6.375591       7.062406       8.375341       8.832280   \n",
              "min        -8.500000      -4.800000       0.000000       0.000000   \n",
              "25%         7.600000      18.000000       0.000000       7.000000   \n",
              "50%        12.000000      22.700000       0.000000      13.000000   \n",
              "75%        16.800000      28.200000       0.600000      19.000000   \n",
              "max        33.900000      48.100000     371.000000      87.000000   \n",
              "\n",
              "        WindSpeed3pm    Humidity9am    Humidity3pm        Temp9am  \\\n",
              "count  134590.000000  134590.000000  134590.000000  134590.000000   \n",
              "mean       18.816286      68.659744      51.273891      16.978469   \n",
              "std         8.687083      19.091036      20.754483       6.471002   \n",
              "min         2.000000       0.000000       0.000000      -7.200000   \n",
              "25%        13.000000      57.000000      36.000000      12.300000   \n",
              "50%        19.000000      70.000000      52.000000      16.700000   \n",
              "75%        24.000000      83.000000      65.000000      21.500000   \n",
              "max        87.000000     100.000000     100.000000      40.200000   \n",
              "\n",
              "             Temp3pm  \n",
              "count  134590.000000  \n",
              "mean       21.749529  \n",
              "std         6.923049  \n",
              "min        -5.400000  \n",
              "25%        16.700000  \n",
              "50%        21.200000  \n",
              "75%        26.500000  \n",
              "max        46.700000  "
            ],
            "text/html": [
              "\n",
              "  <div id=\"df-42d2b422-7252-439a-a006-63fdd5b398a8\">\n",
              "    <div class=\"colab-df-container\">\n",
              "      <div>\n",
              "<style scoped>\n",
              "    .dataframe tbody tr th:only-of-type {\n",
              "        vertical-align: middle;\n",
              "    }\n",
              "\n",
              "    .dataframe tbody tr th {\n",
              "        vertical-align: top;\n",
              "    }\n",
              "\n",
              "    .dataframe thead th {\n",
              "        text-align: right;\n",
              "    }\n",
              "</style>\n",
              "<table border=\"1\" class=\"dataframe\">\n",
              "  <thead>\n",
              "    <tr style=\"text-align: right;\">\n",
              "      <th></th>\n",
              "      <th>MiniTemp</th>\n",
              "      <th>MaxiTemp</th>\n",
              "      <th>Rainfall</th>\n",
              "      <th>WindSpeed9am</th>\n",
              "      <th>WindSpeed3pm</th>\n",
              "      <th>Humidity9am</th>\n",
              "      <th>Humidity3pm</th>\n",
              "      <th>Temp9am</th>\n",
              "      <th>Temp3pm</th>\n",
              "    </tr>\n",
              "  </thead>\n",
              "  <tbody>\n",
              "    <tr>\n",
              "      <th>count</th>\n",
              "      <td>134590.000000</td>\n",
              "      <td>134590.000000</td>\n",
              "      <td>134590.000000</td>\n",
              "      <td>134590.000000</td>\n",
              "      <td>134590.000000</td>\n",
              "      <td>134590.000000</td>\n",
              "      <td>134590.000000</td>\n",
              "      <td>134590.000000</td>\n",
              "      <td>134590.000000</td>\n",
              "    </tr>\n",
              "    <tr>\n",
              "      <th>mean</th>\n",
              "      <td>12.189509</td>\n",
              "      <td>23.260816</td>\n",
              "      <td>2.314654</td>\n",
              "      <td>14.118055</td>\n",
              "      <td>18.816286</td>\n",
              "      <td>68.659744</td>\n",
              "      <td>51.273891</td>\n",
              "      <td>16.978469</td>\n",
              "      <td>21.749529</td>\n",
              "    </tr>\n",
              "    <tr>\n",
              "      <th>std</th>\n",
              "      <td>6.375591</td>\n",
              "      <td>7.062406</td>\n",
              "      <td>8.375341</td>\n",
              "      <td>8.832280</td>\n",
              "      <td>8.687083</td>\n",
              "      <td>19.091036</td>\n",
              "      <td>20.754483</td>\n",
              "      <td>6.471002</td>\n",
              "      <td>6.923049</td>\n",
              "    </tr>\n",
              "    <tr>\n",
              "      <th>min</th>\n",
              "      <td>-8.500000</td>\n",
              "      <td>-4.800000</td>\n",
              "      <td>0.000000</td>\n",
              "      <td>0.000000</td>\n",
              "      <td>2.000000</td>\n",
              "      <td>0.000000</td>\n",
              "      <td>0.000000</td>\n",
              "      <td>-7.200000</td>\n",
              "      <td>-5.400000</td>\n",
              "    </tr>\n",
              "    <tr>\n",
              "      <th>25%</th>\n",
              "      <td>7.600000</td>\n",
              "      <td>18.000000</td>\n",
              "      <td>0.000000</td>\n",
              "      <td>7.000000</td>\n",
              "      <td>13.000000</td>\n",
              "      <td>57.000000</td>\n",
              "      <td>36.000000</td>\n",
              "      <td>12.300000</td>\n",
              "      <td>16.700000</td>\n",
              "    </tr>\n",
              "    <tr>\n",
              "      <th>50%</th>\n",
              "      <td>12.000000</td>\n",
              "      <td>22.700000</td>\n",
              "      <td>0.000000</td>\n",
              "      <td>13.000000</td>\n",
              "      <td>19.000000</td>\n",
              "      <td>70.000000</td>\n",
              "      <td>52.000000</td>\n",
              "      <td>16.700000</td>\n",
              "      <td>21.200000</td>\n",
              "    </tr>\n",
              "    <tr>\n",
              "      <th>75%</th>\n",
              "      <td>16.800000</td>\n",
              "      <td>28.200000</td>\n",
              "      <td>0.600000</td>\n",
              "      <td>19.000000</td>\n",
              "      <td>24.000000</td>\n",
              "      <td>83.000000</td>\n",
              "      <td>65.000000</td>\n",
              "      <td>21.500000</td>\n",
              "      <td>26.500000</td>\n",
              "    </tr>\n",
              "    <tr>\n",
              "      <th>max</th>\n",
              "      <td>33.900000</td>\n",
              "      <td>48.100000</td>\n",
              "      <td>371.000000</td>\n",
              "      <td>87.000000</td>\n",
              "      <td>87.000000</td>\n",
              "      <td>100.000000</td>\n",
              "      <td>100.000000</td>\n",
              "      <td>40.200000</td>\n",
              "      <td>46.700000</td>\n",
              "    </tr>\n",
              "  </tbody>\n",
              "</table>\n",
              "</div>\n",
              "      <button class=\"colab-df-convert\" onclick=\"convertToInteractive('df-42d2b422-7252-439a-a006-63fdd5b398a8')\"\n",
              "              title=\"Convert this dataframe to an interactive table.\"\n",
              "              style=\"display:none;\">\n",
              "        \n",
              "  <svg xmlns=\"http://www.w3.org/2000/svg\" height=\"24px\"viewBox=\"0 0 24 24\"\n",
              "       width=\"24px\">\n",
              "    <path d=\"M0 0h24v24H0V0z\" fill=\"none\"/>\n",
              "    <path d=\"M18.56 5.44l.94 2.06.94-2.06 2.06-.94-2.06-.94-.94-2.06-.94 2.06-2.06.94zm-11 1L8.5 8.5l.94-2.06 2.06-.94-2.06-.94L8.5 2.5l-.94 2.06-2.06.94zm10 10l.94 2.06.94-2.06 2.06-.94-2.06-.94-.94-2.06-.94 2.06-2.06.94z\"/><path d=\"M17.41 7.96l-1.37-1.37c-.4-.4-.92-.59-1.43-.59-.52 0-1.04.2-1.43.59L10.3 9.45l-7.72 7.72c-.78.78-.78 2.05 0 2.83L4 21.41c.39.39.9.59 1.41.59.51 0 1.02-.2 1.41-.59l7.78-7.78 2.81-2.81c.8-.78.8-2.07 0-2.86zM5.41 20L4 18.59l7.72-7.72 1.47 1.35L5.41 20z\"/>\n",
              "  </svg>\n",
              "      </button>\n",
              "      \n",
              "  <style>\n",
              "    .colab-df-container {\n",
              "      display:flex;\n",
              "      flex-wrap:wrap;\n",
              "      gap: 12px;\n",
              "    }\n",
              "\n",
              "    .colab-df-convert {\n",
              "      background-color: #E8F0FE;\n",
              "      border: none;\n",
              "      border-radius: 50%;\n",
              "      cursor: pointer;\n",
              "      display: none;\n",
              "      fill: #1967D2;\n",
              "      height: 32px;\n",
              "      padding: 0 0 0 0;\n",
              "      width: 32px;\n",
              "    }\n",
              "\n",
              "    .colab-df-convert:hover {\n",
              "      background-color: #E2EBFA;\n",
              "      box-shadow: 0px 1px 2px rgba(60, 64, 67, 0.3), 0px 1px 3px 1px rgba(60, 64, 67, 0.15);\n",
              "      fill: #174EA6;\n",
              "    }\n",
              "\n",
              "    [theme=dark] .colab-df-convert {\n",
              "      background-color: #3B4455;\n",
              "      fill: #D2E3FC;\n",
              "    }\n",
              "\n",
              "    [theme=dark] .colab-df-convert:hover {\n",
              "      background-color: #434B5C;\n",
              "      box-shadow: 0px 1px 3px 1px rgba(0, 0, 0, 0.15);\n",
              "      filter: drop-shadow(0px 1px 2px rgba(0, 0, 0, 0.3));\n",
              "      fill: #FFFFFF;\n",
              "    }\n",
              "  </style>\n",
              "\n",
              "      <script>\n",
              "        const buttonEl =\n",
              "          document.querySelector('#df-42d2b422-7252-439a-a006-63fdd5b398a8 button.colab-df-convert');\n",
              "        buttonEl.style.display =\n",
              "          google.colab.kernel.accessAllowed ? 'block' : 'none';\n",
              "\n",
              "        async function convertToInteractive(key) {\n",
              "          const element = document.querySelector('#df-42d2b422-7252-439a-a006-63fdd5b398a8');\n",
              "          const dataTable =\n",
              "            await google.colab.kernel.invokeFunction('convertToInteractive',\n",
              "                                                     [key], {});\n",
              "          if (!dataTable) return;\n",
              "\n",
              "          const docLinkHtml = 'Like what you see? Visit the ' +\n",
              "            '<a target=\"_blank\" href=https://colab.research.google.com/notebooks/data_table.ipynb>data table notebook</a>'\n",
              "            + ' to learn more about interactive tables.';\n",
              "          element.innerHTML = '';\n",
              "          dataTable['output_type'] = 'display_data';\n",
              "          await google.colab.output.renderOutput(dataTable, element);\n",
              "          const docLink = document.createElement('div');\n",
              "          docLink.innerHTML = docLinkHtml;\n",
              "          element.appendChild(docLink);\n",
              "        }\n",
              "      </script>\n",
              "    </div>\n",
              "  </div>\n",
              "  "
            ]
          },
          "metadata": {},
          "execution_count": 16
        }
      ]
    },
    {
      "cell_type": "code",
      "source": [
        "#To show desired no of values after decimal\n",
        "\n",
        "round(RAIN.describe(),0)"
      ],
      "metadata": {
        "colab": {
          "base_uri": "https://localhost:8080/",
          "height": 300
        },
        "id": "HLzhou51wLEA",
        "outputId": "5abf577f-4c76-4c7d-abea-ab0de5a580db"
      },
      "execution_count": null,
      "outputs": [
        {
          "output_type": "execute_result",
          "data": {
            "text/plain": [
              "       MiniTemp  MaxiTemp  Rainfall  WindSpeed9am  WindSpeed3pm  Humidity9am  \\\n",
              "count  134590.0  134590.0  134590.0      134590.0      134590.0     134590.0   \n",
              "mean       12.0      23.0       2.0          14.0          19.0         69.0   \n",
              "std         6.0       7.0       8.0           9.0           9.0         19.0   \n",
              "min        -8.0      -5.0       0.0           0.0           2.0          0.0   \n",
              "25%         8.0      18.0       0.0           7.0          13.0         57.0   \n",
              "50%        12.0      23.0       0.0          13.0          19.0         70.0   \n",
              "75%        17.0      28.0       1.0          19.0          24.0         83.0   \n",
              "max        34.0      48.0     371.0          87.0          87.0        100.0   \n",
              "\n",
              "       Humidity3pm   Temp9am   Temp3pm  \n",
              "count     134590.0  134590.0  134590.0  \n",
              "mean          51.0      17.0      22.0  \n",
              "std           21.0       6.0       7.0  \n",
              "min            0.0      -7.0      -5.0  \n",
              "25%           36.0      12.0      17.0  \n",
              "50%           52.0      17.0      21.0  \n",
              "75%           65.0      22.0      26.0  \n",
              "max          100.0      40.0      47.0  "
            ],
            "text/html": [
              "\n",
              "  <div id=\"df-b0f0de19-605a-4453-adcf-3aeccacb7561\">\n",
              "    <div class=\"colab-df-container\">\n",
              "      <div>\n",
              "<style scoped>\n",
              "    .dataframe tbody tr th:only-of-type {\n",
              "        vertical-align: middle;\n",
              "    }\n",
              "\n",
              "    .dataframe tbody tr th {\n",
              "        vertical-align: top;\n",
              "    }\n",
              "\n",
              "    .dataframe thead th {\n",
              "        text-align: right;\n",
              "    }\n",
              "</style>\n",
              "<table border=\"1\" class=\"dataframe\">\n",
              "  <thead>\n",
              "    <tr style=\"text-align: right;\">\n",
              "      <th></th>\n",
              "      <th>MiniTemp</th>\n",
              "      <th>MaxiTemp</th>\n",
              "      <th>Rainfall</th>\n",
              "      <th>WindSpeed9am</th>\n",
              "      <th>WindSpeed3pm</th>\n",
              "      <th>Humidity9am</th>\n",
              "      <th>Humidity3pm</th>\n",
              "      <th>Temp9am</th>\n",
              "      <th>Temp3pm</th>\n",
              "    </tr>\n",
              "  </thead>\n",
              "  <tbody>\n",
              "    <tr>\n",
              "      <th>count</th>\n",
              "      <td>134590.0</td>\n",
              "      <td>134590.0</td>\n",
              "      <td>134590.0</td>\n",
              "      <td>134590.0</td>\n",
              "      <td>134590.0</td>\n",
              "      <td>134590.0</td>\n",
              "      <td>134590.0</td>\n",
              "      <td>134590.0</td>\n",
              "      <td>134590.0</td>\n",
              "    </tr>\n",
              "    <tr>\n",
              "      <th>mean</th>\n",
              "      <td>12.0</td>\n",
              "      <td>23.0</td>\n",
              "      <td>2.0</td>\n",
              "      <td>14.0</td>\n",
              "      <td>19.0</td>\n",
              "      <td>69.0</td>\n",
              "      <td>51.0</td>\n",
              "      <td>17.0</td>\n",
              "      <td>22.0</td>\n",
              "    </tr>\n",
              "    <tr>\n",
              "      <th>std</th>\n",
              "      <td>6.0</td>\n",
              "      <td>7.0</td>\n",
              "      <td>8.0</td>\n",
              "      <td>9.0</td>\n",
              "      <td>9.0</td>\n",
              "      <td>19.0</td>\n",
              "      <td>21.0</td>\n",
              "      <td>6.0</td>\n",
              "      <td>7.0</td>\n",
              "    </tr>\n",
              "    <tr>\n",
              "      <th>min</th>\n",
              "      <td>-8.0</td>\n",
              "      <td>-5.0</td>\n",
              "      <td>0.0</td>\n",
              "      <td>0.0</td>\n",
              "      <td>2.0</td>\n",
              "      <td>0.0</td>\n",
              "      <td>0.0</td>\n",
              "      <td>-7.0</td>\n",
              "      <td>-5.0</td>\n",
              "    </tr>\n",
              "    <tr>\n",
              "      <th>25%</th>\n",
              "      <td>8.0</td>\n",
              "      <td>18.0</td>\n",
              "      <td>0.0</td>\n",
              "      <td>7.0</td>\n",
              "      <td>13.0</td>\n",
              "      <td>57.0</td>\n",
              "      <td>36.0</td>\n",
              "      <td>12.0</td>\n",
              "      <td>17.0</td>\n",
              "    </tr>\n",
              "    <tr>\n",
              "      <th>50%</th>\n",
              "      <td>12.0</td>\n",
              "      <td>23.0</td>\n",
              "      <td>0.0</td>\n",
              "      <td>13.0</td>\n",
              "      <td>19.0</td>\n",
              "      <td>70.0</td>\n",
              "      <td>52.0</td>\n",
              "      <td>17.0</td>\n",
              "      <td>21.0</td>\n",
              "    </tr>\n",
              "    <tr>\n",
              "      <th>75%</th>\n",
              "      <td>17.0</td>\n",
              "      <td>28.0</td>\n",
              "      <td>1.0</td>\n",
              "      <td>19.0</td>\n",
              "      <td>24.0</td>\n",
              "      <td>83.0</td>\n",
              "      <td>65.0</td>\n",
              "      <td>22.0</td>\n",
              "      <td>26.0</td>\n",
              "    </tr>\n",
              "    <tr>\n",
              "      <th>max</th>\n",
              "      <td>34.0</td>\n",
              "      <td>48.0</td>\n",
              "      <td>371.0</td>\n",
              "      <td>87.0</td>\n",
              "      <td>87.0</td>\n",
              "      <td>100.0</td>\n",
              "      <td>100.0</td>\n",
              "      <td>40.0</td>\n",
              "      <td>47.0</td>\n",
              "    </tr>\n",
              "  </tbody>\n",
              "</table>\n",
              "</div>\n",
              "      <button class=\"colab-df-convert\" onclick=\"convertToInteractive('df-b0f0de19-605a-4453-adcf-3aeccacb7561')\"\n",
              "              title=\"Convert this dataframe to an interactive table.\"\n",
              "              style=\"display:none;\">\n",
              "        \n",
              "  <svg xmlns=\"http://www.w3.org/2000/svg\" height=\"24px\"viewBox=\"0 0 24 24\"\n",
              "       width=\"24px\">\n",
              "    <path d=\"M0 0h24v24H0V0z\" fill=\"none\"/>\n",
              "    <path d=\"M18.56 5.44l.94 2.06.94-2.06 2.06-.94-2.06-.94-.94-2.06-.94 2.06-2.06.94zm-11 1L8.5 8.5l.94-2.06 2.06-.94-2.06-.94L8.5 2.5l-.94 2.06-2.06.94zm10 10l.94 2.06.94-2.06 2.06-.94-2.06-.94-.94-2.06-.94 2.06-2.06.94z\"/><path d=\"M17.41 7.96l-1.37-1.37c-.4-.4-.92-.59-1.43-.59-.52 0-1.04.2-1.43.59L10.3 9.45l-7.72 7.72c-.78.78-.78 2.05 0 2.83L4 21.41c.39.39.9.59 1.41.59.51 0 1.02-.2 1.41-.59l7.78-7.78 2.81-2.81c.8-.78.8-2.07 0-2.86zM5.41 20L4 18.59l7.72-7.72 1.47 1.35L5.41 20z\"/>\n",
              "  </svg>\n",
              "      </button>\n",
              "      \n",
              "  <style>\n",
              "    .colab-df-container {\n",
              "      display:flex;\n",
              "      flex-wrap:wrap;\n",
              "      gap: 12px;\n",
              "    }\n",
              "\n",
              "    .colab-df-convert {\n",
              "      background-color: #E8F0FE;\n",
              "      border: none;\n",
              "      border-radius: 50%;\n",
              "      cursor: pointer;\n",
              "      display: none;\n",
              "      fill: #1967D2;\n",
              "      height: 32px;\n",
              "      padding: 0 0 0 0;\n",
              "      width: 32px;\n",
              "    }\n",
              "\n",
              "    .colab-df-convert:hover {\n",
              "      background-color: #E2EBFA;\n",
              "      box-shadow: 0px 1px 2px rgba(60, 64, 67, 0.3), 0px 1px 3px 1px rgba(60, 64, 67, 0.15);\n",
              "      fill: #174EA6;\n",
              "    }\n",
              "\n",
              "    [theme=dark] .colab-df-convert {\n",
              "      background-color: #3B4455;\n",
              "      fill: #D2E3FC;\n",
              "    }\n",
              "\n",
              "    [theme=dark] .colab-df-convert:hover {\n",
              "      background-color: #434B5C;\n",
              "      box-shadow: 0px 1px 3px 1px rgba(0, 0, 0, 0.15);\n",
              "      filter: drop-shadow(0px 1px 2px rgba(0, 0, 0, 0.3));\n",
              "      fill: #FFFFFF;\n",
              "    }\n",
              "  </style>\n",
              "\n",
              "      <script>\n",
              "        const buttonEl =\n",
              "          document.querySelector('#df-b0f0de19-605a-4453-adcf-3aeccacb7561 button.colab-df-convert');\n",
              "        buttonEl.style.display =\n",
              "          google.colab.kernel.accessAllowed ? 'block' : 'none';\n",
              "\n",
              "        async function convertToInteractive(key) {\n",
              "          const element = document.querySelector('#df-b0f0de19-605a-4453-adcf-3aeccacb7561');\n",
              "          const dataTable =\n",
              "            await google.colab.kernel.invokeFunction('convertToInteractive',\n",
              "                                                     [key], {});\n",
              "          if (!dataTable) return;\n",
              "\n",
              "          const docLinkHtml = 'Like what you see? Visit the ' +\n",
              "            '<a target=\"_blank\" href=https://colab.research.google.com/notebooks/data_table.ipynb>data table notebook</a>'\n",
              "            + ' to learn more about interactive tables.';\n",
              "          element.innerHTML = '';\n",
              "          dataTable['output_type'] = 'display_data';\n",
              "          await google.colab.output.renderOutput(dataTable, element);\n",
              "          const docLink = document.createElement('div');\n",
              "          docLink.innerHTML = docLinkHtml;\n",
              "          element.appendChild(docLink);\n",
              "        }\n",
              "      </script>\n",
              "    </div>\n",
              "  </div>\n",
              "  "
            ]
          },
          "metadata": {},
          "execution_count": 17
        }
      ]
    },
    {
      "cell_type": "markdown",
      "source": [
        "#To extract previous result into excel."
      ],
      "metadata": {
        "id": "2K8FK3vowauB"
      }
    },
    {
      "cell_type": "code",
      "source": [
        "#Transpose of numerical attributes(converting rows into attributes and attributes into rows)\n",
        "\n",
        "NumericAttribute = round(RAIN.describe().T,0)\n",
        "NumericAttribute\n",
        "\n",
        "# Previous to excel\n",
        "\n",
        "NumericAttribute.to_excel(\"NumAtt.xls\")"
      ],
      "metadata": {
        "id": "o3Gl-lhTwVIe"
      },
      "execution_count": null,
      "outputs": []
    },
    {
      "cell_type": "code",
      "source": [
        "RAIN.dtypes"
      ],
      "metadata": {
        "id": "4voIVFIzmLAG",
        "colab": {
          "base_uri": "https://localhost:8080/"
        },
        "outputId": "95710296-eb3c-4139-a3ea-7115229271e5"
      },
      "execution_count": null,
      "outputs": [
        {
          "output_type": "execute_result",
          "data": {
            "text/plain": [
              "Date             object\n",
              "Location         object\n",
              "MiniTemp        float64\n",
              "MaxiTemp        float64\n",
              "Rainfall        float64\n",
              "WindDir3pm       object\n",
              "WindSpeed9am    float64\n",
              "WindSpeed3pm    float64\n",
              "Humidity9am     float64\n",
              "Humidity3pm     float64\n",
              "Temp9am         float64\n",
              "Temp3pm         float64\n",
              "RainToday        object\n",
              "RainTomorrow     object\n",
              "dtype: object"
            ]
          },
          "metadata": {},
          "execution_count": 19
        }
      ]
    },
    {
      "cell_type": "markdown",
      "source": [
        "#COVERTING DATATYPES"
      ],
      "metadata": {
        "id": "ZK3HwabPTv_8"
      }
    },
    {
      "cell_type": "code",
      "source": [
        "# To convert Date attribute from object to datetime\n",
        "\n",
        "RAIN[\"Date\"] = pd.to_datetime(RAIN['Date'])"
      ],
      "metadata": {
        "id": "cCfZcrOEA9a5"
      },
      "execution_count": null,
      "outputs": []
    },
    {
      "cell_type": "code",
      "source": [
        "#To convert float into numeric then to integer\n",
        "\n",
        "RAIN[\"MiniTemp\"] = pd.to_numeric(RAIN['MiniTemp'])\n",
        "RAIN[\"MaxiTemp\"] = pd.to_numeric(RAIN['MaxiTemp'])\n",
        "RAIN[\"Rainfall\"] = pd.to_numeric(RAIN['Rainfall'])\n",
        "RAIN[\"Humidity9am\"] = pd.to_numeric(RAIN['Humidity9am'])\n",
        "RAIN[\"Humidity3pm\"] = pd.to_numeric(RAIN['Humidity3pm'])\n",
        "RAIN[\"Temp9am\"] = pd.to_numeric(RAIN['Temp9am'])\n",
        "RAIN[\"Temp3pm\"] = pd.to_numeric(RAIN['Temp3pm'])"
      ],
      "metadata": {
        "id": "flz8Prgc3Y7c"
      },
      "execution_count": null,
      "outputs": []
    },
    {
      "cell_type": "code",
      "source": [
        "#From numeric to int\n",
        "\n",
        "RAIN[\"MiniTemp\"] = RAIN[\"MiniTemp\"].astype(\"int\")\n",
        "RAIN[\"MaxiTemp\"] = RAIN[\"MaxiTemp\"].astype(\"int\")\n",
        "RAIN[\"Rainfall\"] = RAIN[\"Rainfall\"].astype(\"int\")\n",
        "RAIN[\"Humidity9am\"] = RAIN[\"Humidity9am\"].astype(\"int\")\n",
        "RAIN[\"Humidity3pm\"] = RAIN[\"Humidity3pm\"].astype(\"int\")\n",
        "RAIN[\"Temp9am\"] = RAIN[\"Temp9am\"].astype(\"int\")\n",
        "RAIN[\"Temp3pm\"] = RAIN[\"Temp3pm\"].astype(\"int\")\n",
        "RAIN[\"Location\"]= RAIN[\"Location\"].astype(\"category\")\n",
        "RAIN[\"WindDir3pm\"]= RAIN[\"WindDir3pm\"].astype(\"category\")\n",
        "RAIN[\"RainToday\"]= RAIN[\"RainToday\"].astype(\"category\")\n",
        "RAIN['RainTomorrow'] = [1 if i == 'Yes' else 0 for i in RAIN['RainTomorrow']]"
      ],
      "metadata": {
        "id": "rTg2apvv-_ac"
      },
      "execution_count": null,
      "outputs": []
    },
    {
      "cell_type": "code",
      "source": [
        "RAIN.dtypes"
      ],
      "metadata": {
        "id": "gtYVLqU1C8A5",
        "colab": {
          "base_uri": "https://localhost:8080/"
        },
        "outputId": "05543298-1289-43a4-c806-1d77aaab40d4"
      },
      "execution_count": null,
      "outputs": [
        {
          "output_type": "execute_result",
          "data": {
            "text/plain": [
              "Date            datetime64[ns]\n",
              "Location              category\n",
              "MiniTemp                 int64\n",
              "MaxiTemp                 int64\n",
              "Rainfall                 int64\n",
              "WindDir3pm            category\n",
              "WindSpeed9am           float64\n",
              "WindSpeed3pm           float64\n",
              "Humidity9am              int64\n",
              "Humidity3pm              int64\n",
              "Temp9am                  int64\n",
              "Temp3pm                  int64\n",
              "RainToday             category\n",
              "RainTomorrow             int64\n",
              "dtype: object"
            ]
          },
          "metadata": {},
          "execution_count": 23
        }
      ]
    },
    {
      "cell_type": "code",
      "source": [
        "# To check unique values(level of categories)\n",
        "\n",
        "RAIN[\"Rainfall\"].unique()\n"
      ],
      "metadata": {
        "id": "527e5bO_qMEA",
        "colab": {
          "base_uri": "https://localhost:8080/"
        },
        "outputId": "a9bb9e25-843b-47e4-8583-588bb464065f"
      },
      "execution_count": null,
      "outputs": [
        {
          "output_type": "execute_result",
          "data": {
            "text/plain": [
              "array([  0,   1,   2,  15,   3,  16,  10,   6,   5,  11,   8,  12,  20,\n",
              "        21,   4,  14,   7,   9,  13,  28,  25,  52,  66,  17,  18,  24,\n",
              "        19,  22,  32,  50,  35,  99,  51,  39,  30,  34,  26,  38, 104,\n",
              "        36,  29,  27,  33,  53,  37,  31,  41,  46,  23,  42,  43,  61,\n",
              "        48,  67,  82, 116,  47,  40,  44,  83, 100, 109,  54,  49,  68,\n",
              "        63, 189,  58,  59,  76,  55,  70,  71, 141,  96, 371,  80,  56,\n",
              "        45,  90, 128,  73,  72, 105, 102, 103, 127,  62, 112, 153,  97,\n",
              "        86, 159, 208, 172, 106, 147,  75,  65, 157, 113, 219, 142,  64,\n",
              "        74,  92, 132,  69, 126, 120,  89, 107,  79,  84,  57, 111, 122,\n",
              "       156, 115, 101,  85,  81,  78,  77,  88,  95, 119,  94,  93,  60,\n",
              "        91, 110, 134, 166, 114, 225, 139, 192, 118, 164,  87, 155, 121,\n",
              "       168, 145, 182,  98, 278, 140, 268, 183, 206, 136, 150, 161, 175,\n",
              "       247, 158, 143, 178, 108, 129, 177, 236, 165, 170, 148, 144, 174,\n",
              "       124, 162, 131, 367, 184, 210, 117])"
            ]
          },
          "metadata": {},
          "execution_count": 24
        }
      ]
    },
    {
      "cell_type": "code",
      "source": [
        "#To check no. of counts in each category of an attribute\n",
        "RAIN.Location.value_counts()"
      ],
      "metadata": {
        "id": "4Gri0fA8qUXU",
        "colab": {
          "base_uri": "https://localhost:8080/"
        },
        "outputId": "be640a1d-cd99-4098-dd5d-80c4d8a80543"
      },
      "execution_count": null,
      "outputs": [
        {
          "output_type": "execute_result",
          "data": {
            "text/plain": [
              "Sydney              3264\n",
              "Darwin              3185\n",
              "Perth               3174\n",
              "Hobart              3146\n",
              "Canberra            3104\n",
              "Brisbane            3095\n",
              "Townsville          3023\n",
              "AliceSprings        3014\n",
              "PerthAirport        3006\n",
              "Adelaide            3000\n",
              "SydneyAirport       2991\n",
              "Mildura             2991\n",
              "MountGambier        2989\n",
              "MelbourneAirport    2985\n",
              "Bendigo             2979\n",
              "Ballarat            2976\n",
              "Cairns              2959\n",
              "Launceston          2958\n",
              "Sale                2951\n",
              "Albury              2942\n",
              "WaggaWagga          2940\n",
              "Watsonia            2938\n",
              "Woomera             2933\n",
              "Nuriootpa           2932\n",
              "NorfolkIsland       2931\n",
              "Portland            2915\n",
              "Wollongong          2912\n",
              "Tuggeranong         2908\n",
              "SalmonGums          2891\n",
              "GoldCoast           2870\n",
              "Cobar               2854\n",
              "NorahHead           2854\n",
              "BadgerysCreek       2802\n",
              "Penrith             2798\n",
              "Richmond            2782\n",
              "Dartmoor            2742\n",
              "Moree               2729\n",
              "Walpole             2705\n",
              "CoffsHarbour        2662\n",
              "Witchcliffe         2660\n",
              "PearceRAAF          2595\n",
              "MountGinini         2374\n",
              "Williamtown         2345\n",
              "Melbourne           2279\n",
              "Albany              2221\n",
              "Nhil                1565\n",
              "Newcastle           1549\n",
              "Uluru               1476\n",
              "Katherine            696\n",
              "Name: Location, dtype: int64"
            ]
          },
          "metadata": {},
          "execution_count": 25
        }
      ]
    },
    {
      "cell_type": "markdown",
      "source": [
        "#HISTOGRAMS AND BOXPLOTS TO CHECK OUTLIERS\n",
        "\n"
      ],
      "metadata": {
        "id": "b9QChuUCSgLy"
      }
    },
    {
      "cell_type": "code",
      "source": [
        "#Boxplots OF WindSpeed9am\n",
        "\n",
        "\n",
        "fig, axes = plt.subplots(2, 1, figsize=(10, 10))\n",
        "\n",
        "sns.histplot(RAIN['WindSpeed9am'],bins=20, kde=True,ax =axes [0]);\n",
        "sns.boxplot('WindSpeed9am', data = RAIN, ax = axes[1])\n",
        "axes[1]\n",
        "plt.savefig('WindSpeed9am.jpg')"
      ],
      "metadata": {
        "colab": {
          "base_uri": "https://localhost:8080/",
          "height": 606
        },
        "id": "IxKzJ2XLX-56",
        "outputId": "49c82d23-0b3f-4e24-a8c0-27b97f33a71a"
      },
      "execution_count": null,
      "outputs": [
        {
          "output_type": "display_data",
          "data": {
            "text/plain": [
              "<Figure size 720x720 with 2 Axes>"
            ],
            "image/png": "[encoded data removed]"
          },
          "metadata": {
            "needs_background": "light"
          }
        }
      ]
    },
    {
      "cell_type": "markdown",
      "source": [
        "The above histogram shows normal distribution and its right skewed and boxplot contains many outliers."
      ],
      "metadata": {
        "id": "Zc0dZzu2sXl-"
      }
    },
    {
      "cell_type": "code",
      "source": [
        "#Calculate Q1 for WindSpeed9am attribute\n",
        " \n",
        "Q1_LeadTime = RAIN.WindSpeed9am.quantile(0.25)\n",
        "print(\"Q1_LeadTime:\", int(Q1_LeadTime), \"days\")\n",
        "\n",
        "#Calculating Q3 for LeadTime attribute\n",
        "Q3_LeadTime = RAIN.WindSpeed9am.quantile(0.75)\n",
        "print(\"Q3_LeadTime:\", int(Q3_LeadTime), \"days\")\n",
        "\n",
        "#Calculating IQR for LeadTime attribute\n",
        "IQR_LeadTime = Q3_LeadTime - Q1_LeadTime\n",
        "\n",
        "#Calculating Lower bound for LeadTime attribute\n",
        "lowerBound_LeadTime = Q1_LeadTime - (1.5 * IQR_LeadTime)\n",
        "\n",
        "#Calculating Upper bound for LeadTime attribute\n",
        "upperBound_LeadTime = Q3_LeadTime + (1.5 * IQR_LeadTime)\n",
        "\n",
        "##Removing the outlier\n",
        "index = RAIN['WindSpeed9am'][(RAIN['WindSpeed9am'] > upperBound_LeadTime)].index\n",
        "RAIN.drop(index, inplace = True)\n",
        "\n",
        "#Visualizing distribution of LeadTime attribute\n",
        "sns.boxplot(x = 'WindSpeed9am', data = RAIN)\n",
        "plt.tight_layout()\n",
        "plt.show()"
      ],
      "metadata": {
        "colab": {
          "base_uri": "https://localhost:8080/",
          "height": 332
        },
        "id": "RbNXV8YtYgTF",
        "outputId": "c2197ed6-fd58-497e-9b0a-5a18cab98f8b"
      },
      "execution_count": null,
      "outputs": [
        {
          "output_type": "stream",
          "name": "stdout",
          "text": [
            "Q1_LeadTime: 7 days\n",
            "Q3_LeadTime: 19 days\n"
          ]
        },
        {
          "output_type": "display_data",
          "data": {
            "text/plain": [
              "<Figure size 432x288 with 1 Axes>"
            ],
            "image/png": "[encoded data removed]"
          },
          "metadata": {
            "needs_background": "light"
          }
        }
      ]
    },
    {
      "cell_type": "code",
      "source": [
        "#Boxplot of WindSpeed3pm\n",
        "\n",
        "fig, axes = plt.subplots(2, 1, figsize=(10, 10))\n",
        "\n",
        "sns.histplot(RAIN['WindSpeed3pm'],bins=20, kde=True,ax =axes [0]);\n",
        "sns.boxplot('WindSpeed3pm', data = RAIN, ax = axes[1])\n",
        "axes[1]\n",
        "plt.savefig('WindSpeed3pm.jpg')"
      ],
      "metadata": {
        "colab": {
          "base_uri": "https://localhost:8080/",
          "height": 606
        },
        "id": "Cjhj7nShY4iL",
        "outputId": "eebd0ff1-fd8c-4d67-cde9-9ace4dd5c7ea"
      },
      "execution_count": null,
      "outputs": [
        {
          "output_type": "display_data",
          "data": {
            "text/plain": [
              "<Figure size 720x720 with 2 Axes>"
            ],
            "image/png": "[encoded data removed]"
          },
          "metadata": {
            "needs_background": "light"
          }
        }
      ]
    },
    {
      "cell_type": "code",
      "source": [
        "#Removing outliers from WindSpeed3pm\n",
        "\n",
        "#Calculate Q1 for Leadtime attribute\n",
        " \n",
        "Q1_LeadTime = RAIN.WindSpeed3pm.quantile(0.25)\n",
        "print(\"Q1_LeadTime:\", int(Q1_LeadTime), \"days\")\n",
        "\n",
        "#Calculating Q3 for LeadTime attribute\n",
        "Q3_LeadTime = RAIN.WindSpeed3pm.quantile(0.75)\n",
        "print(\"Q3_LeadTime:\", int(Q3_LeadTime), \"days\")\n",
        "\n",
        "#Calculating IQR for LeadTime attribute\n",
        "IQR_LeadTime = Q3_LeadTime - Q1_LeadTime\n",
        "\n",
        "#Calculating Lower bound for LeadTime attribute\n",
        "lowerBound_LeadTime = Q1_LeadTime - (1.5 * IQR_LeadTime)\n",
        "\n",
        "#Calculating Upper bound for LeadTime attribute\n",
        "upperBound_LeadTime = Q3_LeadTime + (1.5 * IQR_LeadTime)\n",
        "\n",
        "##Removing the outlier\n",
        "index = RAIN['WindSpeed3pm'][(RAIN['WindSpeed3pm'] > upperBound_LeadTime)].index\n",
        "RAIN.drop(index, inplace = True)\n",
        "\n",
        "#Visualizing distribution of LeadTime attribute\n",
        "sns.boxplot(x = 'WindSpeed3pm', data = RAIN)\n",
        "plt.tight_layout()\n",
        "plt.show()"
      ],
      "metadata": {
        "colab": {
          "base_uri": "https://localhost:8080/",
          "height": 332
        },
        "id": "dJAjA2DrZWUy",
        "outputId": "ed5998e7-5d4d-4b82-faba-cd6b0e4a51b4"
      },
      "execution_count": null,
      "outputs": [
        {
          "output_type": "stream",
          "name": "stdout",
          "text": [
            "Q1_LeadTime: 13 days\n",
            "Q3_LeadTime: 24 days\n"
          ]
        },
        {
          "output_type": "display_data",
          "data": {
            "text/plain": [
              "<Figure size 432x288 with 1 Axes>"
            ],
            "image/png": "[encoded data removed]"
          },
          "metadata": {
            "needs_background": "light"
          }
        }
      ]
    },
    {
      "cell_type": "code",
      "source": [
        "#Boxplot of Temp9am\n",
        "\n",
        "fig, axes = plt.subplots(2, 1, figsize=(10, 10))\n",
        "\n",
        "sns.histplot(RAIN['Temp9am'],bins=20, kde=True,ax =axes [0]);\n",
        "sns.boxplot('Temp9am', data = RAIN, ax = axes[1])\n",
        "axes[1]\n",
        "plt.savefig('Temp9am.jpg')"
      ],
      "metadata": {
        "colab": {
          "base_uri": "https://localhost:8080/",
          "height": 606
        },
        "id": "0SxN_q50ZejN",
        "outputId": "9abbc860-7cc9-4569-f88d-81e30838b797"
      },
      "execution_count": null,
      "outputs": [
        {
          "output_type": "display_data",
          "data": {
            "text/plain": [
              "<Figure size 720x720 with 2 Axes>"
            ],
            "image/png": "[encoded data removed]"
          },
          "metadata": {
            "needs_background": "light"
          }
        }
      ]
    },
    {
      "cell_type": "markdown",
      "source": [
        "This also contain outliers in both upper and lower bound that needs to remove."
      ],
      "metadata": {
        "id": "LxLpXOldtuTZ"
      }
    },
    {
      "cell_type": "code",
      "source": [
        "#Removing outliers from Temp9am\n",
        "\n",
        "#Calculate Q1 for Leadtime attribute\n",
        " \n",
        "Q1_LeadTime = RAIN.Temp9am.quantile(0.25)\n",
        "print(\"Q1_LeadTime:\", int(Q1_LeadTime), \"days\")\n",
        "\n",
        "#Calculating Q3 for LeadTime attribute\n",
        "Q3_LeadTime = RAIN.Temp9am.quantile(0.75)\n",
        "print(\"Q3_LeadTime:\", int(Q3_LeadTime), \"days\")\n",
        "\n",
        "#Calculating IQR for LeadTime attribute\n",
        "IQR_LeadTime = Q3_LeadTime - Q1_LeadTime\n",
        "\n",
        "#Calculating Lower bound for LeadTime attribute\n",
        "lowerBound_LeadTime = Q1_LeadTime - (1.5 * IQR_LeadTime)\n",
        "\n",
        "#Calculating Upper bound for LeadTime attribute\n",
        "upperBound_LeadTime = Q3_LeadTime + (1.5 * IQR_LeadTime)\n",
        "\n",
        "##Removing the outlier\n",
        "index = RAIN['Temp9am'][(RAIN['Temp9am'] > upperBound_LeadTime)].index\n",
        "index = RAIN['Temp9am'][(RAIN['Temp9am'] < lowerBound_LeadTime)].index\n",
        "RAIN.drop(index, inplace = True)\n",
        "\n",
        "#Visualizing distribution of LeadTime attribute\n",
        "sns.boxplot(x = 'Temp9am', data = RAIN)\n",
        "plt.tight_layout()\n",
        "plt.show()"
      ],
      "metadata": {
        "colab": {
          "base_uri": "https://localhost:8080/",
          "height": 332
        },
        "id": "ZC583-q3Zu0A",
        "outputId": "f37b5a9b-5feb-4677-df07-5f23ffd443d1"
      },
      "execution_count": null,
      "outputs": [
        {
          "output_type": "stream",
          "name": "stdout",
          "text": [
            "Q1_LeadTime: 12 days\n",
            "Q3_LeadTime: 21 days\n"
          ]
        },
        {
          "output_type": "display_data",
          "data": {
            "text/plain": [
              "<Figure size 432x288 with 1 Axes>"
            ],
            "image/png": "[encoded data removed]"
          },
          "metadata": {
            "needs_background": "light"
          }
        }
      ]
    },
    {
      "cell_type": "code",
      "source": [
        "#Boxplot of Temp3pm\n",
        "\n",
        "fig, axes = plt.subplots(2, 1, figsize=(10, 10))\n",
        "\n",
        "sns.histplot(RAIN['Temp3pm'],bins=20, kde=True,ax =axes [0]);\n",
        "sns.boxplot('Temp3pm', data = RAIN, ax = axes[1])\n",
        "axes[1]\n",
        "plt.savefig('Temp3pm.jpg')"
      ],
      "metadata": {
        "colab": {
          "base_uri": "https://localhost:8080/",
          "height": 606
        },
        "id": "LAZV2iSsZ7cr",
        "outputId": "aab3a597-4e26-48f7-d211-bdd4ab7940ec"
      },
      "execution_count": null,
      "outputs": [
        {
          "output_type": "display_data",
          "data": {
            "text/plain": [
              "<Figure size 720x720 with 2 Axes>"
            ],
            "image/png": "[encoded data removed]"
          },
          "metadata": {
            "needs_background": "light"
          }
        }
      ]
    },
    {
      "cell_type": "markdown",
      "source": [
        "This histograms does not shows normal distribution as it has many fluctuations."
      ],
      "metadata": {
        "id": "HHoEHhlQt9pW"
      }
    },
    {
      "cell_type": "code",
      "source": [
        "#Removing outliers from Temp3pm\n",
        "\n",
        "#Calculate Q1 for Leadtime attribute\n",
        " \n",
        "Q1_LeadTime = RAIN.Temp3pm.quantile(0.25)\n",
        "print(\"Q1_LeadTime:\", int(Q1_LeadTime), \"days\")\n",
        "\n",
        "#Calculating Q3 for LeadTime attribute\n",
        "Q3_LeadTime = RAIN.Temp3pm.quantile(0.75)\n",
        "print(\"Q3_LeadTime:\", int(Q3_LeadTime), \"days\")\n",
        "\n",
        "#Calculating IQR for LeadTime attribute\n",
        "IQR_LeadTime = Q3_LeadTime - Q1_LeadTime\n",
        "\n",
        "#Calculating Lower bound for LeadTime attribute\n",
        "lowerBound_LeadTime = Q1_LeadTime - (1.5 * IQR_LeadTime)\n",
        "\n",
        "#Calculating Upper bound for LeadTime attribute\n",
        "upperBound_LeadTime = Q3_LeadTime + (1.5 * IQR_LeadTime)\n",
        "\n",
        "##Removing the outlier\n",
        "index = RAIN['Temp3pm'][(RAIN['Temp3pm'] > upperBound_LeadTime)].index\n",
        "RAIN.drop(index, inplace = True)\n",
        "\n",
        "#Visualizing distribution of LeadTime attribute\n",
        "sns.boxplot(x = 'Temp3pm', data = RAIN)\n",
        "plt.tight_layout()\n",
        "plt.show()"
      ],
      "metadata": {
        "colab": {
          "base_uri": "https://localhost:8080/",
          "height": 332
        },
        "id": "4WRkJhXsaTGK",
        "outputId": "b9ee20b3-c459-4d93-ef40-006e3c25c222"
      },
      "execution_count": null,
      "outputs": [
        {
          "output_type": "stream",
          "name": "stdout",
          "text": [
            "Q1_LeadTime: 16 days\n",
            "Q3_LeadTime: 26 days\n"
          ]
        },
        {
          "output_type": "display_data",
          "data": {
            "text/plain": [
              "<Figure size 432x288 with 1 Axes>"
            ],
            "image/png": "[encoded data removed]"
          },
          "metadata": {
            "needs_background": "light"
          }
        }
      ]
    },
    {
      "cell_type": "code",
      "source": [
        "#Boxplot of MiniTemp\n",
        "\n",
        "fig, axes = plt.subplots(2, 1, figsize=(10, 10))\n",
        "\n",
        "sns.histplot(RAIN['MiniTemp'],bins=20, kde=True,ax =axes [0]);\n",
        "sns.boxplot('MiniTemp', data = RAIN, ax = axes[1])\n",
        "axes[1]\n",
        "plt.savefig('MiniTemp.jpg')"
      ],
      "metadata": {
        "colab": {
          "base_uri": "https://localhost:8080/",
          "height": 606
        },
        "id": "DUneVhtecK9o",
        "outputId": "93fcea65-9130-458d-a41e-f6bdb4cdf0ed"
      },
      "execution_count": null,
      "outputs": [
        {
          "output_type": "display_data",
          "data": {
            "text/plain": [
              "<Figure size 720x720 with 2 Axes>"
            ],
            "image/png": "[encoded data removed]"
          },
          "metadata": {
            "needs_background": "light"
          }
        }
      ]
    },
    {
      "cell_type": "markdown",
      "source": [
        "Histogram of minimun temperature shows normal distribution and its left skewed. The boxplot contain few outliers."
      ],
      "metadata": {
        "id": "MygvasIQuJTc"
      }
    },
    {
      "cell_type": "code",
      "source": [
        "#Removing outliers from MiniTemp\n",
        "\n",
        "#Calculate Q1 for Leadtime attribute\n",
        " \n",
        "Q1_LeadTime = RAIN.MiniTemp.quantile(0.25)\n",
        "print(\"Q1_LeadTime:\", int(Q1_LeadTime), \"days\")\n",
        "\n",
        "#Calculating Q3 for LeadTime attribute\n",
        "Q3_LeadTime = RAIN.MiniTemp.quantile(0.75)\n",
        "print(\"Q3_LeadTime:\", int(Q3_LeadTime), \"days\")\n",
        "\n",
        "#Calculating IQR for LeadTime attribute\n",
        "IQR_LeadTime = Q3_LeadTime - Q1_LeadTime\n",
        "\n",
        "#Calculating Lower bound for LeadTime attribute\n",
        "lowerBound_LeadTime = Q1_LeadTime - (1.5 * IQR_LeadTime)\n",
        "\n",
        "#Calculating Upper bound for LeadTime attribute\n",
        "upperBound_LeadTime = Q3_LeadTime + (1.5 * IQR_LeadTime)\n",
        "\n",
        "#Removing the outlier\n",
        "index = RAIN['MiniTemp'][(RAIN['MiniTemp'] > upperBound_LeadTime)].index\n",
        "index = RAIN['MiniTemp'][(RAIN['MiniTemp'] < lowerBound_LeadTime)].index\n",
        "RAIN.drop(index, inplace = True)\n",
        "\n",
        "#Visualizing distribution of LeadTime attribute\n",
        "sns.boxplot(x = 'MiniTemp', data = RAIN)\n",
        "plt.tight_layout()\n",
        "plt.show()"
      ],
      "metadata": {
        "colab": {
          "base_uri": "https://localhost:8080/",
          "height": 332
        },
        "id": "BUeXuluDcfar",
        "outputId": "9b83e898-89a0-4722-fb4c-416746276707"
      },
      "execution_count": null,
      "outputs": [
        {
          "output_type": "stream",
          "name": "stdout",
          "text": [
            "Q1_LeadTime: 7 days\n",
            "Q3_LeadTime: 16 days\n"
          ]
        },
        {
          "output_type": "display_data",
          "data": {
            "text/plain": [
              "<Figure size 432x288 with 1 Axes>"
            ],
            "image/png": "[encoded data removed]"
          },
          "metadata": {
            "needs_background": "light"
          }
        }
      ]
    },
    {
      "cell_type": "code",
      "source": [
        "#Boxplot of MaxiTemp\n",
        "\n",
        "fig, axes = plt.subplots(2, 1, figsize=(10, 10))\n",
        "\n",
        "sns.histplot(RAIN['MaxiTemp'],bins=20, kde=True,ax =axes [0]);\n",
        "sns.boxplot('MaxiTemp', data = RAIN, ax = axes[1])\n",
        "axes[1]\n",
        "plt.savefig('MaxiTemp.jpg')"
      ],
      "metadata": {
        "colab": {
          "base_uri": "https://localhost:8080/",
          "height": 606
        },
        "id": "JiGNX_mOco4u",
        "outputId": "ff6255eb-6c65-460f-a5e3-ef8b802daf9a"
      },
      "execution_count": null,
      "outputs": [
        {
          "output_type": "display_data",
          "data": {
            "text/plain": [
              "<Figure size 720x720 with 2 Axes>"
            ],
            "image/png": "[encoded data removed]"
          },
          "metadata": {
            "needs_background": "light"
          }
        }
      ]
    },
    {
      "cell_type": "code",
      "source": [
        "#Removing outliers from MaxiTemp\n",
        "\n",
        "#Calculate Q1 for Leadtime attribute\n",
        " \n",
        "Q1_LeadTime = RAIN.MaxiTemp.quantile(0.25)\n",
        "print(\"Q1_LeadTime:\", int(Q1_LeadTime), \"days\")\n",
        "\n",
        "#Calculating Q3 for LeadTime attribute\n",
        "Q3_LeadTime = RAIN.MaxiTemp.quantile(0.75)\n",
        "print(\"Q3_LeadTime:\", int(Q3_LeadTime), \"days\")\n",
        "\n",
        "#Calculating IQR for LeadTime attribute\n",
        "IQR_LeadTime = Q3_LeadTime - Q1_LeadTime\n",
        "\n",
        "#Calculating Lower bound for LeadTime attribute\n",
        "lowerBound_LeadTime = Q1_LeadTime - (1.5 * IQR_LeadTime)\n",
        "\n",
        "#Calculating Upper bound for LeadTime attribute\n",
        "upperBound_LeadTime = Q3_LeadTime + (1.5 * IQR_LeadTime)\n",
        "\n",
        "##Removing the outlier\n",
        "index = RAIN['MaxiTemp'][(RAIN['MaxiTemp'] > upperBound_LeadTime)].index\n",
        "index = RAIN['MaxiTemp'][(RAIN['MaxiTemp'] < lowerBound_LeadTime)].index\n",
        "RAIN.drop(index, inplace = True)\n",
        "\n",
        "#Visualizing distribution of LeadTime attribute\n",
        "sns.boxplot(x = 'MaxiTemp', data = RAIN)\n",
        "plt.tight_layout()\n",
        "plt.show()"
      ],
      "metadata": {
        "colab": {
          "base_uri": "https://localhost:8080/",
          "height": 332
        },
        "id": "NP03LycccyQS",
        "outputId": "5d203347-24e0-4bf1-839b-31e46a7f81b5"
      },
      "execution_count": null,
      "outputs": [
        {
          "output_type": "stream",
          "name": "stdout",
          "text": [
            "Q1_LeadTime: 18 days\n",
            "Q3_LeadTime: 28 days\n"
          ]
        },
        {
          "output_type": "display_data",
          "data": {
            "text/plain": [
              "<Figure size 432x288 with 1 Axes>"
            ],
            "image/png": "[encoded data removed]"
          },
          "metadata": {
            "needs_background": "light"
          }
        }
      ]
    },
    {
      "cell_type": "code",
      "source": [
        "#Boxplot of Humidity9am\n",
        "\n",
        "fig, axes = plt.subplots(2, 1, figsize=(10, 10))\n",
        "\n",
        "sns.histplot(RAIN['Humidity9am'],bins=20, kde=True,ax =axes [0]);\n",
        "sns.boxplot('Humidity9am', data = RAIN, ax = axes[1])\n",
        "axes[1]\n",
        "plt.savefig('Humidity9am.jpg')"
      ],
      "metadata": {
        "colab": {
          "base_uri": "https://localhost:8080/",
          "height": 606
        },
        "id": "O_esyngFdBRq",
        "outputId": "01cf25f5-1c38-45c9-cd9b-6eb4ef84d744"
      },
      "execution_count": null,
      "outputs": [
        {
          "output_type": "display_data",
          "data": {
            "text/plain": [
              "<Figure size 720x720 with 2 Axes>"
            ],
            "image/png": "[encoded data removed]"
          },
          "metadata": {
            "needs_background": "light"
          }
        }
      ]
    },
    {
      "cell_type": "code",
      "source": [
        "#Removing outliers from Humidity9am\n",
        "\n",
        "#Calculate Q1 for Leadtime attribute\n",
        " \n",
        "Q1_LeadTime = RAIN.Humidity9am.quantile(0.25)\n",
        "print(\"Q1_LeadTime:\", int(Q1_LeadTime), \"days\")\n",
        "\n",
        "#Calculating Q3 for LeadTime attribute\n",
        "Q3_LeadTime = RAIN.Humidity9am.quantile(0.75)\n",
        "print(\"Q3_LeadTime:\", int(Q3_LeadTime), \"days\")\n",
        "\n",
        "#Calculating IQR for LeadTime attribute\n",
        "IQR_LeadTime = Q3_LeadTime - Q1_LeadTime\n",
        "\n",
        "#Calculating Lower bound for LeadTime attribute\n",
        "lowerBound_LeadTime = Q1_LeadTime - (1.5 * IQR_LeadTime)\n",
        "\n",
        "#Calculating Upper bound for LeadTime attribute\n",
        "upperBound_LeadTime = Q3_LeadTime + (1.5 * IQR_LeadTime)\n",
        "\n",
        "##Removing the outlier\n",
        "\n",
        "index = RAIN['Humidity9am'][(RAIN['Humidity9am'] < lowerBound_LeadTime)].index\n",
        "RAIN.drop(index, inplace = True)\n",
        "\n",
        "#Visualizing distribution of LeadTime attribute\n",
        "sns.boxplot(x = 'Humidity9am', data = RAIN)\n",
        "plt.tight_layout()\n",
        "plt.show()"
      ],
      "metadata": {
        "colab": {
          "base_uri": "https://localhost:8080/",
          "height": 332
        },
        "id": "bHr-hGSrdRy1",
        "outputId": "c21f61a1-5d8c-4e5b-fdb1-a78d6adcdb1f"
      },
      "execution_count": null,
      "outputs": [
        {
          "output_type": "stream",
          "name": "stdout",
          "text": [
            "Q1_LeadTime: 57 days\n",
            "Q3_LeadTime: 83 days\n"
          ]
        },
        {
          "output_type": "display_data",
          "data": {
            "text/plain": [
              "<Figure size 432x288 with 1 Axes>"
            ],
            "image/png": "[encoded data removed]"
          },
          "metadata": {
            "needs_background": "light"
          }
        }
      ]
    },
    {
      "cell_type": "code",
      "source": [
        "#Boxplot of Humidity3pm\n",
        "\n",
        "fig, axes = plt.subplots(2, 1, figsize=(10, 10))\n",
        "\n",
        "sns.histplot(RAIN['Humidity3pm'],bins=20, kde=True,ax =axes [0]);\n",
        "sns.boxplot('Humidity3pm', data = RAIN, ax = axes[1])\n",
        "axes[1]\n",
        "plt.savefig('Humidity3pm.jpg')"
      ],
      "metadata": {
        "colab": {
          "base_uri": "https://localhost:8080/",
          "height": 606
        },
        "id": "_EfzSJlHdBHN",
        "outputId": "c36caf2e-c132-4930-fb7e-ae3e7d8ef541"
      },
      "execution_count": null,
      "outputs": [
        {
          "output_type": "display_data",
          "data": {
            "text/plain": [
              "<Figure size 720x720 with 2 Axes>"
            ],
            "image/png": "[encoded data removed]"
          },
          "metadata": {
            "needs_background": "light"
          }
        }
      ]
    },
    {
      "cell_type": "markdown",
      "source": [
        "#VISUALIZATION of maximum temperature distribution. "
      ],
      "metadata": {
        "id": "UvBQ7L8G_42k"
      }
    },
    {
      "cell_type": "code",
      "source": [
        "# Distribution of Maximum Temperature\n",
        "\n",
        "sns.histplot(RAIN['MaxiTemp'])\n",
        "plt.savefig(\"Maximum Temp.jpg\")\n",
        "plt.figure(figsize=(20, 10))\n",
        "\n",
        "plt.show()"
      ],
      "metadata": {
        "id": "9dcszSejGKrN",
        "colab": {
          "base_uri": "https://localhost:8080/",
          "height": 296
        },
        "outputId": "689d4ade-13f4-4b1c-d819-74ec8fc0d1eb"
      },
      "execution_count": null,
      "outputs": [
        {
          "output_type": "display_data",
          "data": {
            "text/plain": [
              "<Figure size 432x288 with 1 Axes>"
            ],
            "image/png": "[encoded data removed]"
          },
          "metadata": {
            "needs_background": "light"
          }
        },
        {
          "output_type": "display_data",
          "data": {
            "text/plain": [
              "<Figure size 1440x720 with 0 Axes>"
            ]
          },
          "metadata": {}
        }
      ]
    },
    {
      "cell_type": "markdown",
      "source": [
        "**The above histogram shows normal distribution of maximum temperature and it's left skewed. The highest concentration of points of temperature is between 17 to 20 degree celcius.**"
      ],
      "metadata": {
        "id": "oQYR45Bd_zF0"
      }
    },
    {
      "cell_type": "markdown",
      "source": [
        "#Years with highest and lowest rainfall."
      ],
      "metadata": {
        "id": "fZwn8a6u2D_T"
      }
    },
    {
      "cell_type": "code",
      "source": [
        "# Adding year and month to DATE \n",
        "\n",
        "RAIN['year'] = pd.to_datetime(RAIN.Date).dt.year\n",
        "RAIN['month'] = pd.to_datetime(RAIN.Date).dt.month"
      ],
      "metadata": {
        "id": "RWvZJb1FtdM6"
      },
      "execution_count": null,
      "outputs": []
    },
    {
      "cell_type": "code",
      "source": [
        "plt.figure(figsize=(10,10))\n",
        "a = RAIN.groupby('year').agg({'Rainfall':'sum'})\n",
        "a.plot(kind='bar', color='purple')\n",
        "plt.title('Rainfall distribution in each year', fontsize=20)\n",
        "plt.xlabel('year', fontsize=10)\n",
        "plt.ylabel('Rainfall (in mm)', fontsize=10)\n",
        "plt.xticks(rotation=0)\n",
        "plt.savefig(\"Rainfall distribution in each year.jpg\")"
      ],
      "metadata": {
        "colab": {
          "base_uri": "https://localhost:8080/",
          "height": 317
        },
        "id": "t0MEKrVgtmSq",
        "outputId": "54f5ccb8-99fa-4e00-a1ea-4f7ad5c7cd2e"
      },
      "execution_count": null,
      "outputs": [
        {
          "output_type": "display_data",
          "data": {
            "text/plain": [
              "<Figure size 720x720 with 0 Axes>"
            ]
          },
          "metadata": {}
        },
        {
          "output_type": "display_data",
          "data": {
            "text/plain": [
              "<Figure size 432x288 with 1 Axes>"
            ],
            "image/png": "[encoded data removed]"
          },
          "metadata": {
            "needs_background": "light"
          }
        }
      ]
    },
    {
      "cell_type": "markdown",
      "source": [
        "It shows that maximum rainfall occured in the year 2010, 2011 and 2016 almost more than 33000 mm.Whereas year 2007, 2008 and 2017 occured as least rainfall. "
      ],
      "metadata": {
        "id": "8NcuQZuYtxbp"
      }
    },
    {
      "cell_type": "markdown",
      "source": [
        "#To check the distribution of Target variable by plotting pie chart."
      ],
      "metadata": {
        "id": "OBcvfB0ev_iK"
      }
    },
    {
      "cell_type": "code",
      "source": [
        "#Pie chart of Target variable\n",
        "\n",
        "YES = RAIN.RainTomorrow[RAIN[\"RainTomorrow\"]==1].count()\n",
        "NO = RAIN.RainTomorrow[RAIN[\"RainTomorrow\"]==0].count()\n",
        "\n",
        "labels = ['WillRain', 'NoRain']\n",
        "slices = [YES, NO]\n",
        "explode = [0.1, 0]\n",
        "\n",
        "plt.pie(slices, labels = labels, explode = explode, shadow = True,\n",
        "        startangle = -90, autopct = '%1.1f%%',\n",
        "        wedgeprops = {'edgecolor': 'black'})\n",
        "plt.axis('equal') #equal aspect ratio ensures that pie is drawn as a circle\n",
        "plt.title(\"Will it rain tomorrow?\")\n",
        "plt.legend()\n",
        "plt.tight_layout #used for default padding\n",
        "plt.savefig('Will it rain tomorrow?.jpg')\n",
        "plt.show()"
      ],
      "metadata": {
        "colab": {
          "base_uri": "https://localhost:8080/",
          "height": 264
        },
        "id": "Yxa1B2F8s1n5",
        "outputId": "b4d6e4e5-eac0-4f5c-945b-23b8749d28d3"
      },
      "execution_count": null,
      "outputs": [
        {
          "output_type": "display_data",
          "data": {
            "text/plain": [
              "<Figure size 432x288 with 1 Axes>"
            ],
            "image/png": "[encoded data removed]"
          },
          "metadata": {}
        }
      ]
    },
    {
      "cell_type": "markdown",
      "source": [
        "##From above chart we get to know that there are extremely less chances for raining tomorrow as it contains only 21.6% of total proportion whereas NoRain contains 78.4%."
      ],
      "metadata": {
        "id": "L9tSIn9twa3m"
      }
    },
    {
      "cell_type": "markdown",
      "source": [
        "#Temperature distribution to evaluate temperature with highest count."
      ],
      "metadata": {
        "id": "GH6VTgjBvcNs"
      }
    },
    {
      "cell_type": "code",
      "source": [
        "#distribution\n",
        "\n",
        "fig, ax = plt.subplots(2, 1, figsize=(10,10))\n",
        "\n",
        "# Temp9am\n",
        "sns.countplot(RAIN['Temp9am'], palette='ocean', ax=ax[0])\n",
        "ax[0].set_title(\"Distribution of Temp9am\", fontsize=20)\n",
        "\n",
        "#Rain Today\n",
        "\n",
        "sns.countplot(RAIN['RainToday'], palette='ocean', ax=ax[1])\n",
        "ax[1].set_title(\"Distribution of Rain Today\", fontsize=20)\n",
        "plt.savefig('Distribution.jpg')"
      ],
      "metadata": {
        "colab": {
          "base_uri": "https://localhost:8080/",
          "height": 627
        },
        "id": "pfvLwW5pxwfw",
        "outputId": "c04fbbe0-4367-4cac-e05f-989e2c2ae0aa"
      },
      "execution_count": null,
      "outputs": [
        {
          "output_type": "display_data",
          "data": {
            "text/plain": [
              "<Figure size 720x720 with 2 Axes>"
            ],
            "image/png": "[encoded data removed]"
          },
          "metadata": {
            "needs_background": "light"
          }
        }
      ]
    },
    {
      "cell_type": "markdown",
      "source": [
        "The above visualization demonstrates a normal distribuion of Temperature at 9am. The highest concenteration point for temp is 14 degree celcius beacuse it contains highest count of values which is more than 7000.\n",
        "The another representation shows there are extremely less chance corresponding to rain today because 'No' contains more counts as compared to 'Yes'."
      ],
      "metadata": {
        "id": "zNgV1U1K19_i"
      }
    },
    {
      "cell_type": "code",
      "source": [
        "#Drop Categorical variables for building classification models\n",
        "\n",
        "RAIN = RAIN.drop(['Date', 'year', 'month', 'Location', 'WindDir3pm', 'RainToday'], axis = 1)"
      ],
      "metadata": {
        "id": "R88iTvz4-WCV"
      },
      "execution_count": null,
      "outputs": []
    },
    {
      "cell_type": "code",
      "source": [
        "# Check changes\n",
        "\n",
        "RAIN.info()"
      ],
      "metadata": {
        "id": "5PBFhi5t_oX-",
        "colab": {
          "base_uri": "https://localhost:8080/"
        },
        "outputId": "ab312071-edd9-467a-9a62-6819eafe0035"
      },
      "execution_count": null,
      "outputs": [
        {
          "output_type": "stream",
          "name": "stdout",
          "text": [
            "<class 'pandas.core.frame.DataFrame'>\n",
            "Int64Index: 129374 entries, 0 to 145458\n",
            "Data columns (total 10 columns):\n",
            " #   Column        Non-Null Count   Dtype  \n",
            "---  ------        --------------   -----  \n",
            " 0   MiniTemp      129374 non-null  int64  \n",
            " 1   MaxiTemp      129374 non-null  int64  \n",
            " 2   Rainfall      129374 non-null  int64  \n",
            " 3   WindSpeed9am  129374 non-null  float64\n",
            " 4   WindSpeed3pm  129374 non-null  float64\n",
            " 5   Humidity9am   129374 non-null  int64  \n",
            " 6   Humidity3pm   129374 non-null  int64  \n",
            " 7   Temp9am       129374 non-null  int64  \n",
            " 8   Temp3pm       129374 non-null  int64  \n",
            " 9   RainTomorrow  129374 non-null  int64  \n",
            "dtypes: float64(2), int64(8)\n",
            "memory usage: 14.9 MB\n"
          ]
        }
      ]
    },
    {
      "cell_type": "markdown",
      "source": [
        "#Correlation between Target variable and other attributes. "
      ],
      "metadata": {
        "id": "d-73iYDEv4kp"
      }
    },
    {
      "cell_type": "code",
      "source": [
        "corr = RAIN.corr()\n",
        "plt.figure(figsize=(15,12))\n",
        "sns.heatmap(corr,cmap='Blues',annot=True)\n",
        "plt.savefig('Correlation between Target and other variables.jpg')"
      ],
      "metadata": {
        "colab": {
          "base_uri": "https://localhost:8080/",
          "height": 590
        },
        "id": "TeQA4k5svswj",
        "outputId": "3f00e125-e368-4c20-e569-dc5e31ee2710"
      },
      "execution_count": null,
      "outputs": [
        {
          "output_type": "display_data",
          "data": {
            "text/plain": [
              "<Figure size 1080x864 with 2 Axes>"
            ],
            "image/png": "[encoded data removed]"
          },
          "metadata": {
            "needs_background": "light"
          }
        }
      ]
    },
    {
      "cell_type": "markdown",
      "source": [
        "The above graph shows that attribute Temp9am ,Temp3pm and Maxitemp are strongly corelated with each other which means they almost provide same information. So, we need to remove one from them,"
      ],
      "metadata": {
        "id": "UHsVC4DHwsKx"
      }
    },
    {
      "cell_type": "markdown",
      "source": [
        "#VARIANCE(To drop that attribute which having low variance)"
      ],
      "metadata": {
        "id": "Gb_eZr_7lpEe"
      }
    },
    {
      "cell_type": "code",
      "source": [
        "variance = RAIN.var()\n",
        "variance"
      ],
      "metadata": {
        "colab": {
          "base_uri": "https://localhost:8080/"
        },
        "id": "7anlNUjgicpd",
        "outputId": "80a2755e-2651-4e6f-cb79-c147081c321e"
      },
      "execution_count": null,
      "outputs": [
        {
          "output_type": "execute_result",
          "data": {
            "text/plain": [
              "MiniTemp         39.762162\n",
              "MaxiTemp         47.078456\n",
              "Rainfall         63.975219\n",
              "WindSpeed9am     65.335524\n",
              "WindSpeed3pm     62.146293\n",
              "Humidity9am     331.575429\n",
              "Humidity3pm     410.278352\n",
              "Temp9am          40.155931\n",
              "Temp3pm          45.217493\n",
              "RainTomorrow      0.169570\n",
              "dtype: float64"
            ]
          },
          "metadata": {},
          "execution_count": 49
        }
      ]
    },
    {
      "cell_type": "markdown",
      "source": [
        "Here we need to remove those attribute whose variance is near to 0 from above mentioned attributes that were strongly correlated. But these are so far from 0 as a result we are not removing them."
      ],
      "metadata": {
        "id": "Nw7eSpmpxxGt"
      }
    },
    {
      "cell_type": "code",
      "source": [
        "variance.to_csv(\"Variance.csv\")"
      ],
      "metadata": {
        "id": "AZJggKsaAhus"
      },
      "execution_count": null,
      "outputs": []
    },
    {
      "cell_type": "markdown",
      "source": [
        "#To check which attribute is more closely associated with target variable."
      ],
      "metadata": {
        "id": "G3ajRfKriPk6"
      }
    },
    {
      "cell_type": "code",
      "source": [
        "CORR = RAIN.corr()['RainTomorrow'].abs().sort_values(ascending = False)\n",
        "CORR\n"
      ],
      "metadata": {
        "colab": {
          "base_uri": "https://localhost:8080/"
        },
        "id": "tT2F4mAQiBHr",
        "outputId": "12bc88c6-24af-4942-a9af-4d1ef334a2c7"
      },
      "execution_count": null,
      "outputs": [
        {
          "output_type": "execute_result",
          "data": {
            "text/plain": [
              "RainTomorrow    1.000000\n",
              "Humidity3pm     0.447223\n",
              "Humidity9am     0.254124\n",
              "Rainfall        0.228760\n",
              "Temp3pm         0.181390\n",
              "MaxiTemp        0.146222\n",
              "MiniTemp        0.095932\n",
              "WindSpeed9am    0.077707\n",
              "WindSpeed3pm    0.071150\n",
              "Temp9am         0.011274\n",
              "Name: RainTomorrow, dtype: float64"
            ]
          },
          "metadata": {},
          "execution_count": 51
        }
      ]
    },
    {
      "cell_type": "markdown",
      "source": [
        "Above table shows that Humidity3pm is most closely associated with the target variable.   "
      ],
      "metadata": {
        "id": "u4A3A_1c3vPc"
      }
    },
    {
      "cell_type": "code",
      "source": [
        "#To extract Correlation into excel\n",
        "\n",
        "CORR.to_csv(\"CORRELATION.csv\")"
      ],
      "metadata": {
        "id": "lrYzPr4EimSO"
      },
      "execution_count": null,
      "outputs": []
    },
    {
      "cell_type": "code",
      "source": [
        "# No of counts corresponding to target variable\n",
        "\n",
        "RAIN[\"RainTomorrow\"].value_counts()"
      ],
      "metadata": {
        "id": "Nx2cg56-EvnL",
        "colab": {
          "base_uri": "https://localhost:8080/"
        },
        "outputId": "bfbd289e-21e1-4a94-e20b-7bd5329c5413"
      },
      "execution_count": null,
      "outputs": [
        {
          "output_type": "execute_result",
          "data": {
            "text/plain": [
              "0    101378\n",
              "1     27996\n",
              "Name: RainTomorrow, dtype: int64"
            ]
          },
          "metadata": {},
          "execution_count": 53
        }
      ]
    },
    {
      "cell_type": "markdown",
      "source": [
        "It shows that there are two levels of categories in our target variable, corresponding to 0 there is 101378 values and to 1, 27996 values are there."
      ],
      "metadata": {
        "id": "CmhhS5MZzVyk"
      }
    },
    {
      "cell_type": "code",
      "source": [
        "#Separating the input and response variable\n",
        "\n",
        "X = RAIN.drop(['RainTomorrow'], axis = 1) # X (input variables)\n",
        "y = RAIN['RainTomorrow'] # y (target and response variable)"
      ],
      "metadata": {
        "id": "i-36f6LlGvQm"
      },
      "execution_count": null,
      "outputs": []
    },
    {
      "cell_type": "code",
      "source": [
        "X.head(5)"
      ],
      "metadata": {
        "id": "LqpDXDMaG3n8",
        "colab": {
          "base_uri": "https://localhost:8080/",
          "height": 270
        },
        "outputId": "75e21a7d-7f37-4009-d9d0-e29c01feee16"
      },
      "execution_count": null,
      "outputs": [
        {
          "output_type": "execute_result",
          "data": {
            "text/plain": [
              "   MiniTemp  MaxiTemp  Rainfall  WindSpeed9am  WindSpeed3pm  Humidity9am  \\\n",
              "0        13        22         0          20.0          24.0           71   \n",
              "1         7        25         0           4.0          22.0           44   \n",
              "2        12        25         0          19.0          26.0           38   \n",
              "3         9        28         0          11.0           9.0           45   \n",
              "4        17        32         1           7.0          20.0           82   \n",
              "\n",
              "   Humidity3pm  Temp9am  Temp3pm  \n",
              "0           22       16       21  \n",
              "1           25       17       24  \n",
              "2           30       21       23  \n",
              "3           16       18       26  \n",
              "4           33       17       29  "
            ],
            "text/html": [
              "\n",
              "  <div id=\"df-1a9fc64e-bafb-4568-81a3-05612eac48b3\">\n",
              "    <div class=\"colab-df-container\">\n",
              "      <div>\n",
              "<style scoped>\n",
              "    .dataframe tbody tr th:only-of-type {\n",
              "        vertical-align: middle;\n",
              "    }\n",
              "\n",
              "    .dataframe tbody tr th {\n",
              "        vertical-align: top;\n",
              "    }\n",
              "\n",
              "    .dataframe thead th {\n",
              "        text-align: right;\n",
              "    }\n",
              "</style>\n",
              "<table border=\"1\" class=\"dataframe\">\n",
              "  <thead>\n",
              "    <tr style=\"text-align: right;\">\n",
              "      <th></th>\n",
              "      <th>MiniTemp</th>\n",
              "      <th>MaxiTemp</th>\n",
              "      <th>Rainfall</th>\n",
              "      <th>WindSpeed9am</th>\n",
              "      <th>WindSpeed3pm</th>\n",
              "      <th>Humidity9am</th>\n",
              "      <th>Humidity3pm</th>\n",
              "      <th>Temp9am</th>\n",
              "      <th>Temp3pm</th>\n",
              "    </tr>\n",
              "  </thead>\n",
              "  <tbody>\n",
              "    <tr>\n",
              "      <th>0</th>\n",
              "      <td>13</td>\n",
              "      <td>22</td>\n",
              "      <td>0</td>\n",
              "      <td>20.0</td>\n",
              "      <td>24.0</td>\n",
              "      <td>71</td>\n",
              "      <td>22</td>\n",
              "      <td>16</td>\n",
              "      <td>21</td>\n",
              "    </tr>\n",
              "    <tr>\n",
              "      <th>1</th>\n",
              "      <td>7</td>\n",
              "      <td>25</td>\n",
              "      <td>0</td>\n",
              "      <td>4.0</td>\n",
              "      <td>22.0</td>\n",
              "      <td>44</td>\n",
              "      <td>25</td>\n",
              "      <td>17</td>\n",
              "      <td>24</td>\n",
              "    </tr>\n",
              "    <tr>\n",
              "      <th>2</th>\n",
              "      <td>12</td>\n",
              "      <td>25</td>\n",
              "      <td>0</td>\n",
              "      <td>19.0</td>\n",
              "      <td>26.0</td>\n",
              "      <td>38</td>\n",
              "      <td>30</td>\n",
              "      <td>21</td>\n",
              "      <td>23</td>\n",
              "    </tr>\n",
              "    <tr>\n",
              "      <th>3</th>\n",
              "      <td>9</td>\n",
              "      <td>28</td>\n",
              "      <td>0</td>\n",
              "      <td>11.0</td>\n",
              "      <td>9.0</td>\n",
              "      <td>45</td>\n",
              "      <td>16</td>\n",
              "      <td>18</td>\n",
              "      <td>26</td>\n",
              "    </tr>\n",
              "    <tr>\n",
              "      <th>4</th>\n",
              "      <td>17</td>\n",
              "      <td>32</td>\n",
              "      <td>1</td>\n",
              "      <td>7.0</td>\n",
              "      <td>20.0</td>\n",
              "      <td>82</td>\n",
              "      <td>33</td>\n",
              "      <td>17</td>\n",
              "      <td>29</td>\n",
              "    </tr>\n",
              "  </tbody>\n",
              "</table>\n",
              "</div>\n",
              "      <button class=\"colab-df-convert\" onclick=\"convertToInteractive('df-1a9fc64e-bafb-4568-81a3-05612eac48b3')\"\n",
              "              title=\"Convert this dataframe to an interactive table.\"\n",
              "              style=\"display:none;\">\n",
              "        \n",
              "  <svg xmlns=\"http://www.w3.org/2000/svg\" height=\"24px\"viewBox=\"0 0 24 24\"\n",
              "       width=\"24px\">\n",
              "    <path d=\"M0 0h24v24H0V0z\" fill=\"none\"/>\n",
              "    <path d=\"M18.56 5.44l.94 2.06.94-2.06 2.06-.94-2.06-.94-.94-2.06-.94 2.06-2.06.94zm-11 1L8.5 8.5l.94-2.06 2.06-.94-2.06-.94L8.5 2.5l-.94 2.06-2.06.94zm10 10l.94 2.06.94-2.06 2.06-.94-2.06-.94-.94-2.06-.94 2.06-2.06.94z\"/><path d=\"M17.41 7.96l-1.37-1.37c-.4-.4-.92-.59-1.43-.59-.52 0-1.04.2-1.43.59L10.3 9.45l-7.72 7.72c-.78.78-.78 2.05 0 2.83L4 21.41c.39.39.9.59 1.41.59.51 0 1.02-.2 1.41-.59l7.78-7.78 2.81-2.81c.8-.78.8-2.07 0-2.86zM5.41 20L4 18.59l7.72-7.72 1.47 1.35L5.41 20z\"/>\n",
              "  </svg>\n",
              "      </button>\n",
              "      \n",
              "  <style>\n",
              "    .colab-df-container {\n",
              "      display:flex;\n",
              "      flex-wrap:wrap;\n",
              "      gap: 12px;\n",
              "    }\n",
              "\n",
              "    .colab-df-convert {\n",
              "      background-color: #E8F0FE;\n",
              "      border: none;\n",
              "      border-radius: 50%;\n",
              "      cursor: pointer;\n",
              "      display: none;\n",
              "      fill: #1967D2;\n",
              "      height: 32px;\n",
              "      padding: 0 0 0 0;\n",
              "      width: 32px;\n",
              "    }\n",
              "\n",
              "    .colab-df-convert:hover {\n",
              "      background-color: #E2EBFA;\n",
              "      box-shadow: 0px 1px 2px rgba(60, 64, 67, 0.3), 0px 1px 3px 1px rgba(60, 64, 67, 0.15);\n",
              "      fill: #174EA6;\n",
              "    }\n",
              "\n",
              "    [theme=dark] .colab-df-convert {\n",
              "      background-color: #3B4455;\n",
              "      fill: #D2E3FC;\n",
              "    }\n",
              "\n",
              "    [theme=dark] .colab-df-convert:hover {\n",
              "      background-color: #434B5C;\n",
              "      box-shadow: 0px 1px 3px 1px rgba(0, 0, 0, 0.15);\n",
              "      filter: drop-shadow(0px 1px 2px rgba(0, 0, 0, 0.3));\n",
              "      fill: #FFFFFF;\n",
              "    }\n",
              "  </style>\n",
              "\n",
              "      <script>\n",
              "        const buttonEl =\n",
              "          document.querySelector('#df-1a9fc64e-bafb-4568-81a3-05612eac48b3 button.colab-df-convert');\n",
              "        buttonEl.style.display =\n",
              "          google.colab.kernel.accessAllowed ? 'block' : 'none';\n",
              "\n",
              "        async function convertToInteractive(key) {\n",
              "          const element = document.querySelector('#df-1a9fc64e-bafb-4568-81a3-05612eac48b3');\n",
              "          const dataTable =\n",
              "            await google.colab.kernel.invokeFunction('convertToInteractive',\n",
              "                                                     [key], {});\n",
              "          if (!dataTable) return;\n",
              "\n",
              "          const docLinkHtml = 'Like what you see? Visit the ' +\n",
              "            '<a target=\"_blank\" href=https://colab.research.google.com/notebooks/data_table.ipynb>data table notebook</a>'\n",
              "            + ' to learn more about interactive tables.';\n",
              "          element.innerHTML = '';\n",
              "          dataTable['output_type'] = 'display_data';\n",
              "          await google.colab.output.renderOutput(dataTable, element);\n",
              "          const docLink = document.createElement('div');\n",
              "          docLink.innerHTML = docLinkHtml;\n",
              "          element.appendChild(docLink);\n",
              "        }\n",
              "      </script>\n",
              "    </div>\n",
              "  </div>\n",
              "  "
            ]
          },
          "metadata": {},
          "execution_count": 55
        }
      ]
    },
    {
      "cell_type": "code",
      "source": [
        "y.head(10)"
      ],
      "metadata": {
        "id": "SF0Dk4hFG_5F",
        "colab": {
          "base_uri": "https://localhost:8080/"
        },
        "outputId": "e2dc1a22-9c72-483a-a429-349fe825c4e4"
      },
      "execution_count": null,
      "outputs": [
        {
          "output_type": "execute_result",
          "data": {
            "text/plain": [
              "0    0\n",
              "1    0\n",
              "2    0\n",
              "3    0\n",
              "4    0\n",
              "5    0\n",
              "6    0\n",
              "7    0\n",
              "8    1\n",
              "9    0\n",
              "Name: RainTomorrow, dtype: int64"
            ]
          },
          "metadata": {},
          "execution_count": 56
        }
      ]
    },
    {
      "cell_type": "markdown",
      "source": [
        "#TRAIN-TEST SPLIT"
      ],
      "metadata": {
        "id": "YbAMinKI6D99"
      }
    },
    {
      "cell_type": "code",
      "source": [
        "# Split train_test to build models (we create our model with x test and y test)\n",
        "\n",
        "from sklearn.model_selection import train_test_split\n",
        "X_train, X_test, y_train, y_test = train_test_split(X, y, test_size = 0.30, random_state = 3) #0.30 mns our test size is 30%; random state to(get same training set with each run) fix output on multiple runs\n",
        "X_train.head(5)"
      ],
      "metadata": {
        "id": "imsLfjkJHWdn",
        "colab": {
          "base_uri": "https://localhost:8080/",
          "height": 270
        },
        "outputId": "1a6005da-9a99-41dd-affb-1f6d5e9de50b"
      },
      "execution_count": null,
      "outputs": [
        {
          "output_type": "execute_result",
          "data": {
            "text/plain": [
              "       MiniTemp  MaxiTemp  Rainfall  WindSpeed9am  WindSpeed3pm  Humidity9am  \\\n",
              "8227         21        33         0          13.0          28.0           33   \n",
              "80396        13        15         1           0.0          15.0          100   \n",
              "32545        18        29         0          19.0          19.0           81   \n",
              "37648        14        33         0          13.0           9.0           51   \n",
              "63947         4        24         0           7.0          22.0           98   \n",
              "\n",
              "       Humidity3pm  Temp9am  Temp3pm  \n",
              "8227            22       26       32  \n",
              "80396           83       14       14  \n",
              "32545           59       21       25  \n",
              "37648           24       22       32  \n",
              "63947           36       10       23  "
            ],
            "text/html": [
              "\n",
              "  <div id=\"df-b079b15e-9d62-45b4-b856-98b936c4fd2d\">\n",
              "    <div class=\"colab-df-container\">\n",
              "      <div>\n",
              "<style scoped>\n",
              "    .dataframe tbody tr th:only-of-type {\n",
              "        vertical-align: middle;\n",
              "    }\n",
              "\n",
              "    .dataframe tbody tr th {\n",
              "        vertical-align: top;\n",
              "    }\n",
              "\n",
              "    .dataframe thead th {\n",
              "        text-align: right;\n",
              "    }\n",
              "</style>\n",
              "<table border=\"1\" class=\"dataframe\">\n",
              "  <thead>\n",
              "    <tr style=\"text-align: right;\">\n",
              "      <th></th>\n",
              "      <th>MiniTemp</th>\n",
              "      <th>MaxiTemp</th>\n",
              "      <th>Rainfall</th>\n",
              "      <th>WindSpeed9am</th>\n",
              "      <th>WindSpeed3pm</th>\n",
              "      <th>Humidity9am</th>\n",
              "      <th>Humidity3pm</th>\n",
              "      <th>Temp9am</th>\n",
              "      <th>Temp3pm</th>\n",
              "    </tr>\n",
              "  </thead>\n",
              "  <tbody>\n",
              "    <tr>\n",
              "      <th>8227</th>\n",
              "      <td>21</td>\n",
              "      <td>33</td>\n",
              "      <td>0</td>\n",
              "      <td>13.0</td>\n",
              "      <td>28.0</td>\n",
              "      <td>33</td>\n",
              "      <td>22</td>\n",
              "      <td>26</td>\n",
              "      <td>32</td>\n",
              "    </tr>\n",
              "    <tr>\n",
              "      <th>80396</th>\n",
              "      <td>13</td>\n",
              "      <td>15</td>\n",
              "      <td>1</td>\n",
              "      <td>0.0</td>\n",
              "      <td>15.0</td>\n",
              "      <td>100</td>\n",
              "      <td>83</td>\n",
              "      <td>14</td>\n",
              "      <td>14</td>\n",
              "    </tr>\n",
              "    <tr>\n",
              "      <th>32545</th>\n",
              "      <td>18</td>\n",
              "      <td>29</td>\n",
              "      <td>0</td>\n",
              "      <td>19.0</td>\n",
              "      <td>19.0</td>\n",
              "      <td>81</td>\n",
              "      <td>59</td>\n",
              "      <td>21</td>\n",
              "      <td>25</td>\n",
              "    </tr>\n",
              "    <tr>\n",
              "      <th>37648</th>\n",
              "      <td>14</td>\n",
              "      <td>33</td>\n",
              "      <td>0</td>\n",
              "      <td>13.0</td>\n",
              "      <td>9.0</td>\n",
              "      <td>51</td>\n",
              "      <td>24</td>\n",
              "      <td>22</td>\n",
              "      <td>32</td>\n",
              "    </tr>\n",
              "    <tr>\n",
              "      <th>63947</th>\n",
              "      <td>4</td>\n",
              "      <td>24</td>\n",
              "      <td>0</td>\n",
              "      <td>7.0</td>\n",
              "      <td>22.0</td>\n",
              "      <td>98</td>\n",
              "      <td>36</td>\n",
              "      <td>10</td>\n",
              "      <td>23</td>\n",
              "    </tr>\n",
              "  </tbody>\n",
              "</table>\n",
              "</div>\n",
              "      <button class=\"colab-df-convert\" onclick=\"convertToInteractive('df-b079b15e-9d62-45b4-b856-98b936c4fd2d')\"\n",
              "              title=\"Convert this dataframe to an interactive table.\"\n",
              "              style=\"display:none;\">\n",
              "        \n",
              "  <svg xmlns=\"http://www.w3.org/2000/svg\" height=\"24px\"viewBox=\"0 0 24 24\"\n",
              "       width=\"24px\">\n",
              "    <path d=\"M0 0h24v24H0V0z\" fill=\"none\"/>\n",
              "    <path d=\"M18.56 5.44l.94 2.06.94-2.06 2.06-.94-2.06-.94-.94-2.06-.94 2.06-2.06.94zm-11 1L8.5 8.5l.94-2.06 2.06-.94-2.06-.94L8.5 2.5l-.94 2.06-2.06.94zm10 10l.94 2.06.94-2.06 2.06-.94-2.06-.94-.94-2.06-.94 2.06-2.06.94z\"/><path d=\"M17.41 7.96l-1.37-1.37c-.4-.4-.92-.59-1.43-.59-.52 0-1.04.2-1.43.59L10.3 9.45l-7.72 7.72c-.78.78-.78 2.05 0 2.83L4 21.41c.39.39.9.59 1.41.59.51 0 1.02-.2 1.41-.59l7.78-7.78 2.81-2.81c.8-.78.8-2.07 0-2.86zM5.41 20L4 18.59l7.72-7.72 1.47 1.35L5.41 20z\"/>\n",
              "  </svg>\n",
              "      </button>\n",
              "      \n",
              "  <style>\n",
              "    .colab-df-container {\n",
              "      display:flex;\n",
              "      flex-wrap:wrap;\n",
              "      gap: 12px;\n",
              "    }\n",
              "\n",
              "    .colab-df-convert {\n",
              "      background-color: #E8F0FE;\n",
              "      border: none;\n",
              "      border-radius: 50%;\n",
              "      cursor: pointer;\n",
              "      display: none;\n",
              "      fill: #1967D2;\n",
              "      height: 32px;\n",
              "      padding: 0 0 0 0;\n",
              "      width: 32px;\n",
              "    }\n",
              "\n",
              "    .colab-df-convert:hover {\n",
              "      background-color: #E2EBFA;\n",
              "      box-shadow: 0px 1px 2px rgba(60, 64, 67, 0.3), 0px 1px 3px 1px rgba(60, 64, 67, 0.15);\n",
              "      fill: #174EA6;\n",
              "    }\n",
              "\n",
              "    [theme=dark] .colab-df-convert {\n",
              "      background-color: #3B4455;\n",
              "      fill: #D2E3FC;\n",
              "    }\n",
              "\n",
              "    [theme=dark] .colab-df-convert:hover {\n",
              "      background-color: #434B5C;\n",
              "      box-shadow: 0px 1px 3px 1px rgba(0, 0, 0, 0.15);\n",
              "      filter: drop-shadow(0px 1px 2px rgba(0, 0, 0, 0.3));\n",
              "      fill: #FFFFFF;\n",
              "    }\n",
              "  </style>\n",
              "\n",
              "      <script>\n",
              "        const buttonEl =\n",
              "          document.querySelector('#df-b079b15e-9d62-45b4-b856-98b936c4fd2d button.colab-df-convert');\n",
              "        buttonEl.style.display =\n",
              "          google.colab.kernel.accessAllowed ? 'block' : 'none';\n",
              "\n",
              "        async function convertToInteractive(key) {\n",
              "          const element = document.querySelector('#df-b079b15e-9d62-45b4-b856-98b936c4fd2d');\n",
              "          const dataTable =\n",
              "            await google.colab.kernel.invokeFunction('convertToInteractive',\n",
              "                                                     [key], {});\n",
              "          if (!dataTable) return;\n",
              "\n",
              "          const docLinkHtml = 'Like what you see? Visit the ' +\n",
              "            '<a target=\"_blank\" href=https://colab.research.google.com/notebooks/data_table.ipynb>data table notebook</a>'\n",
              "            + ' to learn more about interactive tables.';\n",
              "          element.innerHTML = '';\n",
              "          dataTable['output_type'] = 'display_data';\n",
              "          await google.colab.output.renderOutput(dataTable, element);\n",
              "          const docLink = document.createElement('div');\n",
              "          docLink.innerHTML = docLinkHtml;\n",
              "          element.appendChild(docLink);\n",
              "        }\n",
              "      </script>\n",
              "    </div>\n",
              "  </div>\n",
              "  "
            ]
          },
          "metadata": {},
          "execution_count": 57
        }
      ]
    },
    {
      "cell_type": "markdown",
      "source": [
        "From above table, we can see that our data is not normalize. So we need to normalize it for getting better accurate results."
      ],
      "metadata": {
        "id": "psYfcJPW44qw"
      }
    },
    {
      "cell_type": "markdown",
      "source": [
        "#DATA NORMALIZATION"
      ],
      "metadata": {
        "id": "KV4pnKyl6I-6"
      }
    },
    {
      "cell_type": "markdown",
      "source": [
        "Normalization is a technique to normalize our dataset to get more accurate results. For data normalization, we are using Standard Scaler method which will normalize the data distribution by subtracting ##mean## from each value and then divide it with standard deviation(x-mean/sd)."
      ],
      "metadata": {
        "id": "jbJ-gnTP5E_y"
      }
    },
    {
      "cell_type": "code",
      "source": [
        "from sklearn.preprocessing import StandardScaler\n",
        "sc = StandardScaler()\n",
        "X_train = sc.fit_transform(X_train)\n",
        "X_test = sc.fit_transform(X_test)"
      ],
      "metadata": {
        "id": "Bj5HCuC8451t"
      },
      "execution_count": null,
      "outputs": []
    },
    {
      "cell_type": "code",
      "source": [
        "X_train"
      ],
      "metadata": {
        "colab": {
          "base_uri": "https://localhost:8080/"
        },
        "id": "-FdEDfbr5YOU",
        "outputId": "d9b9661b-a8be-4c2f-b101-04d0962f57b9"
      },
      "execution_count": null,
      "outputs": [
        {
          "output_type": "execute_result",
          "data": {
            "text/plain": [
              "array([[ 1.47611189,  1.49795475, -0.26456681, ..., -1.45805783,\n",
              "         1.51016494,  1.60123927],\n",
              "       [ 0.20885658, -1.12536303, -0.13907875, ...,  1.55530696,\n",
              "        -0.38077681, -1.07532722],\n",
              "       [ 1.00089115,  0.91499525, -0.26456681, ...,  0.36972081,\n",
              "         0.72227254,  0.5603523 ],\n",
              "       ...,\n",
              "       [ 0.84248424, -0.39666364,  0.99031378, ...,  1.95050234,\n",
              "         0.2495371 , -0.33183653],\n",
              "       [ 0.36726349, -0.6881434 , -0.26456681, ...,  1.70350523,\n",
              "        -0.38077681, -0.6292328 ],\n",
              "       [ 0.68407732,  0.33203574, -0.26456681, ...,  1.209511  ,\n",
              "         0.87985102,  0.41165417]])"
            ]
          },
          "metadata": {},
          "execution_count": 59
        }
      ]
    },
    {
      "cell_type": "code",
      "source": [
        "X_test"
      ],
      "metadata": {
        "colab": {
          "base_uri": "https://localhost:8080/"
        },
        "id": "MaP-O2MH53ms",
        "outputId": "18939d53-845f-4359-9ffe-dd348763a213"
      },
      "execution_count": null,
      "outputs": [
        {
          "output_type": "execute_result",
          "data": {
            "text/plain": [
              "array([[-0.43502015, -0.83826923, -0.26655866, ..., -1.26745565,\n",
              "        -0.54670436, -0.63171941],\n",
              "       [-1.5481085 ,  0.18201186, -0.26655866, ..., -0.82373033,\n",
              "        -0.54670436,  0.26076496],\n",
              "       [ 0.04201771, -0.69251479, -0.26655866, ...,  0.50744565,\n",
              "        -0.23001116, -0.63171941],\n",
              "       ...,\n",
              "       [-1.07107063,  0.91078407, -0.26655866, ..., -1.56327254,\n",
              "        -0.54670436,  0.85575454],\n",
              "       [-1.38909588, -0.83826923, -0.26655866, ..., -0.47861063,\n",
              "        -0.86339756, -0.63171941],\n",
              "       [-0.27600753,  1.20229295, -0.26655866, ..., -1.46466691,\n",
              "         0.40337524,  1.15324933]])"
            ]
          },
          "metadata": {},
          "execution_count": 60
        }
      ]
    },
    {
      "cell_type": "code",
      "source": [
        "print(\"X_train:\", X_train.shape)\n",
        "print(\"X_test:\", X_test.shape)\n",
        "print(\"y_train:\", y_train.shape)\n",
        "print(\"y_test:\", y_test.shape)"
      ],
      "metadata": {
        "colab": {
          "base_uri": "https://localhost:8080/"
        },
        "id": "h3JRMBn_yx43",
        "outputId": "64b0071f-87ce-4fa8-8a39-446b2f51e713"
      },
      "execution_count": null,
      "outputs": [
        {
          "output_type": "stream",
          "name": "stdout",
          "text": [
            "X_train: (90561, 9)\n",
            "X_test: (38813, 9)\n",
            "y_train: (90561,)\n",
            "y_test: (38813,)\n"
          ]
        }
      ]
    },
    {
      "cell_type": "markdown",
      "source": [
        "#SAMPLING"
      ],
      "metadata": {
        "id": "4OMN7VqA58OU"
      }
    },
    {
      "cell_type": "code",
      "source": [
        "#Summarize class distribution\n",
        "\n",
        "print(\"Before Sampling:\")\n",
        "balancing = y_train.value_counts()\n",
        "balancing"
      ],
      "metadata": {
        "id": "-a1M_CCIHlt0",
        "colab": {
          "base_uri": "https://localhost:8080/"
        },
        "outputId": "cabcfc4e-3830-48c8-e73b-3eae083a81b1"
      },
      "execution_count": null,
      "outputs": [
        {
          "output_type": "stream",
          "name": "stdout",
          "text": [
            "Before Sampling:\n"
          ]
        },
        {
          "output_type": "execute_result",
          "data": {
            "text/plain": [
              "0    71131\n",
              "1    19430\n",
              "Name: RainTomorrow, dtype: int64"
            ]
          },
          "metadata": {},
          "execution_count": 62
        }
      ]
    },
    {
      "cell_type": "code",
      "source": [
        "balancing.to_csv(\"Classs distribution.csv\")"
      ],
      "metadata": {
        "id": "xvTsvZJkb358"
      },
      "execution_count": null,
      "outputs": []
    },
    {
      "cell_type": "markdown",
      "source": [
        "Now, we can see that our target variable is not balanced. For getting exact result we need balances data so we will resample the data by using appropriate sampling method."
      ],
      "metadata": {
        "id": "3HOHaTXQ59AL"
      }
    },
    {
      "cell_type": "markdown",
      "source": [
        "#INSTALLING pip"
      ],
      "metadata": {
        "id": "Z0qQHGpUciP0"
      }
    },
    {
      "cell_type": "code",
      "source": [
        "!pip install imblearn # for re-sampling or dealing with imbalanced classes"
      ],
      "metadata": {
        "id": "1yCnIRSYIEq9",
        "colab": {
          "base_uri": "https://localhost:8080/"
        },
        "outputId": "8b8a1902-45e4-447f-ab0d-57b2f1df99b2"
      },
      "execution_count": null,
      "outputs": [
        {
          "output_type": "stream",
          "name": "stdout",
          "text": [
            "Requirement already satisfied: imblearn in /usr/local/lib/python3.7/dist-packages (0.0)\n",
            "Requirement already satisfied: imbalanced-learn in /usr/local/lib/python3.7/dist-packages (from imblearn) (0.8.1)\n",
            "Requirement already satisfied: numpy>=1.13.3 in /usr/local/lib/python3.7/dist-packages (from imbalanced-learn->imblearn) (1.21.5)\n",
            "Requirement already satisfied: scikit-learn>=0.24 in /usr/local/lib/python3.7/dist-packages (from imbalanced-learn->imblearn) (1.0.2)\n",
            "Requirement already satisfied: joblib>=0.11 in /usr/local/lib/python3.7/dist-packages (from imbalanced-learn->imblearn) (1.1.0)\n",
            "Requirement already satisfied: scipy>=0.19.1 in /usr/local/lib/python3.7/dist-packages (from imbalanced-learn->imblearn) (1.4.1)\n",
            "Requirement already satisfied: threadpoolctl>=2.0.0 in /usr/local/lib/python3.7/dist-packages (from scikit-learn>=0.24->imbalanced-learn->imblearn) (3.1.0)\n"
          ]
        }
      ]
    },
    {
      "cell_type": "code",
      "source": [
        "# Importing SMOTE\n",
        "\n",
        "from imblearn.over_sampling import SMOTE\n",
        "SMOTE=SMOTE()"
      ],
      "metadata": {
        "id": "Uaro4U8NdlhU"
      },
      "execution_count": null,
      "outputs": []
    },
    {
      "cell_type": "markdown",
      "source": [
        "SMOTE is an over sampling techniques that deals with the minority class and create new synthetic samples from existing class."
      ],
      "metadata": {
        "id": "H1AijNe36bCk"
      }
    },
    {
      "cell_type": "code",
      "source": [
        "# fit and apply the transform\n",
        "X_train_SMOTE, y_train_SMOTE = SMOTE.fit_resample(X_train, y_train)"
      ],
      "metadata": {
        "id": "GedxsISo2RUO"
      },
      "execution_count": null,
      "outputs": []
    },
    {
      "cell_type": "code",
      "source": [
        "print(\"after SMOTE\")\n",
        "y_train_SMOTE.value_counts()"
      ],
      "metadata": {
        "colab": {
          "base_uri": "https://localhost:8080/"
        },
        "id": "hWTIa80N2Xmr",
        "outputId": "8b9b894e-3c28-43fb-e23d-88dd80d4b33c"
      },
      "execution_count": null,
      "outputs": [
        {
          "output_type": "stream",
          "name": "stdout",
          "text": [
            "after SMOTE\n"
          ]
        },
        {
          "output_type": "execute_result",
          "data": {
            "text/plain": [
              "0    71131\n",
              "1    71131\n",
              "Name: RainTomorrow, dtype: int64"
            ]
          },
          "metadata": {},
          "execution_count": 67
        }
      ]
    },
    {
      "cell_type": "markdown",
      "source": [
        "#Building accuracy models."
      ],
      "metadata": {
        "id": "qEb-cP4MfYMr"
      }
    },
    {
      "cell_type": "markdown",
      "source": [
        "LOGISTIC REGRESSION MODEL\n",
        "\n",
        "\n"
      ],
      "metadata": {
        "id": "Icqph_ia7TEl"
      }
    },
    {
      "cell_type": "code",
      "source": [
        "# LogisticRegression (when target variable having two possible outcomes(logical data))\n",
        "\n",
        "from sklearn.linear_model import LogisticRegression\n",
        "from sklearn.metrics import accuracy_score\n",
        "\n",
        "LR = LogisticRegression()\n",
        "LR.fit(X_train_SMOTE, y_train_SMOTE)\n",
        "pred_log = LR.predict(X_test)\n",
        "logistic_acc = accuracy_score(y_test, pred_log)*100\n",
        "print(\"Accuracy of Logistic Regression :\", logistic_acc)"
      ],
      "metadata": {
        "id": "wPhPr4GOByyK",
        "colab": {
          "base_uri": "https://localhost:8080/"
        },
        "outputId": "ea28018b-9830-41a0-c67a-6278f9964ed2"
      },
      "execution_count": null,
      "outputs": [
        {
          "output_type": "stream",
          "name": "stdout",
          "text": [
            "Accuracy of Logistic Regression : 74.25347177492078\n"
          ]
        }
      ]
    },
    {
      "cell_type": "markdown",
      "source": [
        "K_NEAREST NEIGHBORS MODEL"
      ],
      "metadata": {
        "id": "X8dMeCoz7coi"
      }
    },
    {
      "cell_type": "code",
      "source": [
        "#KNN model()\n",
        "\n",
        "from sklearn.neighbors import KNeighborsClassifier\n",
        "\n",
        "#fit the model\n",
        "knn = KNeighborsClassifier()\n",
        "knn.fit(X_train_SMOTE, y_train_SMOTE)\n",
        "pred_k = knn.predict(X_test)\n",
        "knn_acc = accuracy_score(y_test, pred_k)*100\n",
        "print(\"Accuracy of KNN:\", knn_acc)"
      ],
      "metadata": {
        "id": "Z4Q_v8b4C-1c",
        "colab": {
          "base_uri": "https://localhost:8080/"
        },
        "outputId": "41317a26-1ec0-4159-f751-284b2e045c1e"
      },
      "execution_count": null,
      "outputs": [
        {
          "output_type": "stream",
          "name": "stdout",
          "text": [
            "Accuracy of KNN: 71.63321567516039\n"
          ]
        }
      ]
    },
    {
      "cell_type": "markdown",
      "source": [
        "NAIVE BAYES MODEL"
      ],
      "metadata": {
        "id": "iW9Ajv3c7jt3"
      }
    },
    {
      "cell_type": "code",
      "source": [
        "# Naive bayes model (well in cases of categorical input variables compared to numerical variables &  suitable for binary and multiclass classification)\n",
        "\n",
        "from sklearn.naive_bayes import GaussianNB\n",
        "\n",
        "# Fit the model\n",
        "model=GaussianNB()\n",
        "gnb = model.fit(X_train_SMOTE, y_train_SMOTE)\n",
        "gnb_predict = gnb.predict(X_test)\n",
        "gnb_acc = accuracy_score(y_test, gnb_predict)*100\n",
        "print(\"Accuracy of GNB:\", gnb_acc)"
      ],
      "metadata": {
        "id": "YGd-IX93DPP7",
        "colab": {
          "base_uri": "https://localhost:8080/"
        },
        "outputId": "48af5cb7-34d2-4ebf-875e-b4051d402e30"
      },
      "execution_count": null,
      "outputs": [
        {
          "output_type": "stream",
          "name": "stdout",
          "text": [
            "Accuracy of GNB: 77.48692448406462\n"
          ]
        }
      ]
    },
    {
      "cell_type": "markdown",
      "source": [
        "RANDOM FOREST MODEL"
      ],
      "metadata": {
        "id": "aELRx8aO7qFv"
      }
    },
    {
      "cell_type": "code",
      "source": [
        "# Random ForestClassifier  (large proportion of data.)\n",
        "\n",
        "from sklearn.ensemble import RandomForestClassifier\n",
        "\n",
        "#fitting model\n",
        "rfc = RandomForestClassifier(n_estimators = 40, max_depth = 6)\n",
        "rfc.fit(X_train_SMOTE, y_train_SMOTE)\n",
        "pred_rfc = rfc.predict(X_test)\n",
        "rfc_acc = accuracy_score(y_test, pred_rfc)*100\n",
        "print(\"Accuracy of RFC:\", rfc_acc)"
      ],
      "metadata": {
        "colab": {
          "base_uri": "https://localhost:8080/"
        },
        "id": "jIftHbH4ONcO",
        "outputId": "ef4dd84e-5cc2-4814-a9f8-05607128e42e"
      },
      "execution_count": null,
      "outputs": [
        {
          "output_type": "stream",
          "name": "stdout",
          "text": [
            "Accuracy of RFC: 74.19163682271403\n"
          ]
        }
      ]
    },
    {
      "cell_type": "markdown",
      "source": [
        "# COMPARING ACCURACIES"
      ],
      "metadata": {
        "id": "ID-eI_acAtqP"
      }
    },
    {
      "cell_type": "code",
      "source": [
        "labels = [\"Logistic Regression\",\"KNN\",  \"Naive Bayes\", \"Random Forest\"]\n",
        "x = [logistic_acc, knn_acc, gnb_acc, rfc_acc]\n",
        "Eval_frame = pd.DataFrame()\n",
        "Eval_frame['Model'] = labels\n",
        "Eval_frame['train_test_split'] = x\n",
        "Eval_frame"
      ],
      "metadata": {
        "colab": {
          "base_uri": "https://localhost:8080/",
          "height": 174
        },
        "id": "NeWB8KvxAoP2",
        "outputId": "a9cc341f-3dcc-4fa8-8eec-76f75077b29a"
      },
      "execution_count": null,
      "outputs": [
        {
          "output_type": "execute_result",
          "data": {
            "text/plain": [
              "                 Model  train_test_split\n",
              "0  Logistic Regression         74.253472\n",
              "1                  KNN         71.633216\n",
              "2          Naive Bayes         77.486924\n",
              "3        Random Forest         74.191637"
            ],
            "text/html": [
              "\n",
              "  <div id=\"df-a89f3dad-275f-48fa-83b6-b61288cddace\">\n",
              "    <div class=\"colab-df-container\">\n",
              "      <div>\n",
              "<style scoped>\n",
              "    .dataframe tbody tr th:only-of-type {\n",
              "        vertical-align: middle;\n",
              "    }\n",
              "\n",
              "    .dataframe tbody tr th {\n",
              "        vertical-align: top;\n",
              "    }\n",
              "\n",
              "    .dataframe thead th {\n",
              "        text-align: right;\n",
              "    }\n",
              "</style>\n",
              "<table border=\"1\" class=\"dataframe\">\n",
              "  <thead>\n",
              "    <tr style=\"text-align: right;\">\n",
              "      <th></th>\n",
              "      <th>Model</th>\n",
              "      <th>train_test_split</th>\n",
              "    </tr>\n",
              "  </thead>\n",
              "  <tbody>\n",
              "    <tr>\n",
              "      <th>0</th>\n",
              "      <td>Logistic Regression</td>\n",
              "      <td>74.253472</td>\n",
              "    </tr>\n",
              "    <tr>\n",
              "      <th>1</th>\n",
              "      <td>KNN</td>\n",
              "      <td>71.633216</td>\n",
              "    </tr>\n",
              "    <tr>\n",
              "      <th>2</th>\n",
              "      <td>Naive Bayes</td>\n",
              "      <td>77.486924</td>\n",
              "    </tr>\n",
              "    <tr>\n",
              "      <th>3</th>\n",
              "      <td>Random Forest</td>\n",
              "      <td>74.191637</td>\n",
              "    </tr>\n",
              "  </tbody>\n",
              "</table>\n",
              "</div>\n",
              "      <button class=\"colab-df-convert\" onclick=\"convertToInteractive('df-a89f3dad-275f-48fa-83b6-b61288cddace')\"\n",
              "              title=\"Convert this dataframe to an interactive table.\"\n",
              "              style=\"display:none;\">\n",
              "        \n",
              "  <svg xmlns=\"http://www.w3.org/2000/svg\" height=\"24px\"viewBox=\"0 0 24 24\"\n",
              "       width=\"24px\">\n",
              "    <path d=\"M0 0h24v24H0V0z\" fill=\"none\"/>\n",
              "    <path d=\"M18.56 5.44l.94 2.06.94-2.06 2.06-.94-2.06-.94-.94-2.06-.94 2.06-2.06.94zm-11 1L8.5 8.5l.94-2.06 2.06-.94-2.06-.94L8.5 2.5l-.94 2.06-2.06.94zm10 10l.94 2.06.94-2.06 2.06-.94-2.06-.94-.94-2.06-.94 2.06-2.06.94z\"/><path d=\"M17.41 7.96l-1.37-1.37c-.4-.4-.92-.59-1.43-.59-.52 0-1.04.2-1.43.59L10.3 9.45l-7.72 7.72c-.78.78-.78 2.05 0 2.83L4 21.41c.39.39.9.59 1.41.59.51 0 1.02-.2 1.41-.59l7.78-7.78 2.81-2.81c.8-.78.8-2.07 0-2.86zM5.41 20L4 18.59l7.72-7.72 1.47 1.35L5.41 20z\"/>\n",
              "  </svg>\n",
              "      </button>\n",
              "      \n",
              "  <style>\n",
              "    .colab-df-container {\n",
              "      display:flex;\n",
              "      flex-wrap:wrap;\n",
              "      gap: 12px;\n",
              "    }\n",
              "\n",
              "    .colab-df-convert {\n",
              "      background-color: #E8F0FE;\n",
              "      border: none;\n",
              "      border-radius: 50%;\n",
              "      cursor: pointer;\n",
              "      display: none;\n",
              "      fill: #1967D2;\n",
              "      height: 32px;\n",
              "      padding: 0 0 0 0;\n",
              "      width: 32px;\n",
              "    }\n",
              "\n",
              "    .colab-df-convert:hover {\n",
              "      background-color: #E2EBFA;\n",
              "      box-shadow: 0px 1px 2px rgba(60, 64, 67, 0.3), 0px 1px 3px 1px rgba(60, 64, 67, 0.15);\n",
              "      fill: #174EA6;\n",
              "    }\n",
              "\n",
              "    [theme=dark] .colab-df-convert {\n",
              "      background-color: #3B4455;\n",
              "      fill: #D2E3FC;\n",
              "    }\n",
              "\n",
              "    [theme=dark] .colab-df-convert:hover {\n",
              "      background-color: #434B5C;\n",
              "      box-shadow: 0px 1px 3px 1px rgba(0, 0, 0, 0.15);\n",
              "      filter: drop-shadow(0px 1px 2px rgba(0, 0, 0, 0.3));\n",
              "      fill: #FFFFFF;\n",
              "    }\n",
              "  </style>\n",
              "\n",
              "      <script>\n",
              "        const buttonEl =\n",
              "          document.querySelector('#df-a89f3dad-275f-48fa-83b6-b61288cddace button.colab-df-convert');\n",
              "        buttonEl.style.display =\n",
              "          google.colab.kernel.accessAllowed ? 'block' : 'none';\n",
              "\n",
              "        async function convertToInteractive(key) {\n",
              "          const element = document.querySelector('#df-a89f3dad-275f-48fa-83b6-b61288cddace');\n",
              "          const dataTable =\n",
              "            await google.colab.kernel.invokeFunction('convertToInteractive',\n",
              "                                                     [key], {});\n",
              "          if (!dataTable) return;\n",
              "\n",
              "          const docLinkHtml = 'Like what you see? Visit the ' +\n",
              "            '<a target=\"_blank\" href=https://colab.research.google.com/notebooks/data_table.ipynb>data table notebook</a>'\n",
              "            + ' to learn more about interactive tables.';\n",
              "          element.innerHTML = '';\n",
              "          dataTable['output_type'] = 'display_data';\n",
              "          await google.colab.output.renderOutput(dataTable, element);\n",
              "          const docLink = document.createElement('div');\n",
              "          docLink.innerHTML = docLinkHtml;\n",
              "          element.appendChild(docLink);\n",
              "        }\n",
              "      </script>\n",
              "    </div>\n",
              "  </div>\n",
              "  "
            ]
          },
          "metadata": {},
          "execution_count": 72
        }
      ]
    },
    {
      "cell_type": "markdown",
      "source": [
        "#K-FOLD CROSS VALIDATION"
      ],
      "metadata": {
        "id": "I-utt0w1BYtg"
      }
    },
    {
      "cell_type": "code",
      "source": [
        "from sklearn.model_selection import KFold"
      ],
      "metadata": {
        "id": "gkGqElutBVY1"
      },
      "execution_count": null,
      "outputs": []
    },
    {
      "cell_type": "code",
      "source": [
        "kfold = KFold(n_splits = 5)"
      ],
      "metadata": {
        "id": "165ZtUHfBpmX"
      },
      "execution_count": null,
      "outputs": []
    },
    {
      "cell_type": "code",
      "source": [
        "#Modeling step test differents algorithms\n",
        "\n",
        "classifiers1 = []\n",
        "\n",
        "classifiers1.append(KNeighborsClassifier())\n",
        "classifiers1.append(LogisticRegression())\n",
        "classifiers1.append(GaussianNB())\n",
        "classifiers1.append(RandomForestClassifier())"
      ],
      "metadata": {
        "id": "1WhdiYMaBs-D"
      },
      "execution_count": null,
      "outputs": []
    },
    {
      "cell_type": "code",
      "source": [
        "from sklearn.model_selection import cross_val_score"
      ],
      "metadata": {
        "id": "lQlqaicwCDV4"
      },
      "execution_count": null,
      "outputs": []
    },
    {
      "cell_type": "code",
      "source": [
        "accuracy_results1 = []\n",
        "for a in classifiers1:\n",
        "  accuracy_results1.append(cross_val_score(a, X_train_SMOTE, y_train_SMOTE, scoring = \"accuracy\", cv = kfold))#Here d is 1st model knn"
      ],
      "metadata": {
        "id": "olNi4ScbCLpB"
      },
      "execution_count": null,
      "outputs": []
    },
    {
      "cell_type": "code",
      "source": [
        "#Kfolds corresponding to models\n",
        "accuracy_results1"
      ],
      "metadata": {
        "colab": {
          "base_uri": "https://localhost:8080/"
        },
        "id": "hDbeLKfOCL8t",
        "outputId": "90e9910c-e7d4-4271-e669-e2b2e74fd22f"
      },
      "execution_count": null,
      "outputs": [
        {
          "output_type": "execute_result",
          "data": {
            "text/plain": [
              "[array([0.72828876, 0.73461498, 0.73000141, 0.90594686, 0.91023478]),\n",
              " array([0.68537588, 0.6937757 , 0.68680585, 0.67348517, 0.59697034]),\n",
              " array([0.75236355, 0.75826802, 0.75003515, 0.61753128, 0.54874877]),\n",
              " array([0.85217727, 0.85621903, 0.85463236, 0.96021369, 0.98298889])]"
            ]
          },
          "metadata": {},
          "execution_count": 78
        }
      ]
    },
    {
      "cell_type": "code",
      "source": [
        "accuracy_means1 = []\n",
        "for e in accuracy_results1:\n",
        "  accuracy_means1.append(e.mean()*100)"
      ],
      "metadata": {
        "id": "SdN3o5wQCgBT"
      },
      "execution_count": null,
      "outputs": []
    },
    {
      "cell_type": "code",
      "source": [
        "accuracy_means1"
      ],
      "metadata": {
        "colab": {
          "base_uri": "https://localhost:8080/"
        },
        "id": "2_Fz3VA2CpJV",
        "outputId": "be22ecf7-4033-4ec3-dc0f-1d4d589dc9b7"
      },
      "execution_count": null,
      "outputs": [
        {
          "output_type": "execute_result",
          "data": {
            "text/plain": [
              "[80.18173562228597, 66.72825871532172, 68.5389353074878, 90.12462505531936]"
            ]
          },
          "metadata": {},
          "execution_count": 80
        }
      ]
    },
    {
      "cell_type": "code",
      "source": [
        "Eval_frame['kfolds_5'] = accuracy_means1\n",
        "Eval_frame"
      ],
      "metadata": {
        "colab": {
          "base_uri": "https://localhost:8080/",
          "height": 174
        },
        "id": "WyKzy5K9CqsF",
        "outputId": "e909152a-fe38-4c47-87f7-036911035f73"
      },
      "execution_count": null,
      "outputs": [
        {
          "output_type": "execute_result",
          "data": {
            "text/plain": [
              "                 Model  train_test_split   kfolds_5\n",
              "0  Logistic Regression         74.253472  80.181736\n",
              "1                  KNN         71.633216  66.728259\n",
              "2          Naive Bayes         77.486924  68.538935\n",
              "3        Random Forest         74.191637  90.124625"
            ],
            "text/html": [
              "\n",
              "  <div id=\"df-d780e7be-6c74-4959-a53c-b9b6dfee1169\">\n",
              "    <div class=\"colab-df-container\">\n",
              "      <div>\n",
              "<style scoped>\n",
              "    .dataframe tbody tr th:only-of-type {\n",
              "        vertical-align: middle;\n",
              "    }\n",
              "\n",
              "    .dataframe tbody tr th {\n",
              "        vertical-align: top;\n",
              "    }\n",
              "\n",
              "    .dataframe thead th {\n",
              "        text-align: right;\n",
              "    }\n",
              "</style>\n",
              "<table border=\"1\" class=\"dataframe\">\n",
              "  <thead>\n",
              "    <tr style=\"text-align: right;\">\n",
              "      <th></th>\n",
              "      <th>Model</th>\n",
              "      <th>train_test_split</th>\n",
              "      <th>kfolds_5</th>\n",
              "    </tr>\n",
              "  </thead>\n",
              "  <tbody>\n",
              "    <tr>\n",
              "      <th>0</th>\n",
              "      <td>Logistic Regression</td>\n",
              "      <td>74.253472</td>\n",
              "      <td>80.181736</td>\n",
              "    </tr>\n",
              "    <tr>\n",
              "      <th>1</th>\n",
              "      <td>KNN</td>\n",
              "      <td>71.633216</td>\n",
              "      <td>66.728259</td>\n",
              "    </tr>\n",
              "    <tr>\n",
              "      <th>2</th>\n",
              "      <td>Naive Bayes</td>\n",
              "      <td>77.486924</td>\n",
              "      <td>68.538935</td>\n",
              "    </tr>\n",
              "    <tr>\n",
              "      <th>3</th>\n",
              "      <td>Random Forest</td>\n",
              "      <td>74.191637</td>\n",
              "      <td>90.124625</td>\n",
              "    </tr>\n",
              "  </tbody>\n",
              "</table>\n",
              "</div>\n",
              "      <button class=\"colab-df-convert\" onclick=\"convertToInteractive('df-d780e7be-6c74-4959-a53c-b9b6dfee1169')\"\n",
              "              title=\"Convert this dataframe to an interactive table.\"\n",
              "              style=\"display:none;\">\n",
              "        \n",
              "  <svg xmlns=\"http://www.w3.org/2000/svg\" height=\"24px\"viewBox=\"0 0 24 24\"\n",
              "       width=\"24px\">\n",
              "    <path d=\"M0 0h24v24H0V0z\" fill=\"none\"/>\n",
              "    <path d=\"M18.56 5.44l.94 2.06.94-2.06 2.06-.94-2.06-.94-.94-2.06-.94 2.06-2.06.94zm-11 1L8.5 8.5l.94-2.06 2.06-.94-2.06-.94L8.5 2.5l-.94 2.06-2.06.94zm10 10l.94 2.06.94-2.06 2.06-.94-2.06-.94-.94-2.06-.94 2.06-2.06.94z\"/><path d=\"M17.41 7.96l-1.37-1.37c-.4-.4-.92-.59-1.43-.59-.52 0-1.04.2-1.43.59L10.3 9.45l-7.72 7.72c-.78.78-.78 2.05 0 2.83L4 21.41c.39.39.9.59 1.41.59.51 0 1.02-.2 1.41-.59l7.78-7.78 2.81-2.81c.8-.78.8-2.07 0-2.86zM5.41 20L4 18.59l7.72-7.72 1.47 1.35L5.41 20z\"/>\n",
              "  </svg>\n",
              "      </button>\n",
              "      \n",
              "  <style>\n",
              "    .colab-df-container {\n",
              "      display:flex;\n",
              "      flex-wrap:wrap;\n",
              "      gap: 12px;\n",
              "    }\n",
              "\n",
              "    .colab-df-convert {\n",
              "      background-color: #E8F0FE;\n",
              "      border: none;\n",
              "      border-radius: 50%;\n",
              "      cursor: pointer;\n",
              "      display: none;\n",
              "      fill: #1967D2;\n",
              "      height: 32px;\n",
              "      padding: 0 0 0 0;\n",
              "      width: 32px;\n",
              "    }\n",
              "\n",
              "    .colab-df-convert:hover {\n",
              "      background-color: #E2EBFA;\n",
              "      box-shadow: 0px 1px 2px rgba(60, 64, 67, 0.3), 0px 1px 3px 1px rgba(60, 64, 67, 0.15);\n",
              "      fill: #174EA6;\n",
              "    }\n",
              "\n",
              "    [theme=dark] .colab-df-convert {\n",
              "      background-color: #3B4455;\n",
              "      fill: #D2E3FC;\n",
              "    }\n",
              "\n",
              "    [theme=dark] .colab-df-convert:hover {\n",
              "      background-color: #434B5C;\n",
              "      box-shadow: 0px 1px 3px 1px rgba(0, 0, 0, 0.15);\n",
              "      filter: drop-shadow(0px 1px 2px rgba(0, 0, 0, 0.3));\n",
              "      fill: #FFFFFF;\n",
              "    }\n",
              "  </style>\n",
              "\n",
              "      <script>\n",
              "        const buttonEl =\n",
              "          document.querySelector('#df-d780e7be-6c74-4959-a53c-b9b6dfee1169 button.colab-df-convert');\n",
              "        buttonEl.style.display =\n",
              "          google.colab.kernel.accessAllowed ? 'block' : 'none';\n",
              "\n",
              "        async function convertToInteractive(key) {\n",
              "          const element = document.querySelector('#df-d780e7be-6c74-4959-a53c-b9b6dfee1169');\n",
              "          const dataTable =\n",
              "            await google.colab.kernel.invokeFunction('convertToInteractive',\n",
              "                                                     [key], {});\n",
              "          if (!dataTable) return;\n",
              "\n",
              "          const docLinkHtml = 'Like what you see? Visit the ' +\n",
              "            '<a target=\"_blank\" href=https://colab.research.google.com/notebooks/data_table.ipynb>data table notebook</a>'\n",
              "            + ' to learn more about interactive tables.';\n",
              "          element.innerHTML = '';\n",
              "          dataTable['output_type'] = 'display_data';\n",
              "          await google.colab.output.renderOutput(dataTable, element);\n",
              "          const docLink = document.createElement('div');\n",
              "          docLink.innerHTML = docLinkHtml;\n",
              "          element.appendChild(docLink);\n",
              "        }\n",
              "      </script>\n",
              "    </div>\n",
              "  </div>\n",
              "  "
            ]
          },
          "metadata": {},
          "execution_count": 81
        }
      ]
    },
    {
      "cell_type": "markdown",
      "source": [
        "#STRATIFIED K FOLD"
      ],
      "metadata": {
        "id": "1rinYV2yC6Fx"
      }
    },
    {
      "cell_type": "code",
      "source": [
        "from sklearn.model_selection import StratifiedKFold"
      ],
      "metadata": {
        "id": "sLpQ1H6KC7Vd"
      },
      "execution_count": null,
      "outputs": []
    },
    {
      "cell_type": "code",
      "source": [
        "Stratifiedkfold = StratifiedKFold(n_splits = 5)"
      ],
      "metadata": {
        "id": "GRRjav4nC_Lv"
      },
      "execution_count": null,
      "outputs": []
    },
    {
      "cell_type": "code",
      "source": [
        "# Modeling step Test differents algorithms \n",
        "classifiers_4 = []\n",
        "classifiers_4.append(KNeighborsClassifier())\n",
        "classifiers_4.append(LogisticRegression())\n",
        "classifiers_4.append(GaussianNB())\n",
        "classifiers_4.append(RandomForestClassifier())\n",
        "accuracy_results_4 = []\n",
        "for classifier in classifiers_4 :\n",
        "    accuracy_results_4.append(cross_val_score(classifier, X_train_SMOTE,y_train_SMOTE, scoring = \"accuracy\", cv = Stratifiedkfold))\n",
        "accuracy_means_4 = []\n",
        "for accuracy_result in accuracy_results_4:\n",
        "    accuracy_means_4.append(accuracy_result.mean()*100)\n",
        "accuracy_means_4\n",
        "Eval_frame['Stratifiedkfold_5']=accuracy_means_4\n",
        "Eval_frame"
      ],
      "metadata": {
        "colab": {
          "base_uri": "https://localhost:8080/",
          "height": 174
        },
        "id": "Rh7woapCDCiq",
        "outputId": "c9740de7-c3d8-4190-e96f-7df3b134dae4"
      },
      "execution_count": null,
      "outputs": [
        {
          "output_type": "execute_result",
          "data": {
            "text/plain": [
              "                 Model  train_test_split   kfolds_5  Stratifiedkfold_5\n",
              "0  Logistic Regression         74.253472  80.181736          84.033702\n",
              "1                  KNN         71.633216  66.728259          73.982511\n",
              "2          Naive Bayes         77.486924  68.538935          72.320786\n",
              "3        Random Forest         74.191637  90.124625          89.742986"
            ],
            "text/html": [
              "\n",
              "  <div id=\"df-3b45ddae-2ce5-4975-b6ef-8855b44586f0\">\n",
              "    <div class=\"colab-df-container\">\n",
              "      <div>\n",
              "<style scoped>\n",
              "    .dataframe tbody tr th:only-of-type {\n",
              "        vertical-align: middle;\n",
              "    }\n",
              "\n",
              "    .dataframe tbody tr th {\n",
              "        vertical-align: top;\n",
              "    }\n",
              "\n",
              "    .dataframe thead th {\n",
              "        text-align: right;\n",
              "    }\n",
              "</style>\n",
              "<table border=\"1\" class=\"dataframe\">\n",
              "  <thead>\n",
              "    <tr style=\"text-align: right;\">\n",
              "      <th></th>\n",
              "      <th>Model</th>\n",
              "      <th>train_test_split</th>\n",
              "      <th>kfolds_5</th>\n",
              "      <th>Stratifiedkfold_5</th>\n",
              "    </tr>\n",
              "  </thead>\n",
              "  <tbody>\n",
              "    <tr>\n",
              "      <th>0</th>\n",
              "      <td>Logistic Regression</td>\n",
              "      <td>74.253472</td>\n",
              "      <td>80.181736</td>\n",
              "      <td>84.033702</td>\n",
              "    </tr>\n",
              "    <tr>\n",
              "      <th>1</th>\n",
              "      <td>KNN</td>\n",
              "      <td>71.633216</td>\n",
              "      <td>66.728259</td>\n",
              "      <td>73.982511</td>\n",
              "    </tr>\n",
              "    <tr>\n",
              "      <th>2</th>\n",
              "      <td>Naive Bayes</td>\n",
              "      <td>77.486924</td>\n",
              "      <td>68.538935</td>\n",
              "      <td>72.320786</td>\n",
              "    </tr>\n",
              "    <tr>\n",
              "      <th>3</th>\n",
              "      <td>Random Forest</td>\n",
              "      <td>74.191637</td>\n",
              "      <td>90.124625</td>\n",
              "      <td>89.742986</td>\n",
              "    </tr>\n",
              "  </tbody>\n",
              "</table>\n",
              "</div>\n",
              "      <button class=\"colab-df-convert\" onclick=\"convertToInteractive('df-3b45ddae-2ce5-4975-b6ef-8855b44586f0')\"\n",
              "              title=\"Convert this dataframe to an interactive table.\"\n",
              "              style=\"display:none;\">\n",
              "        \n",
              "  <svg xmlns=\"http://www.w3.org/2000/svg\" height=\"24px\"viewBox=\"0 0 24 24\"\n",
              "       width=\"24px\">\n",
              "    <path d=\"M0 0h24v24H0V0z\" fill=\"none\"/>\n",
              "    <path d=\"M18.56 5.44l.94 2.06.94-2.06 2.06-.94-2.06-.94-.94-2.06-.94 2.06-2.06.94zm-11 1L8.5 8.5l.94-2.06 2.06-.94-2.06-.94L8.5 2.5l-.94 2.06-2.06.94zm10 10l.94 2.06.94-2.06 2.06-.94-2.06-.94-.94-2.06-.94 2.06-2.06.94z\"/><path d=\"M17.41 7.96l-1.37-1.37c-.4-.4-.92-.59-1.43-.59-.52 0-1.04.2-1.43.59L10.3 9.45l-7.72 7.72c-.78.78-.78 2.05 0 2.83L4 21.41c.39.39.9.59 1.41.59.51 0 1.02-.2 1.41-.59l7.78-7.78 2.81-2.81c.8-.78.8-2.07 0-2.86zM5.41 20L4 18.59l7.72-7.72 1.47 1.35L5.41 20z\"/>\n",
              "  </svg>\n",
              "      </button>\n",
              "      \n",
              "  <style>\n",
              "    .colab-df-container {\n",
              "      display:flex;\n",
              "      flex-wrap:wrap;\n",
              "      gap: 12px;\n",
              "    }\n",
              "\n",
              "    .colab-df-convert {\n",
              "      background-color: #E8F0FE;\n",
              "      border: none;\n",
              "      border-radius: 50%;\n",
              "      cursor: pointer;\n",
              "      display: none;\n",
              "      fill: #1967D2;\n",
              "      height: 32px;\n",
              "      padding: 0 0 0 0;\n",
              "      width: 32px;\n",
              "    }\n",
              "\n",
              "    .colab-df-convert:hover {\n",
              "      background-color: #E2EBFA;\n",
              "      box-shadow: 0px 1px 2px rgba(60, 64, 67, 0.3), 0px 1px 3px 1px rgba(60, 64, 67, 0.15);\n",
              "      fill: #174EA6;\n",
              "    }\n",
              "\n",
              "    [theme=dark] .colab-df-convert {\n",
              "      background-color: #3B4455;\n",
              "      fill: #D2E3FC;\n",
              "    }\n",
              "\n",
              "    [theme=dark] .colab-df-convert:hover {\n",
              "      background-color: #434B5C;\n",
              "      box-shadow: 0px 1px 3px 1px rgba(0, 0, 0, 0.15);\n",
              "      filter: drop-shadow(0px 1px 2px rgba(0, 0, 0, 0.3));\n",
              "      fill: #FFFFFF;\n",
              "    }\n",
              "  </style>\n",
              "\n",
              "      <script>\n",
              "        const buttonEl =\n",
              "          document.querySelector('#df-3b45ddae-2ce5-4975-b6ef-8855b44586f0 button.colab-df-convert');\n",
              "        buttonEl.style.display =\n",
              "          google.colab.kernel.accessAllowed ? 'block' : 'none';\n",
              "\n",
              "        async function convertToInteractive(key) {\n",
              "          const element = document.querySelector('#df-3b45ddae-2ce5-4975-b6ef-8855b44586f0');\n",
              "          const dataTable =\n",
              "            await google.colab.kernel.invokeFunction('convertToInteractive',\n",
              "                                                     [key], {});\n",
              "          if (!dataTable) return;\n",
              "\n",
              "          const docLinkHtml = 'Like what you see? Visit the ' +\n",
              "            '<a target=\"_blank\" href=https://colab.research.google.com/notebooks/data_table.ipynb>data table notebook</a>'\n",
              "            + ' to learn more about interactive tables.';\n",
              "          element.innerHTML = '';\n",
              "          dataTable['output_type'] = 'display_data';\n",
              "          await google.colab.output.renderOutput(dataTable, element);\n",
              "          const docLink = document.createElement('div');\n",
              "          docLink.innerHTML = docLinkHtml;\n",
              "          element.appendChild(docLink);\n",
              "        }\n",
              "      </script>\n",
              "    </div>\n",
              "  </div>\n",
              "  "
            ]
          },
          "metadata": {},
          "execution_count": 84
        }
      ]
    },
    {
      "cell_type": "markdown",
      "source": [
        "#Repeated Random Train-Test Splits"
      ],
      "metadata": {
        "id": "RiJRcwHvBtpU"
      }
    },
    {
      "cell_type": "code",
      "source": [
        "from sklearn.model_selection import ShuffleSplit #randomly sample entire dataset during each iteration to generate training nd test set"
      ],
      "metadata": {
        "id": "La566R39D-3W"
      },
      "execution_count": null,
      "outputs": []
    },
    {
      "cell_type": "code",
      "source": [
        "kfold = ShuffleSplit(n_splits=5,test_size=0.3)\n",
        "# Modeling step Test differents algorithms \n",
        "classifiers_2 = []\n",
        "classifiers_2.append(KNeighborsClassifier())\n",
        "classifiers_2.append(LogisticRegression())\n",
        "classifiers_2.append(GaussianNB())\n",
        "classifiers_2.append(RandomForestClassifier())\n",
        "accuracy_results_2 = []\n",
        "for classifier in classifiers_2:\n",
        "    accuracy_results_2.append(cross_val_score(classifier, X_train_SMOTE,y_train_SMOTE, scoring = \"accuracy\", cv = kfold))\n",
        "accuracy_means_2 = []\n",
        "for accuracy_result in accuracy_results_2:\n",
        "    accuracy_means_2.append(accuracy_result.mean()*100)\n",
        "accuracy_means_2\n",
        "Eval_frame['RRTestTrainSplits_5']=accuracy_means_2\n",
        "round((Eval_frame.round(2)),2)"
      ],
      "metadata": {
        "id": "RHODI1xeEDcT",
        "colab": {
          "base_uri": "https://localhost:8080/",
          "height": 236
        },
        "outputId": "92339b92-bc00-4429-cdce-fb265647f2cb"
      },
      "execution_count": null,
      "outputs": [
        {
          "output_type": "execute_result",
          "data": {
            "text/plain": [
              "                 Model  train_test_split  kfolds_5  Stratifiedkfold_5  \\\n",
              "0  Logistic Regression             74.25     80.18              84.03   \n",
              "1                  KNN             71.63     66.73              73.98   \n",
              "2          Naive Bayes             77.49     68.54              72.32   \n",
              "3        Random Forest             74.19     90.12              89.74   \n",
              "\n",
              "   RRTestTrainSplits_5  \n",
              "0                83.01  \n",
              "1                74.01  \n",
              "2                72.14  \n",
              "3                89.99  "
            ],
            "text/html": [
              "\n",
              "  <div id=\"df-aab7bd38-173c-4f36-9061-8f12397ff7d8\">\n",
              "    <div class=\"colab-df-container\">\n",
              "      <div>\n",
              "<style scoped>\n",
              "    .dataframe tbody tr th:only-of-type {\n",
              "        vertical-align: middle;\n",
              "    }\n",
              "\n",
              "    .dataframe tbody tr th {\n",
              "        vertical-align: top;\n",
              "    }\n",
              "\n",
              "    .dataframe thead th {\n",
              "        text-align: right;\n",
              "    }\n",
              "</style>\n",
              "<table border=\"1\" class=\"dataframe\">\n",
              "  <thead>\n",
              "    <tr style=\"text-align: right;\">\n",
              "      <th></th>\n",
              "      <th>Model</th>\n",
              "      <th>train_test_split</th>\n",
              "      <th>kfolds_5</th>\n",
              "      <th>Stratifiedkfold_5</th>\n",
              "      <th>RRTestTrainSplits_5</th>\n",
              "    </tr>\n",
              "  </thead>\n",
              "  <tbody>\n",
              "    <tr>\n",
              "      <th>0</th>\n",
              "      <td>Logistic Regression</td>\n",
              "      <td>74.25</td>\n",
              "      <td>80.18</td>\n",
              "      <td>84.03</td>\n",
              "      <td>83.01</td>\n",
              "    </tr>\n",
              "    <tr>\n",
              "      <th>1</th>\n",
              "      <td>KNN</td>\n",
              "      <td>71.63</td>\n",
              "      <td>66.73</td>\n",
              "      <td>73.98</td>\n",
              "      <td>74.01</td>\n",
              "    </tr>\n",
              "    <tr>\n",
              "      <th>2</th>\n",
              "      <td>Naive Bayes</td>\n",
              "      <td>77.49</td>\n",
              "      <td>68.54</td>\n",
              "      <td>72.32</td>\n",
              "      <td>72.14</td>\n",
              "    </tr>\n",
              "    <tr>\n",
              "      <th>3</th>\n",
              "      <td>Random Forest</td>\n",
              "      <td>74.19</td>\n",
              "      <td>90.12</td>\n",
              "      <td>89.74</td>\n",
              "      <td>89.99</td>\n",
              "    </tr>\n",
              "  </tbody>\n",
              "</table>\n",
              "</div>\n",
              "      <button class=\"colab-df-convert\" onclick=\"convertToInteractive('df-aab7bd38-173c-4f36-9061-8f12397ff7d8')\"\n",
              "              title=\"Convert this dataframe to an interactive table.\"\n",
              "              style=\"display:none;\">\n",
              "        \n",
              "  <svg xmlns=\"http://www.w3.org/2000/svg\" height=\"24px\"viewBox=\"0 0 24 24\"\n",
              "       width=\"24px\">\n",
              "    <path d=\"M0 0h24v24H0V0z\" fill=\"none\"/>\n",
              "    <path d=\"M18.56 5.44l.94 2.06.94-2.06 2.06-.94-2.06-.94-.94-2.06-.94 2.06-2.06.94zm-11 1L8.5 8.5l.94-2.06 2.06-.94-2.06-.94L8.5 2.5l-.94 2.06-2.06.94zm10 10l.94 2.06.94-2.06 2.06-.94-2.06-.94-.94-2.06-.94 2.06-2.06.94z\"/><path d=\"M17.41 7.96l-1.37-1.37c-.4-.4-.92-.59-1.43-.59-.52 0-1.04.2-1.43.59L10.3 9.45l-7.72 7.72c-.78.78-.78 2.05 0 2.83L4 21.41c.39.39.9.59 1.41.59.51 0 1.02-.2 1.41-.59l7.78-7.78 2.81-2.81c.8-.78.8-2.07 0-2.86zM5.41 20L4 18.59l7.72-7.72 1.47 1.35L5.41 20z\"/>\n",
              "  </svg>\n",
              "      </button>\n",
              "      \n",
              "  <style>\n",
              "    .colab-df-container {\n",
              "      display:flex;\n",
              "      flex-wrap:wrap;\n",
              "      gap: 12px;\n",
              "    }\n",
              "\n",
              "    .colab-df-convert {\n",
              "      background-color: #E8F0FE;\n",
              "      border: none;\n",
              "      border-radius: 50%;\n",
              "      cursor: pointer;\n",
              "      display: none;\n",
              "      fill: #1967D2;\n",
              "      height: 32px;\n",
              "      padding: 0 0 0 0;\n",
              "      width: 32px;\n",
              "    }\n",
              "\n",
              "    .colab-df-convert:hover {\n",
              "      background-color: #E2EBFA;\n",
              "      box-shadow: 0px 1px 2px rgba(60, 64, 67, 0.3), 0px 1px 3px 1px rgba(60, 64, 67, 0.15);\n",
              "      fill: #174EA6;\n",
              "    }\n",
              "\n",
              "    [theme=dark] .colab-df-convert {\n",
              "      background-color: #3B4455;\n",
              "      fill: #D2E3FC;\n",
              "    }\n",
              "\n",
              "    [theme=dark] .colab-df-convert:hover {\n",
              "      background-color: #434B5C;\n",
              "      box-shadow: 0px 1px 3px 1px rgba(0, 0, 0, 0.15);\n",
              "      filter: drop-shadow(0px 1px 2px rgba(0, 0, 0, 0.3));\n",
              "      fill: #FFFFFF;\n",
              "    }\n",
              "  </style>\n",
              "\n",
              "      <script>\n",
              "        const buttonEl =\n",
              "          document.querySelector('#df-aab7bd38-173c-4f36-9061-8f12397ff7d8 button.colab-df-convert');\n",
              "        buttonEl.style.display =\n",
              "          google.colab.kernel.accessAllowed ? 'block' : 'none';\n",
              "\n",
              "        async function convertToInteractive(key) {\n",
              "          const element = document.querySelector('#df-aab7bd38-173c-4f36-9061-8f12397ff7d8');\n",
              "          const dataTable =\n",
              "            await google.colab.kernel.invokeFunction('convertToInteractive',\n",
              "                                                     [key], {});\n",
              "          if (!dataTable) return;\n",
              "\n",
              "          const docLinkHtml = 'Like what you see? Visit the ' +\n",
              "            '<a target=\"_blank\" href=https://colab.research.google.com/notebooks/data_table.ipynb>data table notebook</a>'\n",
              "            + ' to learn more about interactive tables.';\n",
              "          element.innerHTML = '';\n",
              "          dataTable['output_type'] = 'display_data';\n",
              "          await google.colab.output.renderOutput(dataTable, element);\n",
              "          const docLink = document.createElement('div');\n",
              "          docLink.innerHTML = docLinkHtml;\n",
              "          element.appendChild(docLink);\n",
              "        }\n",
              "      </script>\n",
              "    </div>\n",
              "  </div>\n",
              "  "
            ]
          },
          "metadata": {},
          "execution_count": 86
        }
      ]
    },
    {
      "cell_type": "markdown",
      "source": [
        "#Evaluation table to excel"
      ],
      "metadata": {
        "id": "FmMxIqTDGO5g"
      }
    },
    {
      "cell_type": "code",
      "source": [
        "Eval_frame.to_csv(\"Evaluating Accuracies.csv\")"
      ],
      "metadata": {
        "id": "Gma39AZ_Fh-y"
      },
      "execution_count": null,
      "outputs": []
    },
    {
      "cell_type": "markdown",
      "source": [
        "By cross validation we get to know that Random Forest's scores highest accuracy in each method. So RFC is our Optimal model."
      ],
      "metadata": {
        "id": "jOKacWXi70hI"
      }
    },
    {
      "cell_type": "markdown",
      "source": [
        "#CONFUSION MATRIX CORRESPONDING TO RANDOM FOREST CLASSIFIER(OPTIMAL MODEL)."
      ],
      "metadata": {
        "id": "Uy5aSANzEe0G"
      }
    },
    {
      "cell_type": "code",
      "source": [
        "from sklearn.metrics import confusion_matrix\n",
        "C_MATRIX = confusion_matrix(y_test, pred_rfc)\n",
        "C_MATRIX"
      ],
      "metadata": {
        "id": "9pN18fyfEVnY",
        "colab": {
          "base_uri": "https://localhost:8080/"
        },
        "outputId": "497ab027-14cf-41e1-8971-858b27ff904a"
      },
      "execution_count": null,
      "outputs": [
        {
          "output_type": "execute_result",
          "data": {
            "text/plain": [
              "array([[22528,  7719],\n",
              "       [ 2298,  6268]])"
            ]
          },
          "metadata": {},
          "execution_count": 88
        }
      ]
    },
    {
      "cell_type": "code",
      "source": [
        "#Plotting confusion matrix\n",
        "\n",
        "ax = sns.heatmap(C_MATRIX/np.sum(C_MATRIX), annot=True, fmt='.2%', cmap='Blues')\n",
        "ax.set_title('Confusion Matrix corresponding to Random Forest Classifier algorithm \\n');\n",
        "ax.set_xlabel('Predicted Values')\n",
        "ax.set_ylabel('Actual Values');\n",
        "\n",
        "## Display the visualization of the Confusion Matrix.\n",
        "\n",
        "plt.savefig(\"cf_matrix_RFC.png\",bbox_inches='tight' )\n",
        "plt.show()\n",
        "print(\"Confusion matrix of Random Forest :\", rfc_acc)"
      ],
      "metadata": {
        "colab": {
          "base_uri": "https://localhost:8080/",
          "height": 327
        },
        "id": "FyUNTELeyQKh",
        "outputId": "0f08a090-be13-48eb-ee1b-fdd437a40832"
      },
      "execution_count": null,
      "outputs": [
        {
          "output_type": "display_data",
          "data": {
            "text/plain": [
              "<Figure size 432x288 with 2 Axes>"
            ],
            "image/png": "[encoded data removed]"
          },
          "metadata": {
            "needs_background": "light"
          }
        },
        {
          "output_type": "stream",
          "name": "stdout",
          "text": [
            "Confusion matrix of Random Forest : 74.19163682271403\n"
          ]
        }
      ]
    },
    {
      "cell_type": "markdown",
      "source": [
        "The above confusion matrix shows that corresponding to 0 there are 58.44% of total proportion are correct predictions and corresponding to 1 there are 15.99% of total proportion are correction predictions because here when our predicted value is 0 then actual values is also 0 and when predicted values is 1 actual is also 1."
      ],
      "metadata": {
        "id": "5HZdHSdX3joQ"
      }
    },
    {
      "cell_type": "markdown",
      "source": [
        "#ROC CURVE"
      ],
      "metadata": {
        "id": "oKYkzezZCRip"
      }
    },
    {
      "cell_type": "code",
      "source": [
        "from sklearn import metrics #(AUC = how much the model is capable of distinguishing between classes.)\n",
        "rfc.fit(X_train, y_train)\n",
        "metrics.plot_roc_curve(rfc, X_test, y_test)\n",
        "plt.plot([0, 1], [0, 1], 'g--')\n",
        "plt.xlim([0.0, 1.0])\n",
        "plt.ylim([0.0, 1.0])\n",
        "plt.xlabel('False Positive Rate')\n",
        "plt.ylabel('True Positive Rate')\n",
        "plt.title('ROC Curve\\n\\n')\n",
        "plt.savefig(\"ROC Curve.png\", bbox_inches = 'tight')\n",
        "plt.show()"
      ],
      "metadata": {
        "id": "sGVXmPOCHw5B",
        "colab": {
          "base_uri": "https://localhost:8080/",
          "height": 325
        },
        "outputId": "b5a39dcd-ce39-4ee8-887f-e63c31c3d5c5"
      },
      "execution_count": null,
      "outputs": [
        {
          "output_type": "display_data",
          "data": {
            "text/plain": [
              "<Figure size 432x288 with 1 Axes>"
            ],
            "image/png": "[encoded data removed]"
          },
          "metadata": {
            "needs_background": "light"
          }
        }
      ]
    },
    {
      "cell_type": "markdown",
      "source": [
        "FROM ABOVE GRAPH, AREA UNDER THE CURVE SCORE IS 0.82. IT SHOW THAT **RANDOM FOREST** IS AN OPTIMAL CLASSIFIER."
      ],
      "metadata": {
        "id": "th3BL8Cwpzqg"
      }
    },
    {
      "cell_type": "markdown",
      "source": [
        "#CLASSIFICATION REPORT OF RFC MODEL."
      ],
      "metadata": {
        "id": "8f9bC_eWCKik"
      }
    },
    {
      "cell_type": "code",
      "source": [
        "from sklearn.metrics import accuracy_score\n",
        "from sklearn.metrics import classification_report\n",
        "\n",
        "print(classification_report(y_test, pred_rfc))\n"
      ],
      "metadata": {
        "id": "Kf_a7pH8MtgJ",
        "colab": {
          "base_uri": "https://localhost:8080/"
        },
        "outputId": "f4a91e6c-0f0a-4372-e32f-70b0ac3101c3"
      },
      "execution_count": null,
      "outputs": [
        {
          "output_type": "stream",
          "name": "stdout",
          "text": [
            "              precision    recall  f1-score   support\n",
            "\n",
            "           0       0.91      0.74      0.82     30247\n",
            "           1       0.45      0.73      0.56      8566\n",
            "\n",
            "    accuracy                           0.74     38813\n",
            "   macro avg       0.68      0.74      0.69     38813\n",
            "weighted avg       0.81      0.74      0.76     38813\n",
            "\n"
          ]
        }
      ]
    },
    {
      "cell_type": "markdown",
      "source": [
        "Precision: The classification report shows corresponding to 0 there are 91% values were correctly predicted out of total predicted values and corresponding to 1 it is 45%.\n",
        "Recall: corresponding to 0, out of total actual values 75% are correct,whereas corresponding to 1, 72% values are correct.\n"
      ],
      "metadata": {
        "id": "o1mPDOI64f_E"
      }
    }
  ]
}