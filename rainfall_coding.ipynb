{
  "nbformat": 4,
  "nbformat_minor": 0,
  "metadata": {
    "colab": {
      "name": "A to Z rainfall coding.ipynb",
      "provenance": [],
      "collapsed_sections": []
    },
    "kernelspec": {
      "name": "python3",
      "display_name": "Python 3"
    },
    "language_info": {
      "name": "python"
    }
  },
  "cells": [
    {
      "cell_type": "markdown",
      "source": [
        "#GROUP. 12"
      ],
      "metadata": {
        "id": "J8SytvCdgS-C"
      }
    },
    {
      "cell_type": "markdown",
      "source": [
        "#IMPORTING LIBRARIES\n",
        "\n",
        "1.   List item\n",
        "2.   List item\n",
        "\n"
      ],
      "metadata": {
        "id": "Xg9wquXgaIBb"
      }
    },
    {
      "cell_type": "code",
      "execution_count": null,
      "metadata": {
        "id": "VJuvVgsWhKdj"
      },
      "outputs": [],
      "source": [
        "#Import libraries\n",
        "\n",
        "import pandas as pd #(used for data mnipulation nd analysis)\n",
        "import matplotlib.pyplot as plt # to create plots\n",
        "import seaborn as sns #Used for data visualising and exploratory data analysis\n",
        "import numpy as np # used for mathematical calculations\n",
        "import warnings \n",
        "warnings.filterwarnings('ignore')"
      ]
    },
    {
      "cell_type": "markdown",
      "source": [
        "#LOADING DATASET"
      ],
      "metadata": {
        "id": "iCNkMWt4aQ65"
      }
    },
    {
      "cell_type": "code",
      "source": [
        "# To load data\n",
        "\n",
        "RAIN = pd.read_csv('/content/weatherAUS.csv')"
      ],
      "metadata": {
        "id": "9CoRDycNhPkM"
      },
      "execution_count": null,
      "outputs": []
    },
    {
      "cell_type": "markdown",
      "source": [
        "#To check number of attributes and records.."
      ],
      "metadata": {
        "id": "EsKSiQ1E1jHq"
      }
    },
    {
      "cell_type": "code",
      "source": [
        "# To check shape(no. of records and attributes in dataset)\n",
        "\n",
        "RAIN.shape"
      ],
      "metadata": {
        "id": "UDlO2nQEhkJT",
        "colab": {
          "base_uri": "https://localhost:8080/"
        },
        "outputId": "1d8052b5-72f0-4881-944f-986c6a6cb7b2"
      },
      "execution_count": null,
      "outputs": [
        {
          "output_type": "execute_result",
          "data": {
            "text/plain": [
              "(139138, 23)"
            ]
          },
          "metadata": {},
          "execution_count": 3
        }
      ]
    },
    {
      "cell_type": "markdown",
      "source": [
        "It shows that this dataset contains 145460 records and 23 attributes."
      ],
      "metadata": {
        "id": "hZohEOBuqQoS"
      }
    },
    {
      "cell_type": "markdown",
      "source": [
        "#Printing top 10 rows from dataset."
      ],
      "metadata": {
        "id": "2lgQvteU1ooy"
      }
    },
    {
      "cell_type": "code",
      "source": [
        "# Print top 10 rows\n",
        "\n",
        "RAIN.head(10)"
      ],
      "metadata": {
        "id": "kDJUgSSFhuj0",
        "colab": {
          "base_uri": "https://localhost:8080/",
          "height": 803
        },
        "outputId": "90bde793-298a-485c-9b98-8ae393d25be0"
      },
      "execution_count": null,
      "outputs": [
        {
          "output_type": "execute_result",
          "data": {
            "text/plain": [
              "         Date Location  MinTemp  MaxTemp  Rainfall  Evaporation  Sunshine  \\\n",
              "0  01-12-2008   Albury     13.4     22.9       0.6          NaN       NaN   \n",
              "1  02-12-2008   Albury      7.4     25.1       0.0          NaN       NaN   \n",
              "2  03-12-2008   Albury     12.9     25.7       0.0          NaN       NaN   \n",
              "3  04-12-2008   Albury      9.2     28.0       0.0          NaN       NaN   \n",
              "4  05-12-2008   Albury     17.5     32.3       1.0          NaN       NaN   \n",
              "5  06-12-2008   Albury     14.6     29.7       0.2          NaN       NaN   \n",
              "6  07-12-2008   Albury     14.3     25.0       0.0          NaN       NaN   \n",
              "7  08-12-2008   Albury      7.7     26.7       0.0          NaN       NaN   \n",
              "8  09-12-2008   Albury      9.7     31.9       0.0          NaN       NaN   \n",
              "9  10-12-2008   Albury     13.1     30.1       1.4          NaN       NaN   \n",
              "\n",
              "  WindGustDir  WindGustSpeed WindDir9am  ... Humidity9am  Humidity3pm  \\\n",
              "0           W           44.0          W  ...        71.0         22.0   \n",
              "1         WNW           44.0        NNW  ...        44.0         25.0   \n",
              "2         WSW           46.0          W  ...        38.0         30.0   \n",
              "3          NE           24.0         SE  ...        45.0         16.0   \n",
              "4           W           41.0        ENE  ...        82.0         33.0   \n",
              "5         WNW           56.0          W  ...        55.0         23.0   \n",
              "6           W           50.0         SW  ...        49.0         19.0   \n",
              "7           W           35.0        SSE  ...        48.0         19.0   \n",
              "8         NNW           80.0         SE  ...        42.0          9.0   \n",
              "9           W           28.0          S  ...        58.0         27.0   \n",
              "\n",
              "   Pressure9am  Pressure3pm  Cloud9am  Cloud3pm  Temp9am  Temp3pm  RainToday  \\\n",
              "0       1007.7       1007.1       8.0       NaN     16.9     21.8         No   \n",
              "1       1010.6       1007.8       NaN       NaN     17.2     24.3         No   \n",
              "2       1007.6       1008.7       NaN       2.0     21.0     23.2         No   \n",
              "3       1017.6       1012.8       NaN       NaN     18.1     26.5         No   \n",
              "4       1010.8       1006.0       7.0       8.0     17.8     29.7         No   \n",
              "5       1009.2       1005.4       NaN       NaN     20.6     28.9         No   \n",
              "6       1009.6       1008.2       1.0       NaN     18.1     24.6         No   \n",
              "7       1013.4       1010.1       NaN       NaN     16.3     25.5         No   \n",
              "8       1008.9       1003.6       NaN       NaN     18.3     30.2         No   \n",
              "9       1007.0       1005.7       NaN       NaN     20.1     28.2        Yes   \n",
              "\n",
              "   RainTomorrow  \n",
              "0            No  \n",
              "1            No  \n",
              "2            No  \n",
              "3            No  \n",
              "4            No  \n",
              "5            No  \n",
              "6            No  \n",
              "7            No  \n",
              "8           Yes  \n",
              "9            No  \n",
              "\n",
              "[10 rows x 23 columns]"
            ],
            "text/html": [
              "\n",
              "  <div id=\"df-bf71132a-c84f-41b1-a448-0347245aa91d\">\n",
              "    <div class=\"colab-df-container\">\n",
              "      <div>\n",
              "<style scoped>\n",
              "    .dataframe tbody tr th:only-of-type {\n",
              "        vertical-align: middle;\n",
              "    }\n",
              "\n",
              "    .dataframe tbody tr th {\n",
              "        vertical-align: top;\n",
              "    }\n",
              "\n",
              "    .dataframe thead th {\n",
              "        text-align: right;\n",
              "    }\n",
              "</style>\n",
              "<table border=\"1\" class=\"dataframe\">\n",
              "  <thead>\n",
              "    <tr style=\"text-align: right;\">\n",
              "      <th></th>\n",
              "      <th>Date</th>\n",
              "      <th>Location</th>\n",
              "      <th>MinTemp</th>\n",
              "      <th>MaxTemp</th>\n",
              "      <th>Rainfall</th>\n",
              "      <th>Evaporation</th>\n",
              "      <th>Sunshine</th>\n",
              "      <th>WindGustDir</th>\n",
              "      <th>WindGustSpeed</th>\n",
              "      <th>WindDir9am</th>\n",
              "      <th>...</th>\n",
              "      <th>Humidity9am</th>\n",
              "      <th>Humidity3pm</th>\n",
              "      <th>Pressure9am</th>\n",
              "      <th>Pressure3pm</th>\n",
              "      <th>Cloud9am</th>\n",
              "      <th>Cloud3pm</th>\n",
              "      <th>Temp9am</th>\n",
              "      <th>Temp3pm</th>\n",
              "      <th>RainToday</th>\n",
              "      <th>RainTomorrow</th>\n",
              "    </tr>\n",
              "  </thead>\n",
              "  <tbody>\n",
              "    <tr>\n",
              "      <th>0</th>\n",
              "      <td>01-12-2008</td>\n",
              "      <td>Albury</td>\n",
              "      <td>13.4</td>\n",
              "      <td>22.9</td>\n",
              "      <td>0.6</td>\n",
              "      <td>NaN</td>\n",
              "      <td>NaN</td>\n",
              "      <td>W</td>\n",
              "      <td>44.0</td>\n",
              "      <td>W</td>\n",
              "      <td>...</td>\n",
              "      <td>71.0</td>\n",
              "      <td>22.0</td>\n",
              "      <td>1007.7</td>\n",
              "      <td>1007.1</td>\n",
              "      <td>8.0</td>\n",
              "      <td>NaN</td>\n",
              "      <td>16.9</td>\n",
              "      <td>21.8</td>\n",
              "      <td>No</td>\n",
              "      <td>No</td>\n",
              "    </tr>\n",
              "    <tr>\n",
              "      <th>1</th>\n",
              "      <td>02-12-2008</td>\n",
              "      <td>Albury</td>\n",
              "      <td>7.4</td>\n",
              "      <td>25.1</td>\n",
              "      <td>0.0</td>\n",
              "      <td>NaN</td>\n",
              "      <td>NaN</td>\n",
              "      <td>WNW</td>\n",
              "      <td>44.0</td>\n",
              "      <td>NNW</td>\n",
              "      <td>...</td>\n",
              "      <td>44.0</td>\n",
              "      <td>25.0</td>\n",
              "      <td>1010.6</td>\n",
              "      <td>1007.8</td>\n",
              "      <td>NaN</td>\n",
              "      <td>NaN</td>\n",
              "      <td>17.2</td>\n",
              "      <td>24.3</td>\n",
              "      <td>No</td>\n",
              "      <td>No</td>\n",
              "    </tr>\n",
              "    <tr>\n",
              "      <th>2</th>\n",
              "      <td>03-12-2008</td>\n",
              "      <td>Albury</td>\n",
              "      <td>12.9</td>\n",
              "      <td>25.7</td>\n",
              "      <td>0.0</td>\n",
              "      <td>NaN</td>\n",
              "      <td>NaN</td>\n",
              "      <td>WSW</td>\n",
              "      <td>46.0</td>\n",
              "      <td>W</td>\n",
              "      <td>...</td>\n",
              "      <td>38.0</td>\n",
              "      <td>30.0</td>\n",
              "      <td>1007.6</td>\n",
              "      <td>1008.7</td>\n",
              "      <td>NaN</td>\n",
              "      <td>2.0</td>\n",
              "      <td>21.0</td>\n",
              "      <td>23.2</td>\n",
              "      <td>No</td>\n",
              "      <td>No</td>\n",
              "    </tr>\n",
              "    <tr>\n",
              "      <th>3</th>\n",
              "      <td>04-12-2008</td>\n",
              "      <td>Albury</td>\n",
              "      <td>9.2</td>\n",
              "      <td>28.0</td>\n",
              "      <td>0.0</td>\n",
              "      <td>NaN</td>\n",
              "      <td>NaN</td>\n",
              "      <td>NE</td>\n",
              "      <td>24.0</td>\n",
              "      <td>SE</td>\n",
              "      <td>...</td>\n",
              "      <td>45.0</td>\n",
              "      <td>16.0</td>\n",
              "      <td>1017.6</td>\n",
              "      <td>1012.8</td>\n",
              "      <td>NaN</td>\n",
              "      <td>NaN</td>\n",
              "      <td>18.1</td>\n",
              "      <td>26.5</td>\n",
              "      <td>No</td>\n",
              "      <td>No</td>\n",
              "    </tr>\n",
              "    <tr>\n",
              "      <th>4</th>\n",
              "      <td>05-12-2008</td>\n",
              "      <td>Albury</td>\n",
              "      <td>17.5</td>\n",
              "      <td>32.3</td>\n",
              "      <td>1.0</td>\n",
              "      <td>NaN</td>\n",
              "      <td>NaN</td>\n",
              "      <td>W</td>\n",
              "      <td>41.0</td>\n",
              "      <td>ENE</td>\n",
              "      <td>...</td>\n",
              "      <td>82.0</td>\n",
              "      <td>33.0</td>\n",
              "      <td>1010.8</td>\n",
              "      <td>1006.0</td>\n",
              "      <td>7.0</td>\n",
              "      <td>8.0</td>\n",
              "      <td>17.8</td>\n",
              "      <td>29.7</td>\n",
              "      <td>No</td>\n",
              "      <td>No</td>\n",
              "    </tr>\n",
              "    <tr>\n",
              "      <th>5</th>\n",
              "      <td>06-12-2008</td>\n",
              "      <td>Albury</td>\n",
              "      <td>14.6</td>\n",
              "      <td>29.7</td>\n",
              "      <td>0.2</td>\n",
              "      <td>NaN</td>\n",
              "      <td>NaN</td>\n",
              "      <td>WNW</td>\n",
              "      <td>56.0</td>\n",
              "      <td>W</td>\n",
              "      <td>...</td>\n",
              "      <td>55.0</td>\n",
              "      <td>23.0</td>\n",
              "      <td>1009.2</td>\n",
              "      <td>1005.4</td>\n",
              "      <td>NaN</td>\n",
              "      <td>NaN</td>\n",
              "      <td>20.6</td>\n",
              "      <td>28.9</td>\n",
              "      <td>No</td>\n",
              "      <td>No</td>\n",
              "    </tr>\n",
              "    <tr>\n",
              "      <th>6</th>\n",
              "      <td>07-12-2008</td>\n",
              "      <td>Albury</td>\n",
              "      <td>14.3</td>\n",
              "      <td>25.0</td>\n",
              "      <td>0.0</td>\n",
              "      <td>NaN</td>\n",
              "      <td>NaN</td>\n",
              "      <td>W</td>\n",
              "      <td>50.0</td>\n",
              "      <td>SW</td>\n",
              "      <td>...</td>\n",
              "      <td>49.0</td>\n",
              "      <td>19.0</td>\n",
              "      <td>1009.6</td>\n",
              "      <td>1008.2</td>\n",
              "      <td>1.0</td>\n",
              "      <td>NaN</td>\n",
              "      <td>18.1</td>\n",
              "      <td>24.6</td>\n",
              "      <td>No</td>\n",
              "      <td>No</td>\n",
              "    </tr>\n",
              "    <tr>\n",
              "      <th>7</th>\n",
              "      <td>08-12-2008</td>\n",
              "      <td>Albury</td>\n",
              "      <td>7.7</td>\n",
              "      <td>26.7</td>\n",
              "      <td>0.0</td>\n",
              "      <td>NaN</td>\n",
              "      <td>NaN</td>\n",
              "      <td>W</td>\n",
              "      <td>35.0</td>\n",
              "      <td>SSE</td>\n",
              "      <td>...</td>\n",
              "      <td>48.0</td>\n",
              "      <td>19.0</td>\n",
              "      <td>1013.4</td>\n",
              "      <td>1010.1</td>\n",
              "      <td>NaN</td>\n",
              "      <td>NaN</td>\n",
              "      <td>16.3</td>\n",
              "      <td>25.5</td>\n",
              "      <td>No</td>\n",
              "      <td>No</td>\n",
              "    </tr>\n",
              "    <tr>\n",
              "      <th>8</th>\n",
              "      <td>09-12-2008</td>\n",
              "      <td>Albury</td>\n",
              "      <td>9.7</td>\n",
              "      <td>31.9</td>\n",
              "      <td>0.0</td>\n",
              "      <td>NaN</td>\n",
              "      <td>NaN</td>\n",
              "      <td>NNW</td>\n",
              "      <td>80.0</td>\n",
              "      <td>SE</td>\n",
              "      <td>...</td>\n",
              "      <td>42.0</td>\n",
              "      <td>9.0</td>\n",
              "      <td>1008.9</td>\n",
              "      <td>1003.6</td>\n",
              "      <td>NaN</td>\n",
              "      <td>NaN</td>\n",
              "      <td>18.3</td>\n",
              "      <td>30.2</td>\n",
              "      <td>No</td>\n",
              "      <td>Yes</td>\n",
              "    </tr>\n",
              "    <tr>\n",
              "      <th>9</th>\n",
              "      <td>10-12-2008</td>\n",
              "      <td>Albury</td>\n",
              "      <td>13.1</td>\n",
              "      <td>30.1</td>\n",
              "      <td>1.4</td>\n",
              "      <td>NaN</td>\n",
              "      <td>NaN</td>\n",
              "      <td>W</td>\n",
              "      <td>28.0</td>\n",
              "      <td>S</td>\n",
              "      <td>...</td>\n",
              "      <td>58.0</td>\n",
              "      <td>27.0</td>\n",
              "      <td>1007.0</td>\n",
              "      <td>1005.7</td>\n",
              "      <td>NaN</td>\n",
              "      <td>NaN</td>\n",
              "      <td>20.1</td>\n",
              "      <td>28.2</td>\n",
              "      <td>Yes</td>\n",
              "      <td>No</td>\n",
              "    </tr>\n",
              "  </tbody>\n",
              "</table>\n",
              "<p>10 rows × 23 columns</p>\n",
              "</div>\n",
              "      <button class=\"colab-df-convert\" onclick=\"convertToInteractive('df-bf71132a-c84f-41b1-a448-0347245aa91d')\"\n",
              "              title=\"Convert this dataframe to an interactive table.\"\n",
              "              style=\"display:none;\">\n",
              "        \n",
              "  <svg xmlns=\"http://www.w3.org/2000/svg\" height=\"24px\"viewBox=\"0 0 24 24\"\n",
              "       width=\"24px\">\n",
              "    <path d=\"M0 0h24v24H0V0z\" fill=\"none\"/>\n",
              "    <path d=\"M18.56 5.44l.94 2.06.94-2.06 2.06-.94-2.06-.94-.94-2.06-.94 2.06-2.06.94zm-11 1L8.5 8.5l.94-2.06 2.06-.94-2.06-.94L8.5 2.5l-.94 2.06-2.06.94zm10 10l.94 2.06.94-2.06 2.06-.94-2.06-.94-.94-2.06-.94 2.06-2.06.94z\"/><path d=\"M17.41 7.96l-1.37-1.37c-.4-.4-.92-.59-1.43-.59-.52 0-1.04.2-1.43.59L10.3 9.45l-7.72 7.72c-.78.78-.78 2.05 0 2.83L4 21.41c.39.39.9.59 1.41.59.51 0 1.02-.2 1.41-.59l7.78-7.78 2.81-2.81c.8-.78.8-2.07 0-2.86zM5.41 20L4 18.59l7.72-7.72 1.47 1.35L5.41 20z\"/>\n",
              "  </svg>\n",
              "      </button>\n",
              "      \n",
              "  <style>\n",
              "    .colab-df-container {\n",
              "      display:flex;\n",
              "      flex-wrap:wrap;\n",
              "      gap: 12px;\n",
              "    }\n",
              "\n",
              "    .colab-df-convert {\n",
              "      background-color: #E8F0FE;\n",
              "      border: none;\n",
              "      border-radius: 50%;\n",
              "      cursor: pointer;\n",
              "      display: none;\n",
              "      fill: #1967D2;\n",
              "      height: 32px;\n",
              "      padding: 0 0 0 0;\n",
              "      width: 32px;\n",
              "    }\n",
              "\n",
              "    .colab-df-convert:hover {\n",
              "      background-color: #E2EBFA;\n",
              "      box-shadow: 0px 1px 2px rgba(60, 64, 67, 0.3), 0px 1px 3px 1px rgba(60, 64, 67, 0.15);\n",
              "      fill: #174EA6;\n",
              "    }\n",
              "\n",
              "    [theme=dark] .colab-df-convert {\n",
              "      background-color: #3B4455;\n",
              "      fill: #D2E3FC;\n",
              "    }\n",
              "\n",
              "    [theme=dark] .colab-df-convert:hover {\n",
              "      background-color: #434B5C;\n",
              "      box-shadow: 0px 1px 3px 1px rgba(0, 0, 0, 0.15);\n",
              "      filter: drop-shadow(0px 1px 2px rgba(0, 0, 0, 0.3));\n",
              "      fill: #FFFFFF;\n",
              "    }\n",
              "  </style>\n",
              "\n",
              "      <script>\n",
              "        const buttonEl =\n",
              "          document.querySelector('#df-bf71132a-c84f-41b1-a448-0347245aa91d button.colab-df-convert');\n",
              "        buttonEl.style.display =\n",
              "          google.colab.kernel.accessAllowed ? 'block' : 'none';\n",
              "\n",
              "        async function convertToInteractive(key) {\n",
              "          const element = document.querySelector('#df-bf71132a-c84f-41b1-a448-0347245aa91d');\n",
              "          const dataTable =\n",
              "            await google.colab.kernel.invokeFunction('convertToInteractive',\n",
              "                                                     [key], {});\n",
              "          if (!dataTable) return;\n",
              "\n",
              "          const docLinkHtml = 'Like what you see? Visit the ' +\n",
              "            '<a target=\"_blank\" href=https://colab.research.google.com/notebooks/data_table.ipynb>data table notebook</a>'\n",
              "            + ' to learn more about interactive tables.';\n",
              "          element.innerHTML = '';\n",
              "          dataTable['output_type'] = 'display_data';\n",
              "          await google.colab.output.renderOutput(dataTable, element);\n",
              "          const docLink = document.createElement('div');\n",
              "          docLink.innerHTML = docLinkHtml;\n",
              "          element.appendChild(docLink);\n",
              "        }\n",
              "      </script>\n",
              "    </div>\n",
              "  </div>\n",
              "  "
            ]
          },
          "metadata": {},
          "execution_count": 4
        }
      ]
    },
    {
      "cell_type": "code",
      "source": [
        "# Printing concise summary(detailed information)\n",
        "\n",
        "RAIN.info"
      ],
      "metadata": {
        "id": "OdQw4amehznG",
        "colab": {
          "base_uri": "https://localhost:8080/"
        },
        "outputId": "82ced856-42af-44ba-f782-2a96f5db1874"
      },
      "execution_count": null,
      "outputs": [
        {
          "output_type": "execute_result",
          "data": {
            "text/plain": [
              "<bound method DataFrame.info of               Date Location  MinTemp  MaxTemp  Rainfall  Evaporation  \\\n",
              "0       01-12-2008   Albury     13.4     22.9       0.6          NaN   \n",
              "1       02-12-2008   Albury      7.4     25.1       0.0          NaN   \n",
              "2       03-12-2008   Albury     12.9     25.7       0.0          NaN   \n",
              "3       04-12-2008   Albury      9.2     28.0       0.0          NaN   \n",
              "4       05-12-2008   Albury     17.5     32.3       1.0          NaN   \n",
              "...            ...      ...      ...      ...       ...          ...   \n",
              "139133  23-07-2008   Darwin     21.4     30.9       0.0          7.6   \n",
              "139134  24-07-2008   Darwin     17.3     29.1       0.0         10.8   \n",
              "139135  25-07-2008   Darwin     15.9     29.3       0.0          6.6   \n",
              "139136  26-07-2008   Darwin     14.6     30.2       0.0          6.8   \n",
              "139137  27-07-2008        D      NaN      NaN       NaN          NaN   \n",
              "\n",
              "        Sunshine WindGustDir  WindGustSpeed WindDir9am  ... Humidity9am  \\\n",
              "0            NaN           W           44.0          W  ...        71.0   \n",
              "1            NaN         WNW           44.0        NNW  ...        44.0   \n",
              "2            NaN         WSW           46.0          W  ...        38.0   \n",
              "3            NaN          NE           24.0         SE  ...        45.0   \n",
              "4            NaN           W           41.0        ENE  ...        82.0   \n",
              "...          ...         ...            ...        ...  ...         ...   \n",
              "139133      11.0          SE           52.0         SE  ...        30.0   \n",
              "139134      10.5          SE           44.0         SE  ...        27.0   \n",
              "139135      11.0         ESE           43.0         SE  ...        24.0   \n",
              "139136      11.1           E           41.0        ESE  ...        32.0   \n",
              "139137       NaN         NaN            NaN        NaN  ...         NaN   \n",
              "\n",
              "        Humidity3pm  Pressure9am  Pressure3pm  Cloud9am  Cloud3pm  Temp9am  \\\n",
              "0              22.0       1007.7       1007.1       8.0       NaN     16.9   \n",
              "1              25.0       1010.6       1007.8       NaN       NaN     17.2   \n",
              "2              30.0       1007.6       1008.7       NaN       2.0     21.0   \n",
              "3              16.0       1017.6       1012.8       NaN       NaN     18.1   \n",
              "4              33.0       1010.8       1006.0       7.0       8.0     17.8   \n",
              "...             ...          ...          ...       ...       ...      ...   \n",
              "139133         20.0       1014.4       1010.7       0.0       0.0     22.9   \n",
              "139134         19.0       1014.5       1010.3       0.0       0.0     20.5   \n",
              "139135         13.0       1015.0       1010.8       0.0       0.0     19.5   \n",
              "139136          8.0       1014.4       1010.7       0.0       0.0     19.8   \n",
              "139137          NaN          NaN          NaN       NaN       NaN      NaN   \n",
              "\n",
              "        Temp3pm  RainToday  RainTomorrow  \n",
              "0          21.8         No            No  \n",
              "1          24.3         No            No  \n",
              "2          23.2         No            No  \n",
              "3          26.5         No            No  \n",
              "4          29.7         No            No  \n",
              "...         ...        ...           ...  \n",
              "139133     30.3         No            No  \n",
              "139134     28.3         No            No  \n",
              "139135     28.4         No            No  \n",
              "139136     29.7         No            No  \n",
              "139137      NaN        NaN           NaN  \n",
              "\n",
              "[139138 rows x 23 columns]>"
            ]
          },
          "metadata": {},
          "execution_count": 5
        }
      ]
    },
    {
      "cell_type": "code",
      "source": [
        "# For numerical values\n",
        "\n",
        "RAIN.describe()"
      ],
      "metadata": {
        "id": "BdF5GaRFh9-F",
        "colab": {
          "base_uri": "https://localhost:8080/",
          "height": 364
        },
        "outputId": "da967177-69d8-42f8-d57c-4664f8427cf0"
      },
      "execution_count": null,
      "outputs": [
        {
          "output_type": "execute_result",
          "data": {
            "text/plain": [
              "             MinTemp        MaxTemp       Rainfall   Evaporation  \\\n",
              "count  137737.000000  137924.000000  135950.000000  78072.000000   \n",
              "mean       11.821677      22.794999       2.304321      5.399137   \n",
              "std         6.156724       6.918128       8.177991      4.271367   \n",
              "min        -8.500000      -4.800000       0.000000      0.000000   \n",
              "25%         7.500000      17.700000       0.000000      2.600000   \n",
              "50%        11.700000      22.200000       0.000000      4.600000   \n",
              "75%        16.300000      27.500000       0.800000      7.200000   \n",
              "max        33.900000      48.100000     371.000000    145.000000   \n",
              "\n",
              "           Sunshine  WindGustSpeed   WindSpeed9am   WindSpeed3pm  \\\n",
              "count  72462.000000  128999.000000  137409.000000  136113.000000   \n",
              "mean       7.573099      40.022969      14.003435      18.663926   \n",
              "std        3.803852      13.749351       8.985619       8.898259   \n",
              "min        0.000000       6.000000       0.000000       0.000000   \n",
              "25%        4.800000      31.000000       7.000000      13.000000   \n",
              "50%        8.400000      39.000000      13.000000      19.000000   \n",
              "75%       10.600000      48.000000      19.000000      24.000000   \n",
              "max       14.500000     135.000000     130.000000      87.000000   \n",
              "\n",
              "         Humidity9am    Humidity3pm    Pressure9am    Pressure3pm  \\\n",
              "count  136580.000000  135472.000000  124084.000000  124120.000000   \n",
              "mean       69.242188      51.894273    1017.866349    1015.543160   \n",
              "std        18.890844      20.665883       7.132828       7.014293   \n",
              "min         0.000000       0.000000     980.500000     977.100000   \n",
              "25%        57.000000      37.000000    1013.200000    1010.900000   \n",
              "50%        70.000000      52.000000    1017.900000    1015.600000   \n",
              "75%        83.000000      66.000000    1022.600000    1020.300000   \n",
              "max       100.000000     100.000000    1041.000000    1039.600000   \n",
              "\n",
              "           Cloud9am      Cloud3pm        Temp9am        Temp3pm  \n",
              "count  84521.000000  81667.000000  137427.000000  136258.000000  \n",
              "mean       4.480046      4.528879      16.601242      21.305399  \n",
              "std        2.890620      2.723579       6.263069       6.752187  \n",
              "min        0.000000      0.000000      -7.200000      -5.400000  \n",
              "25%        1.000000      2.000000      12.100000      16.400000  \n",
              "50%        5.000000      5.000000      16.400000      20.800000  \n",
              "75%        7.000000      7.000000      21.000000      25.800000  \n",
              "max        9.000000      9.000000      40.200000      46.700000  "
            ],
            "text/html": [
              "\n",
              "  <div id=\"df-a62f34d5-163d-4a85-9c7d-fc4a8113fb1c\">\n",
              "    <div class=\"colab-df-container\">\n",
              "      <div>\n",
              "<style scoped>\n",
              "    .dataframe tbody tr th:only-of-type {\n",
              "        vertical-align: middle;\n",
              "    }\n",
              "\n",
              "    .dataframe tbody tr th {\n",
              "        vertical-align: top;\n",
              "    }\n",
              "\n",
              "    .dataframe thead th {\n",
              "        text-align: right;\n",
              "    }\n",
              "</style>\n",
              "<table border=\"1\" class=\"dataframe\">\n",
              "  <thead>\n",
              "    <tr style=\"text-align: right;\">\n",
              "      <th></th>\n",
              "      <th>MinTemp</th>\n",
              "      <th>MaxTemp</th>\n",
              "      <th>Rainfall</th>\n",
              "      <th>Evaporation</th>\n",
              "      <th>Sunshine</th>\n",
              "      <th>WindGustSpeed</th>\n",
              "      <th>WindSpeed9am</th>\n",
              "      <th>WindSpeed3pm</th>\n",
              "      <th>Humidity9am</th>\n",
              "      <th>Humidity3pm</th>\n",
              "      <th>Pressure9am</th>\n",
              "      <th>Pressure3pm</th>\n",
              "      <th>Cloud9am</th>\n",
              "      <th>Cloud3pm</th>\n",
              "      <th>Temp9am</th>\n",
              "      <th>Temp3pm</th>\n",
              "    </tr>\n",
              "  </thead>\n",
              "  <tbody>\n",
              "    <tr>\n",
              "      <th>count</th>\n",
              "      <td>137737.000000</td>\n",
              "      <td>137924.000000</td>\n",
              "      <td>135950.000000</td>\n",
              "      <td>78072.000000</td>\n",
              "      <td>72462.000000</td>\n",
              "      <td>128999.000000</td>\n",
              "      <td>137409.000000</td>\n",
              "      <td>136113.000000</td>\n",
              "      <td>136580.000000</td>\n",
              "      <td>135472.000000</td>\n",
              "      <td>124084.000000</td>\n",
              "      <td>124120.000000</td>\n",
              "      <td>84521.000000</td>\n",
              "      <td>81667.000000</td>\n",
              "      <td>137427.000000</td>\n",
              "      <td>136258.000000</td>\n",
              "    </tr>\n",
              "    <tr>\n",
              "      <th>mean</th>\n",
              "      <td>11.821677</td>\n",
              "      <td>22.794999</td>\n",
              "      <td>2.304321</td>\n",
              "      <td>5.399137</td>\n",
              "      <td>7.573099</td>\n",
              "      <td>40.022969</td>\n",
              "      <td>14.003435</td>\n",
              "      <td>18.663926</td>\n",
              "      <td>69.242188</td>\n",
              "      <td>51.894273</td>\n",
              "      <td>1017.866349</td>\n",
              "      <td>1015.543160</td>\n",
              "      <td>4.480046</td>\n",
              "      <td>4.528879</td>\n",
              "      <td>16.601242</td>\n",
              "      <td>21.305399</td>\n",
              "    </tr>\n",
              "    <tr>\n",
              "      <th>std</th>\n",
              "      <td>6.156724</td>\n",
              "      <td>6.918128</td>\n",
              "      <td>8.177991</td>\n",
              "      <td>4.271367</td>\n",
              "      <td>3.803852</td>\n",
              "      <td>13.749351</td>\n",
              "      <td>8.985619</td>\n",
              "      <td>8.898259</td>\n",
              "      <td>18.890844</td>\n",
              "      <td>20.665883</td>\n",
              "      <td>7.132828</td>\n",
              "      <td>7.014293</td>\n",
              "      <td>2.890620</td>\n",
              "      <td>2.723579</td>\n",
              "      <td>6.263069</td>\n",
              "      <td>6.752187</td>\n",
              "    </tr>\n",
              "    <tr>\n",
              "      <th>min</th>\n",
              "      <td>-8.500000</td>\n",
              "      <td>-4.800000</td>\n",
              "      <td>0.000000</td>\n",
              "      <td>0.000000</td>\n",
              "      <td>0.000000</td>\n",
              "      <td>6.000000</td>\n",
              "      <td>0.000000</td>\n",
              "      <td>0.000000</td>\n",
              "      <td>0.000000</td>\n",
              "      <td>0.000000</td>\n",
              "      <td>980.500000</td>\n",
              "      <td>977.100000</td>\n",
              "      <td>0.000000</td>\n",
              "      <td>0.000000</td>\n",
              "      <td>-7.200000</td>\n",
              "      <td>-5.400000</td>\n",
              "    </tr>\n",
              "    <tr>\n",
              "      <th>25%</th>\n",
              "      <td>7.500000</td>\n",
              "      <td>17.700000</td>\n",
              "      <td>0.000000</td>\n",
              "      <td>2.600000</td>\n",
              "      <td>4.800000</td>\n",
              "      <td>31.000000</td>\n",
              "      <td>7.000000</td>\n",
              "      <td>13.000000</td>\n",
              "      <td>57.000000</td>\n",
              "      <td>37.000000</td>\n",
              "      <td>1013.200000</td>\n",
              "      <td>1010.900000</td>\n",
              "      <td>1.000000</td>\n",
              "      <td>2.000000</td>\n",
              "      <td>12.100000</td>\n",
              "      <td>16.400000</td>\n",
              "    </tr>\n",
              "    <tr>\n",
              "      <th>50%</th>\n",
              "      <td>11.700000</td>\n",
              "      <td>22.200000</td>\n",
              "      <td>0.000000</td>\n",
              "      <td>4.600000</td>\n",
              "      <td>8.400000</td>\n",
              "      <td>39.000000</td>\n",
              "      <td>13.000000</td>\n",
              "      <td>19.000000</td>\n",
              "      <td>70.000000</td>\n",
              "      <td>52.000000</td>\n",
              "      <td>1017.900000</td>\n",
              "      <td>1015.600000</td>\n",
              "      <td>5.000000</td>\n",
              "      <td>5.000000</td>\n",
              "      <td>16.400000</td>\n",
              "      <td>20.800000</td>\n",
              "    </tr>\n",
              "    <tr>\n",
              "      <th>75%</th>\n",
              "      <td>16.300000</td>\n",
              "      <td>27.500000</td>\n",
              "      <td>0.800000</td>\n",
              "      <td>7.200000</td>\n",
              "      <td>10.600000</td>\n",
              "      <td>48.000000</td>\n",
              "      <td>19.000000</td>\n",
              "      <td>24.000000</td>\n",
              "      <td>83.000000</td>\n",
              "      <td>66.000000</td>\n",
              "      <td>1022.600000</td>\n",
              "      <td>1020.300000</td>\n",
              "      <td>7.000000</td>\n",
              "      <td>7.000000</td>\n",
              "      <td>21.000000</td>\n",
              "      <td>25.800000</td>\n",
              "    </tr>\n",
              "    <tr>\n",
              "      <th>max</th>\n",
              "      <td>33.900000</td>\n",
              "      <td>48.100000</td>\n",
              "      <td>371.000000</td>\n",
              "      <td>145.000000</td>\n",
              "      <td>14.500000</td>\n",
              "      <td>135.000000</td>\n",
              "      <td>130.000000</td>\n",
              "      <td>87.000000</td>\n",
              "      <td>100.000000</td>\n",
              "      <td>100.000000</td>\n",
              "      <td>1041.000000</td>\n",
              "      <td>1039.600000</td>\n",
              "      <td>9.000000</td>\n",
              "      <td>9.000000</td>\n",
              "      <td>40.200000</td>\n",
              "      <td>46.700000</td>\n",
              "    </tr>\n",
              "  </tbody>\n",
              "</table>\n",
              "</div>\n",
              "      <button class=\"colab-df-convert\" onclick=\"convertToInteractive('df-a62f34d5-163d-4a85-9c7d-fc4a8113fb1c')\"\n",
              "              title=\"Convert this dataframe to an interactive table.\"\n",
              "              style=\"display:none;\">\n",
              "        \n",
              "  <svg xmlns=\"http://www.w3.org/2000/svg\" height=\"24px\"viewBox=\"0 0 24 24\"\n",
              "       width=\"24px\">\n",
              "    <path d=\"M0 0h24v24H0V0z\" fill=\"none\"/>\n",
              "    <path d=\"M18.56 5.44l.94 2.06.94-2.06 2.06-.94-2.06-.94-.94-2.06-.94 2.06-2.06.94zm-11 1L8.5 8.5l.94-2.06 2.06-.94-2.06-.94L8.5 2.5l-.94 2.06-2.06.94zm10 10l.94 2.06.94-2.06 2.06-.94-2.06-.94-.94-2.06-.94 2.06-2.06.94z\"/><path d=\"M17.41 7.96l-1.37-1.37c-.4-.4-.92-.59-1.43-.59-.52 0-1.04.2-1.43.59L10.3 9.45l-7.72 7.72c-.78.78-.78 2.05 0 2.83L4 21.41c.39.39.9.59 1.41.59.51 0 1.02-.2 1.41-.59l7.78-7.78 2.81-2.81c.8-.78.8-2.07 0-2.86zM5.41 20L4 18.59l7.72-7.72 1.47 1.35L5.41 20z\"/>\n",
              "  </svg>\n",
              "      </button>\n",
              "      \n",
              "  <style>\n",
              "    .colab-df-container {\n",
              "      display:flex;\n",
              "      flex-wrap:wrap;\n",
              "      gap: 12px;\n",
              "    }\n",
              "\n",
              "    .colab-df-convert {\n",
              "      background-color: #E8F0FE;\n",
              "      border: none;\n",
              "      border-radius: 50%;\n",
              "      cursor: pointer;\n",
              "      display: none;\n",
              "      fill: #1967D2;\n",
              "      height: 32px;\n",
              "      padding: 0 0 0 0;\n",
              "      width: 32px;\n",
              "    }\n",
              "\n",
              "    .colab-df-convert:hover {\n",
              "      background-color: #E2EBFA;\n",
              "      box-shadow: 0px 1px 2px rgba(60, 64, 67, 0.3), 0px 1px 3px 1px rgba(60, 64, 67, 0.15);\n",
              "      fill: #174EA6;\n",
              "    }\n",
              "\n",
              "    [theme=dark] .colab-df-convert {\n",
              "      background-color: #3B4455;\n",
              "      fill: #D2E3FC;\n",
              "    }\n",
              "\n",
              "    [theme=dark] .colab-df-convert:hover {\n",
              "      background-color: #434B5C;\n",
              "      box-shadow: 0px 1px 3px 1px rgba(0, 0, 0, 0.15);\n",
              "      filter: drop-shadow(0px 1px 2px rgba(0, 0, 0, 0.3));\n",
              "      fill: #FFFFFF;\n",
              "    }\n",
              "  </style>\n",
              "\n",
              "      <script>\n",
              "        const buttonEl =\n",
              "          document.querySelector('#df-a62f34d5-163d-4a85-9c7d-fc4a8113fb1c button.colab-df-convert');\n",
              "        buttonEl.style.display =\n",
              "          google.colab.kernel.accessAllowed ? 'block' : 'none';\n",
              "\n",
              "        async function convertToInteractive(key) {\n",
              "          const element = document.querySelector('#df-a62f34d5-163d-4a85-9c7d-fc4a8113fb1c');\n",
              "          const dataTable =\n",
              "            await google.colab.kernel.invokeFunction('convertToInteractive',\n",
              "                                                     [key], {});\n",
              "          if (!dataTable) return;\n",
              "\n",
              "          const docLinkHtml = 'Like what you see? Visit the ' +\n",
              "            '<a target=\"_blank\" href=https://colab.research.google.com/notebooks/data_table.ipynb>data table notebook</a>'\n",
              "            + ' to learn more about interactive tables.';\n",
              "          element.innerHTML = '';\n",
              "          dataTable['output_type'] = 'display_data';\n",
              "          await google.colab.output.renderOutput(dataTable, element);\n",
              "          const docLink = document.createElement('div');\n",
              "          docLink.innerHTML = docLinkHtml;\n",
              "          element.appendChild(docLink);\n",
              "        }\n",
              "      </script>\n",
              "    </div>\n",
              "  </div>\n",
              "  "
            ]
          },
          "metadata": {},
          "execution_count": 6
        }
      ]
    },
    {
      "cell_type": "code",
      "source": [
        "#To show desired no of values after decimal\n",
        "\n",
        "round(RAIN.describe()),0"
      ],
      "metadata": {
        "id": "6Qip3tpLiFBL",
        "colab": {
          "base_uri": "https://localhost:8080/"
        },
        "outputId": "5937043d-0541-48bb-84d7-3946d523631f"
      },
      "execution_count": null,
      "outputs": [
        {
          "output_type": "execute_result",
          "data": {
            "text/plain": [
              "(        MinTemp   MaxTemp  Rainfall  Evaporation  Sunshine  WindGustSpeed  \\\n",
              " count  137737.0  137924.0  135950.0      78072.0   72462.0       128999.0   \n",
              " mean       12.0      23.0       2.0          5.0       8.0           40.0   \n",
              " std         6.0       7.0       8.0          4.0       4.0           14.0   \n",
              " min        -8.0      -5.0       0.0          0.0       0.0            6.0   \n",
              " 25%         8.0      18.0       0.0          3.0       5.0           31.0   \n",
              " 50%        12.0      22.0       0.0          5.0       8.0           39.0   \n",
              " 75%        16.0      28.0       1.0          7.0      11.0           48.0   \n",
              " max        34.0      48.0     371.0        145.0      14.0          135.0   \n",
              " \n",
              "        WindSpeed9am  WindSpeed3pm  Humidity9am  Humidity3pm  Pressure9am  \\\n",
              " count      137409.0      136113.0     136580.0     135472.0     124084.0   \n",
              " mean           14.0          19.0         69.0         52.0       1018.0   \n",
              " std             9.0           9.0         19.0         21.0          7.0   \n",
              " min             0.0           0.0          0.0          0.0        980.0   \n",
              " 25%             7.0          13.0         57.0         37.0       1013.0   \n",
              " 50%            13.0          19.0         70.0         52.0       1018.0   \n",
              " 75%            19.0          24.0         83.0         66.0       1023.0   \n",
              " max           130.0          87.0        100.0        100.0       1041.0   \n",
              " \n",
              "        Pressure3pm  Cloud9am  Cloud3pm   Temp9am   Temp3pm  \n",
              " count     124120.0   84521.0   81667.0  137427.0  136258.0  \n",
              " mean        1016.0       4.0       5.0      17.0      21.0  \n",
              " std            7.0       3.0       3.0       6.0       7.0  \n",
              " min          977.0       0.0       0.0      -7.0      -5.0  \n",
              " 25%         1011.0       1.0       2.0      12.0      16.0  \n",
              " 50%         1016.0       5.0       5.0      16.0      21.0  \n",
              " 75%         1020.0       7.0       7.0      21.0      26.0  \n",
              " max         1040.0       9.0       9.0      40.0      47.0  , 0)"
            ]
          },
          "metadata": {},
          "execution_count": 7
        }
      ]
    },
    {
      "cell_type": "markdown",
      "source": [
        "#To extract previous result into excel."
      ],
      "metadata": {
        "id": "o8dvJawa12TE"
      }
    },
    {
      "cell_type": "code",
      "source": [
        "#Transpose of numerical attributes(converting rows into attributes and attributes into rows)\n",
        "\n",
        "NumericAttribute = round(RAIN.describe().T,0)\n",
        "NumericAttribute\n",
        "\n",
        "# Previous to excel\n",
        "\n",
        "NumericAttribute.to_excel(\"NumAtt.xls\")\n"
      ],
      "metadata": {
        "id": "X8KlLbwQiLmJ"
      },
      "execution_count": null,
      "outputs": []
    },
    {
      "cell_type": "code",
      "source": [
        "#To check columns name\n",
        "\n",
        "RAIN.columns"
      ],
      "metadata": {
        "id": "nIEde7JRjCbT",
        "colab": {
          "base_uri": "https://localhost:8080/"
        },
        "outputId": "5b1bc99e-691a-491f-b38f-c4891a35923e"
      },
      "execution_count": null,
      "outputs": [
        {
          "output_type": "execute_result",
          "data": {
            "text/plain": [
              "Index(['Date', 'Location', 'MinTemp', 'MaxTemp', 'Rainfall', 'Evaporation',\n",
              "       'Sunshine', 'WindGustDir', 'WindGustSpeed', 'WindDir9am', 'WindDir3pm',\n",
              "       'WindSpeed9am', 'WindSpeed3pm', 'Humidity9am', 'Humidity3pm',\n",
              "       'Pressure9am', 'Pressure3pm', 'Cloud9am', 'Cloud3pm', 'Temp9am',\n",
              "       'Temp3pm', 'RainToday', 'RainTomorrow'],\n",
              "      dtype='object')"
            ]
          },
          "metadata": {},
          "execution_count": 9
        }
      ]
    },
    {
      "cell_type": "code",
      "source": [
        "#RENAME COLUMNS\n",
        "RAIN.rename(columns = {'MinTemp' : 'MiniTemp', 'MaxTemp' : 'MaxiTemp'}, inplace = True)"
      ],
      "metadata": {
        "id": "Bg5Nq3bMjFVL"
      },
      "execution_count": null,
      "outputs": []
    },
    {
      "cell_type": "code",
      "source": [
        "RAIN.info()"
      ],
      "metadata": {
        "id": "gSkwWLkVkAqC",
        "colab": {
          "base_uri": "https://localhost:8080/"
        },
        "outputId": "97b94bf3-230f-4a38-a638-2da281f2145c"
      },
      "execution_count": null,
      "outputs": [
        {
          "output_type": "stream",
          "name": "stdout",
          "text": [
            "<class 'pandas.core.frame.DataFrame'>\n",
            "RangeIndex: 139138 entries, 0 to 139137\n",
            "Data columns (total 23 columns):\n",
            " #   Column         Non-Null Count   Dtype  \n",
            "---  ------         --------------   -----  \n",
            " 0   Date           139138 non-null  object \n",
            " 1   Location       139138 non-null  object \n",
            " 2   MiniTemp       137737 non-null  float64\n",
            " 3   MaxiTemp       137924 non-null  float64\n",
            " 4   Rainfall       135950 non-null  float64\n",
            " 5   Evaporation    78072 non-null   float64\n",
            " 6   Sunshine       72462 non-null   float64\n",
            " 7   WindGustDir    128940 non-null  object \n",
            " 8   WindGustSpeed  128999 non-null  float64\n",
            " 9   WindDir9am     128705 non-null  object \n",
            " 10  WindDir3pm     134963 non-null  object \n",
            " 11  WindSpeed9am   137409 non-null  float64\n",
            " 12  WindSpeed3pm   136113 non-null  float64\n",
            " 13  Humidity9am    136580 non-null  float64\n",
            " 14  Humidity3pm    135472 non-null  float64\n",
            " 15  Pressure9am    124084 non-null  float64\n",
            " 16  Pressure3pm    124120 non-null  float64\n",
            " 17  Cloud9am       84521 non-null   float64\n",
            " 18  Cloud3pm       81667 non-null   float64\n",
            " 19  Temp9am        137427 non-null  float64\n",
            " 20  Temp3pm        136258 non-null  float64\n",
            " 21  RainToday      135950 non-null  object \n",
            " 22  RainTomorrow   135947 non-null  object \n",
            "dtypes: float64(16), object(7)\n",
            "memory usage: 24.4+ MB\n"
          ]
        }
      ]
    },
    {
      "cell_type": "code",
      "source": [
        "#To check duplicate records in entire data\n",
        "\n",
        "RAIN.duplicated().sum()"
      ],
      "metadata": {
        "id": "wrPWxJWNkE5v",
        "colab": {
          "base_uri": "https://localhost:8080/"
        },
        "outputId": "4fa2fab7-8146-4063-94ba-0f8474ddbfff"
      },
      "execution_count": null,
      "outputs": [
        {
          "output_type": "execute_result",
          "data": {
            "text/plain": [
              "0"
            ]
          },
          "metadata": {},
          "execution_count": 12
        }
      ]
    },
    {
      "cell_type": "markdown",
      "source": [
        "#HANDLING NA VALUES"
      ],
      "metadata": {
        "id": "ULI1zXDcS5nh"
      }
    },
    {
      "cell_type": "code",
      "source": [
        "#Total no of NA/null values and arrange in descending order \n",
        "\n",
        "NA = RAIN.isnull().sum().sort_values(ascending = False)\n",
        "NA\n",
        "\n"
      ],
      "metadata": {
        "id": "RmVrp1QaAI-T",
        "colab": {
          "base_uri": "https://localhost:8080/"
        },
        "outputId": "fa85a86c-4a47-4f11-dd3a-45564cc977b7"
      },
      "execution_count": null,
      "outputs": [
        {
          "output_type": "execute_result",
          "data": {
            "text/plain": [
              "Sunshine         66676\n",
              "Evaporation      61066\n",
              "Cloud3pm         57471\n",
              "Cloud9am         54617\n",
              "Pressure9am      15054\n",
              "Pressure3pm      15018\n",
              "WindDir9am       10433\n",
              "WindGustDir      10198\n",
              "WindGustSpeed    10139\n",
              "WindDir3pm        4175\n",
              "Humidity3pm       3666\n",
              "RainTomorrow      3191\n",
              "Rainfall          3188\n",
              "RainToday         3188\n",
              "WindSpeed3pm      3025\n",
              "Temp3pm           2880\n",
              "Humidity9am       2558\n",
              "WindSpeed9am      1729\n",
              "Temp9am           1711\n",
              "MiniTemp          1401\n",
              "MaxiTemp          1214\n",
              "Location             0\n",
              "Date                 0\n",
              "dtype: int64"
            ]
          },
          "metadata": {},
          "execution_count": 13
        }
      ]
    },
    {
      "cell_type": "code",
      "source": [
        "#Extracting into excel\n",
        "\n",
        "NA.to_excel(\"Missing_Values.xls\")"
      ],
      "metadata": {
        "id": "XAEnZY60b67l"
      },
      "execution_count": null,
      "outputs": []
    },
    {
      "cell_type": "code",
      "source": [
        "# Drop attributes that having sufficient(10000 or more) no. of Null values\n",
        "\n",
        "RAIN = RAIN.drop(['Sunshine', 'Evaporation', 'Cloud3pm', 'Cloud9am', 'Pressure9am', 'Pressure3pm', 'WindDir9am', 'WindGustDir', 'WindGustSpeed'], axis = 1)"
      ],
      "metadata": {
        "id": "hgo0GLHMBjnw"
      },
      "execution_count": null,
      "outputs": []
    },
    {
      "cell_type": "markdown",
      "source": [
        "Here we drop those attributes which contains missing values equals to 10000 or more because if we randomly drop NA values where exist it will almost delete third part of my records. So that's why we remove attributes."
      ],
      "metadata": {
        "id": "EGBF_7GS59mc"
      }
    },
    {
      "cell_type": "code",
      "source": [
        "#To check changes\n",
        "RAIN.info()"
      ],
      "metadata": {
        "id": "_k8WF_3BB34J",
        "colab": {
          "base_uri": "https://localhost:8080/"
        },
        "outputId": "18a001ac-301d-48d1-b751-8072184483aa"
      },
      "execution_count": null,
      "outputs": [
        {
          "output_type": "stream",
          "name": "stdout",
          "text": [
            "<class 'pandas.core.frame.DataFrame'>\n",
            "RangeIndex: 139138 entries, 0 to 139137\n",
            "Data columns (total 14 columns):\n",
            " #   Column        Non-Null Count   Dtype  \n",
            "---  ------        --------------   -----  \n",
            " 0   Date          139138 non-null  object \n",
            " 1   Location      139138 non-null  object \n",
            " 2   MiniTemp      137737 non-null  float64\n",
            " 3   MaxiTemp      137924 non-null  float64\n",
            " 4   Rainfall      135950 non-null  float64\n",
            " 5   WindDir3pm    134963 non-null  object \n",
            " 6   WindSpeed9am  137409 non-null  float64\n",
            " 7   WindSpeed3pm  136113 non-null  float64\n",
            " 8   Humidity9am   136580 non-null  float64\n",
            " 9   Humidity3pm   135472 non-null  float64\n",
            " 10  Temp9am       137427 non-null  float64\n",
            " 11  Temp3pm       136258 non-null  float64\n",
            " 12  RainToday     135950 non-null  object \n",
            " 13  RainTomorrow  135947 non-null  object \n",
            "dtypes: float64(9), object(5)\n",
            "memory usage: 14.9+ MB\n"
          ]
        }
      ]
    },
    {
      "cell_type": "code",
      "source": [
        "# To drop NA value(less than 10000)\n",
        "RAIN = RAIN.dropna(how = \"any\", inplace = False )"
      ],
      "metadata": {
        "id": "LE2ba6j-AKlw"
      },
      "execution_count": null,
      "outputs": []
    },
    {
      "cell_type": "markdown",
      "source": [
        "Here we remove NA values randomly(whereever it occurs)for those whose values is less than 10000."
      ],
      "metadata": {
        "id": "1zF4CUUM9_SH"
      }
    },
    {
      "cell_type": "code",
      "source": [
        "# To check changes\n",
        "RAIN.isna().sum()"
      ],
      "metadata": {
        "id": "lecMJL7VAUoL",
        "colab": {
          "base_uri": "https://localhost:8080/"
        },
        "outputId": "dc0847ce-6217-4b21-acf6-06430d1e9271"
      },
      "execution_count": null,
      "outputs": [
        {
          "output_type": "execute_result",
          "data": {
            "text/plain": [
              "Date            0\n",
              "Location        0\n",
              "MiniTemp        0\n",
              "MaxiTemp        0\n",
              "Rainfall        0\n",
              "WindDir3pm      0\n",
              "WindSpeed9am    0\n",
              "WindSpeed3pm    0\n",
              "Humidity9am     0\n",
              "Humidity3pm     0\n",
              "Temp9am         0\n",
              "Temp3pm         0\n",
              "RainToday       0\n",
              "RainTomorrow    0\n",
              "dtype: int64"
            ]
          },
          "metadata": {},
          "execution_count": 18
        }
      ]
    },
    {
      "cell_type": "code",
      "source": [
        "RAIN.dtypes"
      ],
      "metadata": {
        "id": "4voIVFIzmLAG",
        "colab": {
          "base_uri": "https://localhost:8080/"
        },
        "outputId": "6dd1e812-a75f-47aa-8f6a-aaa5c14ea2c9"
      },
      "execution_count": null,
      "outputs": [
        {
          "output_type": "execute_result",
          "data": {
            "text/plain": [
              "Date             object\n",
              "Location         object\n",
              "MiniTemp        float64\n",
              "MaxiTemp        float64\n",
              "Rainfall        float64\n",
              "WindDir3pm       object\n",
              "WindSpeed9am    float64\n",
              "WindSpeed3pm    float64\n",
              "Humidity9am     float64\n",
              "Humidity3pm     float64\n",
              "Temp9am         float64\n",
              "Temp3pm         float64\n",
              "RainToday        object\n",
              "RainTomorrow     object\n",
              "dtype: object"
            ]
          },
          "metadata": {},
          "execution_count": 19
        }
      ]
    },
    {
      "cell_type": "markdown",
      "source": [
        "#COVERTING DATATYPES"
      ],
      "metadata": {
        "id": "ZK3HwabPTv_8"
      }
    },
    {
      "cell_type": "code",
      "source": [
        "# To convert Date attribute from object to datetime\n",
        "\n",
        "RAIN[\"Date\"] = pd.to_datetime(RAIN['Date'])"
      ],
      "metadata": {
        "id": "cCfZcrOEA9a5"
      },
      "execution_count": null,
      "outputs": []
    },
    {
      "cell_type": "code",
      "source": [
        "#To convert float into numeric then to integer\n",
        "\n",
        "RAIN[\"MiniTemp\"] = pd.to_numeric(RAIN['MiniTemp'])\n",
        "RAIN[\"MaxiTemp\"] = pd.to_numeric(RAIN['MaxiTemp'])\n",
        "RAIN[\"Rainfall\"] = pd.to_numeric(RAIN['Rainfall'])\n",
        "RAIN[\"Humidity9am\"] = pd.to_numeric(RAIN['Humidity9am'])\n",
        "RAIN[\"Humidity3pm\"] = pd.to_numeric(RAIN['Humidity3pm'])\n",
        "RAIN[\"Temp9am\"] = pd.to_numeric(RAIN['Temp9am'])\n",
        "RAIN[\"Temp3pm\"] = pd.to_numeric(RAIN['Temp3pm'])"
      ],
      "metadata": {
        "id": "flz8Prgc3Y7c"
      },
      "execution_count": null,
      "outputs": []
    },
    {
      "cell_type": "code",
      "source": [
        "#From numeric to int\n",
        "\n",
        "RAIN[\"MiniTemp\"] = RAIN[\"MiniTemp\"].astype(\"int\")\n",
        "RAIN[\"MaxiTemp\"] = RAIN[\"MaxiTemp\"].astype(\"int\")\n",
        "RAIN[\"Rainfall\"] = RAIN[\"Rainfall\"].astype(\"int\")\n",
        "RAIN[\"Humidity9am\"] = RAIN[\"Humidity9am\"].astype(\"int\")\n",
        "RAIN[\"Humidity3pm\"] = RAIN[\"Humidity3pm\"].astype(\"int\")\n",
        "RAIN[\"Temp9am\"] = RAIN[\"Temp9am\"].astype(\"int\")\n",
        "RAIN[\"Temp3pm\"] = RAIN[\"Temp3pm\"].astype(\"int\")\n",
        "RAIN[\"Location\"]= RAIN[\"Location\"].astype(\"category\")\n",
        "RAIN[\"WindDir3pm\"]= RAIN[\"WindDir3pm\"].astype(\"category\")\n",
        "RAIN[\"RainToday\"]= RAIN[\"RainToday\"].astype(\"category\")\n",
        "RAIN['RainTomorrow'] = [1 if i == 'Yes' else 0 for i in RAIN['RainTomorrow']]"
      ],
      "metadata": {
        "id": "rTg2apvv-_ac"
      },
      "execution_count": null,
      "outputs": []
    },
    {
      "cell_type": "code",
      "source": [
        "RAIN.dtypes"
      ],
      "metadata": {
        "id": "gtYVLqU1C8A5",
        "colab": {
          "base_uri": "https://localhost:8080/"
        },
        "outputId": "6a1fcecf-2048-4346-d5d3-3813344320fa"
      },
      "execution_count": null,
      "outputs": [
        {
          "output_type": "execute_result",
          "data": {
            "text/plain": [
              "Date            datetime64[ns]\n",
              "Location              category\n",
              "MiniTemp                 int64\n",
              "MaxiTemp                 int64\n",
              "Rainfall                 int64\n",
              "WindDir3pm            category\n",
              "WindSpeed9am           float64\n",
              "WindSpeed3pm           float64\n",
              "Humidity9am              int64\n",
              "Humidity3pm              int64\n",
              "Temp9am                  int64\n",
              "Temp3pm                  int64\n",
              "RainToday             category\n",
              "RainTomorrow             int64\n",
              "dtype: object"
            ]
          },
          "metadata": {},
          "execution_count": 23
        }
      ]
    },
    {
      "cell_type": "code",
      "source": [
        "# To check unique values(level of categories)\n",
        "\n",
        "RAIN[\"Rainfall\"].unique()\n"
      ],
      "metadata": {
        "id": "527e5bO_qMEA",
        "colab": {
          "base_uri": "https://localhost:8080/"
        },
        "outputId": "05c59660-d7f0-4a19-c07d-f55113cdf9a5"
      },
      "execution_count": null,
      "outputs": [
        {
          "output_type": "execute_result",
          "data": {
            "text/plain": [
              "array([  0,   1,   2,  15,   3,  16,  10,   6,   5,  11,   8,  12,  20,\n",
              "        21,   4,  14,   7,   9,  13,  28,  25,  52,  66,  17,  18,  24,\n",
              "        19,  22,  32,  50,  35,  99,  51,  39,  30,  34,  26,  38, 104,\n",
              "        36,  29,  27,  33,  53,  37,  31,  41,  46,  23,  42,  43,  61,\n",
              "        48,  67,  82, 116,  47,  40,  44,  83, 100, 109,  54,  49,  68,\n",
              "        63, 189,  58,  59,  76,  55,  70,  71, 141,  96, 371,  80,  56,\n",
              "        45,  90, 128,  73,  72, 105, 102, 103, 127,  62, 112, 153,  97,\n",
              "        86, 159, 208, 172, 106, 147,  75,  65, 157, 113, 219, 142,  64,\n",
              "        74,  92, 132,  69, 126, 120,  89, 107,  79,  84,  57, 111, 122,\n",
              "       156, 115, 101,  85,  81,  78,  77,  88,  95, 119,  94,  93,  60,\n",
              "        91, 110, 134, 166, 114, 225, 139, 192, 118, 164,  87, 155, 121,\n",
              "       168, 145, 182,  98, 278, 140, 268, 183, 206, 136, 150, 161, 175,\n",
              "       247, 158, 143, 178, 108, 129, 177, 236, 165, 170, 148, 144, 174,\n",
              "       124])"
            ]
          },
          "metadata": {},
          "execution_count": 24
        }
      ]
    },
    {
      "cell_type": "code",
      "source": [
        "#To check no. of counts in each category of an attribute\n",
        "RAIN.Location.value_counts()"
      ],
      "metadata": {
        "id": "4Gri0fA8qUXU",
        "colab": {
          "base_uri": "https://localhost:8080/"
        },
        "outputId": "a33b4eb6-b7ba-4b45-f9ec-45cbd7dd4c3f"
      },
      "execution_count": null,
      "outputs": [
        {
          "output_type": "execute_result",
          "data": {
            "text/plain": [
              "Sydney              3264\n",
              "Perth               3174\n",
              "Hobart              3146\n",
              "Canberra            3104\n",
              "Brisbane            3095\n",
              "Townsville          3023\n",
              "AliceSprings        3014\n",
              "PerthAirport        3006\n",
              "Adelaide            3000\n",
              "SydneyAirport       2991\n",
              "Mildura             2991\n",
              "MountGambier        2989\n",
              "MelbourneAirport    2985\n",
              "Bendigo             2979\n",
              "Ballarat            2976\n",
              "Cairns              2959\n",
              "Launceston          2958\n",
              "Sale                2951\n",
              "Albury              2942\n",
              "WaggaWagga          2940\n",
              "Watsonia            2938\n",
              "Woomera             2933\n",
              "Nuriootpa           2932\n",
              "NorfolkIsland       2931\n",
              "Portland            2915\n",
              "Wollongong          2912\n",
              "Tuggeranong         2908\n",
              "SalmonGums          2891\n",
              "GoldCoast           2870\n",
              "Cobar               2854\n",
              "NorahHead           2854\n",
              "BadgerysCreek       2802\n",
              "Penrith             2798\n",
              "Richmond            2782\n",
              "Dartmoor            2742\n",
              "Moree               2729\n",
              "Walpole             2705\n",
              "CoffsHarbour        2662\n",
              "Witchcliffe         2660\n",
              "PearceRAAF          2595\n",
              "MountGinini         2374\n",
              "Williamtown         2345\n",
              "Melbourne           2279\n",
              "Albany              2221\n",
              "Nhil                1565\n",
              "Newcastle           1549\n",
              "Darwin                26\n",
              "Name: Location, dtype: int64"
            ]
          },
          "metadata": {},
          "execution_count": 25
        }
      ]
    },
    {
      "cell_type": "markdown",
      "source": [
        "#HISTOGRAMS AND BOXPLOTS TO CHECK OUTLIERS\n",
        "\n"
      ],
      "metadata": {
        "id": "b9QChuUCSgLy"
      }
    },
    {
      "cell_type": "code",
      "source": [
        "#Boxplots OF WindSpeed9am\n",
        "\n",
        "\n",
        "fig, axes = plt.subplots(2, 1, figsize=(10, 10))\n",
        "\n",
        "sns.histplot(RAIN['WindSpeed9am'],bins=20, kde=True,ax =axes [0]);\n",
        "sns.boxplot('WindSpeed9am', data = RAIN, ax = axes[1])\n",
        "axes[1]\n",
        "plt.savefig('WindSpeed9am.jpg')"
      ],
      "metadata": {
        "colab": {
          "base_uri": "https://localhost:8080/",
          "height": 606
        },
        "id": "IxKzJ2XLX-56",
        "outputId": "5a7f105c-9a92-40b3-9b37-a63b65acc2e5"
      },
      "execution_count": null,
      "outputs": [
        {
          "output_type": "display_data",
          "data": {
            "text/plain": [
              "<Figure size 720x720 with 2 Axes>"
            ],
            "image/png": "[encoded data removed]"
          },
          "metadata": {
            "needs_background": "light"
          }
        }
      ]
    },
    {
      "cell_type": "markdown",
      "source": [
        "The above histogram shows normal distribution and its right skewed and boxplot contains many outliers."
      ],
      "metadata": {
        "id": "Zc0dZzu2sXl-"
      }
    },
    {
      "cell_type": "code",
      "source": [
        "#Calculate Q1 for WindSpeed9am attribute\n",
        " \n",
        "Q1_LeadTime = RAIN.WindSpeed9am.quantile(0.25)\n",
        "print(\"Q1_LeadTime:\", int(Q1_LeadTime), \"days\")\n",
        "\n",
        "#Calculating Q3 for LeadTime attribute\n",
        "Q3_LeadTime = RAIN.WindSpeed9am.quantile(0.75)\n",
        "print(\"Q3_LeadTime:\", int(Q3_LeadTime), \"days\")\n",
        "\n",
        "#Calculating IQR for LeadTime attribute\n",
        "IQR_LeadTime = Q3_LeadTime - Q1_LeadTime\n",
        "\n",
        "#Calculating Lower bound for LeadTime attribute\n",
        "lowerBound_LeadTime = Q1_LeadTime - (1.5 * IQR_LeadTime)\n",
        "\n",
        "#Calculating Upper bound for LeadTime attribute\n",
        "upperBound_LeadTime = Q3_LeadTime + (1.5 * IQR_LeadTime)\n",
        "\n",
        "##Removing the outlier\n",
        "index = RAIN['WindSpeed9am'][(RAIN['WindSpeed9am'] > upperBound_LeadTime)].index\n",
        "RAIN.drop(index, inplace = True)\n",
        "\n",
        "#Visualizing distribution of LeadTime attribute\n",
        "sns.boxplot(x = 'WindSpeed9am', data = RAIN)\n",
        "plt.tight_layout()\n",
        "plt.show()"
      ],
      "metadata": {
        "colab": {
          "base_uri": "https://localhost:8080/",
          "height": 332
        },
        "id": "RbNXV8YtYgTF",
        "outputId": "e2de9386-2b76-4283-ce08-a82600eed7a0"
      },
      "execution_count": null,
      "outputs": [
        {
          "output_type": "stream",
          "name": "stdout",
          "text": [
            "Q1_LeadTime: 7 days\n",
            "Q3_LeadTime: 19 days\n"
          ]
        },
        {
          "output_type": "display_data",
          "data": {
            "text/plain": [
              "<Figure size 432x288 with 1 Axes>"
            ],
            "image/png": "[encoded data removed]"
          },
          "metadata": {
            "needs_background": "light"
          }
        }
      ]
    },
    {
      "cell_type": "code",
      "source": [
        "#Boxplot of WindSpeed3pm\n",
        "\n",
        "fig, axes = plt.subplots(2, 1, figsize=(10, 10))\n",
        "\n",
        "sns.histplot(RAIN['WindSpeed3pm'],bins=20, kde=True,ax =axes [0]);\n",
        "sns.boxplot('WindSpeed3pm', data = RAIN, ax = axes[1])\n",
        "axes[1]\n",
        "plt.savefig('WindSpeed3pm.jpg')"
      ],
      "metadata": {
        "colab": {
          "base_uri": "https://localhost:8080/",
          "height": 606
        },
        "id": "Cjhj7nShY4iL",
        "outputId": "036b61c2-8e83-4d79-dbbd-28e99281dfef"
      },
      "execution_count": null,
      "outputs": [
        {
          "output_type": "display_data",
          "data": {
            "text/plain": [
              "<Figure size 720x720 with 2 Axes>"
            ],
            "image/png": "[encoded data removed]"
          },
          "metadata": {
            "needs_background": "light"
          }
        }
      ]
    },
    {
      "cell_type": "code",
      "source": [
        "#Removing outliers from WindSpeed3pm\n",
        "\n",
        "#Calculate Q1 for Leadtime attribute\n",
        " \n",
        "Q1_LeadTime = RAIN.WindSpeed3pm.quantile(0.25)\n",
        "print(\"Q1_LeadTime:\", int(Q1_LeadTime), \"days\")\n",
        "\n",
        "#Calculating Q3 for LeadTime attribute\n",
        "Q3_LeadTime = RAIN.WindSpeed3pm.quantile(0.75)\n",
        "print(\"Q3_LeadTime:\", int(Q3_LeadTime), \"days\")\n",
        "\n",
        "#Calculating IQR for LeadTime attribute\n",
        "IQR_LeadTime = Q3_LeadTime - Q1_LeadTime\n",
        "\n",
        "#Calculating Lower bound for LeadTime attribute\n",
        "lowerBound_LeadTime = Q1_LeadTime - (1.5 * IQR_LeadTime)\n",
        "\n",
        "#Calculating Upper bound for LeadTime attribute\n",
        "upperBound_LeadTime = Q3_LeadTime + (1.5 * IQR_LeadTime)\n",
        "\n",
        "##Removing the outlier\n",
        "index = RAIN['WindSpeed3pm'][(RAIN['WindSpeed3pm'] > upperBound_LeadTime)].index\n",
        "RAIN.drop(index, inplace = True)\n",
        "\n",
        "#Visualizing distribution of LeadTime attribute\n",
        "sns.boxplot(x = 'WindSpeed3pm', data = RAIN)\n",
        "plt.tight_layout()\n",
        "plt.show()"
      ],
      "metadata": {
        "colab": {
          "base_uri": "https://localhost:8080/",
          "height": 332
        },
        "id": "dJAjA2DrZWUy",
        "outputId": "ba641736-1387-4016-becc-61304c75754b"
      },
      "execution_count": null,
      "outputs": [
        {
          "output_type": "stream",
          "name": "stdout",
          "text": [
            "Q1_LeadTime: 13 days\n",
            "Q3_LeadTime: 24 days\n"
          ]
        },
        {
          "output_type": "display_data",
          "data": {
            "text/plain": [
              "<Figure size 432x288 with 1 Axes>"
            ],
            "image/png": "[encoded data removed]"
          },
          "metadata": {
            "needs_background": "light"
          }
        }
      ]
    },
    {
      "cell_type": "code",
      "source": [
        "#Boxplot of Temp9am\n",
        "\n",
        "fig, axes = plt.subplots(2, 1, figsize=(10, 10))\n",
        "\n",
        "sns.histplot(RAIN['Temp9am'],bins=20, kde=True,ax =axes [0]);\n",
        "sns.boxplot('Temp9am', data = RAIN, ax = axes[1])\n",
        "axes[1]\n",
        "plt.savefig('Temp9am.jpg')"
      ],
      "metadata": {
        "colab": {
          "base_uri": "https://localhost:8080/",
          "height": 606
        },
        "id": "0SxN_q50ZejN",
        "outputId": "a014ccfc-68be-4b25-ab10-188339bf4048"
      },
      "execution_count": null,
      "outputs": [
        {
          "output_type": "display_data",
          "data": {
            "text/plain": [
              "<Figure size 720x720 with 2 Axes>"
            ],
            "image/png": "[encoded data removed]"
          },
          "metadata": {
            "needs_background": "light"
          }
        }
      ]
    },
    {
      "cell_type": "markdown",
      "source": [
        "This also contain outliers in both upper and lower bound that needs to remove."
      ],
      "metadata": {
        "id": "LxLpXOldtuTZ"
      }
    },
    {
      "cell_type": "code",
      "source": [
        "#Removing outliers from Temp9am\n",
        "\n",
        "#Calculate Q1 for Leadtime attribute\n",
        " \n",
        "Q1_LeadTime = RAIN.Temp9am.quantile(0.25)\n",
        "print(\"Q1_LeadTime:\", int(Q1_LeadTime), \"days\")\n",
        "\n",
        "#Calculating Q3 for LeadTime attribute\n",
        "Q3_LeadTime = RAIN.Temp9am.quantile(0.75)\n",
        "print(\"Q3_LeadTime:\", int(Q3_LeadTime), \"days\")\n",
        "\n",
        "#Calculating IQR for LeadTime attribute\n",
        "IQR_LeadTime = Q3_LeadTime - Q1_LeadTime\n",
        "\n",
        "#Calculating Lower bound for LeadTime attribute\n",
        "lowerBound_LeadTime = Q1_LeadTime - (1.5 * IQR_LeadTime)\n",
        "\n",
        "#Calculating Upper bound for LeadTime attribute\n",
        "upperBound_LeadTime = Q3_LeadTime + (1.5 * IQR_LeadTime)\n",
        "\n",
        "##Removing the outlier\n",
        "index = RAIN['Temp9am'][(RAIN['Temp9am'] > upperBound_LeadTime)].index\n",
        "index = RAIN['Temp9am'][(RAIN['Temp9am'] < lowerBound_LeadTime)].index\n",
        "RAIN.drop(index, inplace = True)\n",
        "\n",
        "#Visualizing distribution of LeadTime attribute\n",
        "sns.boxplot(x = 'Temp9am', data = RAIN)\n",
        "plt.tight_layout()\n",
        "plt.show()"
      ],
      "metadata": {
        "colab": {
          "base_uri": "https://localhost:8080/",
          "height": 332
        },
        "id": "ZC583-q3Zu0A",
        "outputId": "0a94b548-89f3-463c-ccbb-2073e7588a38"
      },
      "execution_count": null,
      "outputs": [
        {
          "output_type": "stream",
          "name": "stdout",
          "text": [
            "Q1_LeadTime: 12 days\n",
            "Q3_LeadTime: 21 days\n"
          ]
        },
        {
          "output_type": "display_data",
          "data": {
            "text/plain": [
              "<Figure size 432x288 with 1 Axes>"
            ],
            "image/png": "[encoded data removed]"
          },
          "metadata": {
            "needs_background": "light"
          }
        }
      ]
    },
    {
      "cell_type": "code",
      "source": [
        "#Boxplot of Temp3pm\n",
        "\n",
        "fig, axes = plt.subplots(2, 1, figsize=(10, 10))\n",
        "\n",
        "sns.histplot(RAIN['Temp3pm'],bins=20, kde=True,ax =axes [0]);\n",
        "sns.boxplot('Temp3pm', data = RAIN, ax = axes[1])\n",
        "axes[1]\n",
        "plt.savefig('Temp3pm.jpg')"
      ],
      "metadata": {
        "colab": {
          "base_uri": "https://localhost:8080/",
          "height": 606
        },
        "id": "LAZV2iSsZ7cr",
        "outputId": "d2c7c93b-0fc7-489b-b3bb-ef63076d33f5"
      },
      "execution_count": null,
      "outputs": [
        {
          "output_type": "display_data",
          "data": {
            "text/plain": [
              "<Figure size 720x720 with 2 Axes>"
            ],
            "image/png": "[encoded data removed]"
          },
          "metadata": {
            "needs_background": "light"
          }
        }
      ]
    },
    {
      "cell_type": "markdown",
      "source": [
        "This histograms doe not shows normal distribution as it has many fluctuations."
      ],
      "metadata": {
        "id": "HHoEHhlQt9pW"
      }
    },
    {
      "cell_type": "code",
      "source": [
        "#Removing outliers from Temp3pm\n",
        "\n",
        "#Calculate Q1 for Leadtime attribute\n",
        " \n",
        "Q1_LeadTime = RAIN.Temp3pm.quantile(0.25)\n",
        "print(\"Q1_LeadTime:\", int(Q1_LeadTime), \"days\")\n",
        "\n",
        "#Calculating Q3 for LeadTime attribute\n",
        "Q3_LeadTime = RAIN.Temp3pm.quantile(0.75)\n",
        "print(\"Q3_LeadTime:\", int(Q3_LeadTime), \"days\")\n",
        "\n",
        "#Calculating IQR for LeadTime attribute\n",
        "IQR_LeadTime = Q3_LeadTime - Q1_LeadTime\n",
        "\n",
        "#Calculating Lower bound for LeadTime attribute\n",
        "lowerBound_LeadTime = Q1_LeadTime - (1.5 * IQR_LeadTime)\n",
        "\n",
        "#Calculating Upper bound for LeadTime attribute\n",
        "upperBound_LeadTime = Q3_LeadTime + (1.5 * IQR_LeadTime)\n",
        "\n",
        "##Removing the outlier\n",
        "index = RAIN['Temp3pm'][(RAIN['Temp3pm'] > upperBound_LeadTime)].index\n",
        "RAIN.drop(index, inplace = True)\n",
        "\n",
        "#Visualizing distribution of LeadTime attribute\n",
        "sns.boxplot(x = 'Temp3pm', data = RAIN)\n",
        "plt.tight_layout()\n",
        "plt.show()"
      ],
      "metadata": {
        "colab": {
          "base_uri": "https://localhost:8080/",
          "height": 332
        },
        "id": "4WRkJhXsaTGK",
        "outputId": "808c4391-5b11-4203-d08e-5b48ce7a66f4"
      },
      "execution_count": null,
      "outputs": [
        {
          "output_type": "stream",
          "name": "stdout",
          "text": [
            "Q1_LeadTime: 16 days\n",
            "Q3_LeadTime: 25 days\n"
          ]
        },
        {
          "output_type": "display_data",
          "data": {
            "text/plain": [
              "<Figure size 432x288 with 1 Axes>"
            ],
            "image/png": "[encoded data removed]"
          },
          "metadata": {
            "needs_background": "light"
          }
        }
      ]
    },
    {
      "cell_type": "code",
      "source": [
        "#Boxplot of MiniTemp\n",
        "\n",
        "fig, axes = plt.subplots(2, 1, figsize=(10, 10))\n",
        "\n",
        "sns.histplot(RAIN['MiniTemp'],bins=20, kde=True,ax =axes [0]);\n",
        "sns.boxplot('MiniTemp', data = RAIN, ax = axes[1])\n",
        "axes[1]\n",
        "plt.savefig('MiniTemp.jpg')"
      ],
      "metadata": {
        "colab": {
          "base_uri": "https://localhost:8080/",
          "height": 606
        },
        "id": "DUneVhtecK9o",
        "outputId": "16d63890-0bc8-40c9-878a-3a410af05ec1"
      },
      "execution_count": null,
      "outputs": [
        {
          "output_type": "display_data",
          "data": {
            "text/plain": [
              "<Figure size 720x720 with 2 Axes>"
            ],
            "image/png": "[encoded data removed]"
          },
          "metadata": {
            "needs_background": "light"
          }
        }
      ]
    },
    {
      "cell_type": "markdown",
      "source": [
        "Histogram of minimun temperature shows normal distribution and its left skewed. The boxplot contain few outliers."
      ],
      "metadata": {
        "id": "MygvasIQuJTc"
      }
    },
    {
      "cell_type": "code",
      "source": [
        "#Removing outliers from MiniTemp\n",
        "\n",
        "#Calculate Q1 for Leadtime attribute\n",
        " \n",
        "Q1_LeadTime = RAIN.MiniTemp.quantile(0.25)\n",
        "print(\"Q1_LeadTime:\", int(Q1_LeadTime), \"days\")\n",
        "\n",
        "#Calculating Q3 for LeadTime attribute\n",
        "Q3_LeadTime = RAIN.MiniTemp.quantile(0.75)\n",
        "print(\"Q3_LeadTime:\", int(Q3_LeadTime), \"days\")\n",
        "\n",
        "#Calculating IQR for LeadTime attribute\n",
        "IQR_LeadTime = Q3_LeadTime - Q1_LeadTime\n",
        "\n",
        "#Calculating Lower bound for LeadTime attribute\n",
        "lowerBound_LeadTime = Q1_LeadTime - (1.5 * IQR_LeadTime)\n",
        "\n",
        "#Calculating Upper bound for LeadTime attribute\n",
        "upperBound_LeadTime = Q3_LeadTime + (1.5 * IQR_LeadTime)\n",
        "\n",
        "#Removing the outlier\n",
        "index = RAIN['MiniTemp'][(RAIN['MiniTemp'] > upperBound_LeadTime)].index\n",
        "index = RAIN['MiniTemp'][(RAIN['MiniTemp'] < lowerBound_LeadTime)].index\n",
        "RAIN.drop(index, inplace = True)\n",
        "\n",
        "#Visualizing distribution of LeadTime attribute\n",
        "sns.boxplot(x = 'MiniTemp', data = RAIN)\n",
        "plt.tight_layout()\n",
        "plt.show()"
      ],
      "metadata": {
        "colab": {
          "base_uri": "https://localhost:8080/",
          "height": 332
        },
        "id": "BUeXuluDcfar",
        "outputId": "983549b1-286c-46a1-8ff3-3c4da5cf4bea"
      },
      "execution_count": null,
      "outputs": [
        {
          "output_type": "stream",
          "name": "stdout",
          "text": [
            "Q1_LeadTime: 7 days\n",
            "Q3_LeadTime: 16 days\n"
          ]
        },
        {
          "output_type": "display_data",
          "data": {
            "text/plain": [
              "<Figure size 432x288 with 1 Axes>"
            ],
            "image/png": "[encoded data removed]"
          },
          "metadata": {
            "needs_background": "light"
          }
        }
      ]
    },
    {
      "cell_type": "code",
      "source": [
        "#Boxplot of MaxiTemp\n",
        "\n",
        "fig, axes = plt.subplots(2, 1, figsize=(10, 10))\n",
        "\n",
        "sns.histplot(RAIN['MaxiTemp'],bins=20, kde=True,ax =axes [0]);\n",
        "sns.boxplot('MaxiTemp', data = RAIN, ax = axes[1])\n",
        "axes[1]\n",
        "plt.savefig('MaxiTemp.jpg')"
      ],
      "metadata": {
        "colab": {
          "base_uri": "https://localhost:8080/",
          "height": 606
        },
        "id": "JiGNX_mOco4u",
        "outputId": "ea120960-43da-4906-9319-80bd8e8808cc"
      },
      "execution_count": null,
      "outputs": [
        {
          "output_type": "display_data",
          "data": {
            "text/plain": [
              "<Figure size 720x720 with 2 Axes>"
            ],
            "image/png": "[encoded data removed]"
          },
          "metadata": {
            "needs_background": "light"
          }
        }
      ]
    },
    {
      "cell_type": "code",
      "source": [
        "#Removing outliers from MaxiTemp\n",
        "\n",
        "#Calculate Q1 for Leadtime attribute\n",
        " \n",
        "Q1_LeadTime = RAIN.MaxiTemp.quantile(0.25)\n",
        "print(\"Q1_LeadTime:\", int(Q1_LeadTime), \"days\")\n",
        "\n",
        "#Calculating Q3 for LeadTime attribute\n",
        "Q3_LeadTime = RAIN.MaxiTemp.quantile(0.75)\n",
        "print(\"Q3_LeadTime:\", int(Q3_LeadTime), \"days\")\n",
        "\n",
        "#Calculating IQR for LeadTime attribute\n",
        "IQR_LeadTime = Q3_LeadTime - Q1_LeadTime\n",
        "\n",
        "#Calculating Lower bound for LeadTime attribute\n",
        "lowerBound_LeadTime = Q1_LeadTime - (1.5 * IQR_LeadTime)\n",
        "\n",
        "#Calculating Upper bound for LeadTime attribute\n",
        "upperBound_LeadTime = Q3_LeadTime + (1.5 * IQR_LeadTime)\n",
        "\n",
        "##Removing the outlier\n",
        "index = RAIN['MaxiTemp'][(RAIN['MaxiTemp'] > upperBound_LeadTime)].index\n",
        "index = RAIN['MaxiTemp'][(RAIN['MaxiTemp'] < lowerBound_LeadTime)].index\n",
        "RAIN.drop(index, inplace = True)\n",
        "\n",
        "#Visualizing distribution of LeadTime attribute\n",
        "sns.boxplot(x = 'MaxiTemp', data = RAIN)\n",
        "plt.tight_layout()\n",
        "plt.show()"
      ],
      "metadata": {
        "colab": {
          "base_uri": "https://localhost:8080/",
          "height": 332
        },
        "id": "NP03LycccyQS",
        "outputId": "e4abefd8-9d60-4d10-aff0-e4c4e11e3546"
      },
      "execution_count": null,
      "outputs": [
        {
          "output_type": "stream",
          "name": "stdout",
          "text": [
            "Q1_LeadTime: 17 days\n",
            "Q3_LeadTime: 27 days\n"
          ]
        },
        {
          "output_type": "display_data",
          "data": {
            "text/plain": [
              "<Figure size 432x288 with 1 Axes>"
            ],
            "image/png": "[encoded data removed]"
          },
          "metadata": {
            "needs_background": "light"
          }
        }
      ]
    },
    {
      "cell_type": "code",
      "source": [
        "#Boxplot of Humidity9am\n",
        "\n",
        "fig, axes = plt.subplots(2, 1, figsize=(10, 10))\n",
        "\n",
        "sns.histplot(RAIN['Humidity9am'],bins=20, kde=True,ax =axes [0]);\n",
        "sns.boxplot('Humidity9am', data = RAIN, ax = axes[1])\n",
        "axes[1]\n",
        "plt.savefig('Humidity9am.jpg')"
      ],
      "metadata": {
        "colab": {
          "base_uri": "https://localhost:8080/",
          "height": 606
        },
        "id": "O_esyngFdBRq",
        "outputId": "b360dfd4-35e6-4ac6-e81b-06789e8d14a1"
      },
      "execution_count": null,
      "outputs": [
        {
          "output_type": "display_data",
          "data": {
            "text/plain": [
              "<Figure size 720x720 with 2 Axes>"
            ],
            "image/png": "[encoded data removed]"
          },
          "metadata": {
            "needs_background": "light"
          }
        }
      ]
    },
    {
      "cell_type": "code",
      "source": [
        "#Removing outliers from Humidity9am\n",
        "\n",
        "#Calculate Q1 for Leadtime attribute\n",
        " \n",
        "Q1_LeadTime = RAIN.Humidity9am.quantile(0.25)\n",
        "print(\"Q1_LeadTime:\", int(Q1_LeadTime), \"days\")\n",
        "\n",
        "#Calculating Q3 for LeadTime attribute\n",
        "Q3_LeadTime = RAIN.Humidity9am.quantile(0.75)\n",
        "print(\"Q3_LeadTime:\", int(Q3_LeadTime), \"days\")\n",
        "\n",
        "#Calculating IQR for LeadTime attribute\n",
        "IQR_LeadTime = Q3_LeadTime - Q1_LeadTime\n",
        "\n",
        "#Calculating Lower bound for LeadTime attribute\n",
        "lowerBound_LeadTime = Q1_LeadTime - (1.5 * IQR_LeadTime)\n",
        "\n",
        "#Calculating Upper bound for LeadTime attribute\n",
        "upperBound_LeadTime = Q3_LeadTime + (1.5 * IQR_LeadTime)\n",
        "\n",
        "##Removing the outlier\n",
        "\n",
        "index = RAIN['Humidity9am'][(RAIN['Humidity9am'] < lowerBound_LeadTime)].index\n",
        "RAIN.drop(index, inplace = True)\n",
        "\n",
        "#Visualizing distribution of LeadTime attribute\n",
        "sns.boxplot(x = 'Humidity9am', data = RAIN)\n",
        "plt.tight_layout()\n",
        "plt.show()"
      ],
      "metadata": {
        "colab": {
          "base_uri": "https://localhost:8080/",
          "height": 332
        },
        "id": "bHr-hGSrdRy1",
        "outputId": "b388e27d-a6b9-4a47-c497-4283cf58227b"
      },
      "execution_count": null,
      "outputs": [
        {
          "output_type": "stream",
          "name": "stdout",
          "text": [
            "Q1_LeadTime: 57 days\n",
            "Q3_LeadTime: 83 days\n"
          ]
        },
        {
          "output_type": "display_data",
          "data": {
            "text/plain": [
              "<Figure size 432x288 with 1 Axes>"
            ],
            "image/png": "[encoded data removed]"
          },
          "metadata": {
            "needs_background": "light"
          }
        }
      ]
    },
    {
      "cell_type": "code",
      "source": [
        "#Boxplot of Humidity3pm\n",
        "\n",
        "fig, axes = plt.subplots(2, 1, figsize=(10, 10))\n",
        "\n",
        "sns.histplot(RAIN['Humidity3pm'],bins=20, kde=True,ax =axes [0]);\n",
        "sns.boxplot('Humidity3pm', data = RAIN, ax = axes[1])\n",
        "axes[1]\n",
        "plt.savefig('Humidity3pm.jpg')"
      ],
      "metadata": {
        "colab": {
          "base_uri": "https://localhost:8080/",
          "height": 606
        },
        "id": "_EfzSJlHdBHN",
        "outputId": "e7cb489a-8b86-4a52-f8ce-22c59cceb533"
      },
      "execution_count": null,
      "outputs": [
        {
          "output_type": "display_data",
          "data": {
            "text/plain": [
              "<Figure size 720x720 with 2 Axes>"
            ],
            "image/png": "[encoded data removed]"
          },
          "metadata": {
            "needs_background": "light"
          }
        }
      ]
    },
    {
      "cell_type": "markdown",
      "source": [
        "#VISUALIZATION of maximum temperature distribution. "
      ],
      "metadata": {
        "id": "UvBQ7L8G_42k"
      }
    },
    {
      "cell_type": "code",
      "source": [
        "# Distribution of Maximum Temperature\n",
        "\n",
        "sns.histplot(RAIN['MaxiTemp'])\n",
        "plt.savefig(\"Maximum Temp.jpg\")\n",
        "plt.figure(figsize=(20, 10))\n",
        "\n",
        "plt.show()"
      ],
      "metadata": {
        "id": "9dcszSejGKrN",
        "colab": {
          "base_uri": "https://localhost:8080/",
          "height": 296
        },
        "outputId": "9d1d5c69-1ff9-4702-a118-78ce316c97f9"
      },
      "execution_count": null,
      "outputs": [
        {
          "output_type": "display_data",
          "data": {
            "text/plain": [
              "<Figure size 432x288 with 1 Axes>"
            ],
            "image/png": "[encoded data removed]"
          },
          "metadata": {
            "needs_background": "light"
          }
        },
        {
          "output_type": "display_data",
          "data": {
            "text/plain": [
              "<Figure size 1440x720 with 0 Axes>"
            ]
          },
          "metadata": {}
        }
      ]
    },
    {
      "cell_type": "markdown",
      "source": [
        "**The above histogram shows normal distribution of maximum temperature and it's left skewed. The highest concentration of points of temperature is between 17 to 20 degree celcius.**"
      ],
      "metadata": {
        "id": "oQYR45Bd_zF0"
      }
    },
    {
      "cell_type": "markdown",
      "source": [
        "#Years with highest and lowest rainfall."
      ],
      "metadata": {
        "id": "fZwn8a6u2D_T"
      }
    },
    {
      "cell_type": "code",
      "source": [
        "# Adding year and month to DATE \n",
        "\n",
        "RAIN['year'] = pd.to_datetime(RAIN.Date).dt.year\n",
        "RAIN['month'] = pd.to_datetime(RAIN.Date).dt.month"
      ],
      "metadata": {
        "id": "RWvZJb1FtdM6"
      },
      "execution_count": null,
      "outputs": []
    },
    {
      "cell_type": "code",
      "source": [
        "plt.figure(figsize=(10,10))\n",
        "a = RAIN.groupby('year').agg({'Rainfall':'sum'})\n",
        "a.plot(kind='bar', color='purple')\n",
        "plt.title('Rainfall distribution in each year', fontsize=20)\n",
        "plt.xlabel('year', fontsize=10)\n",
        "plt.ylabel('Rainfall (in mm)', fontsize=10)\n",
        "plt.xticks(rotation=0)\n",
        "plt.savefig(\"Rainfall distribution in each year.jpg\")"
      ],
      "metadata": {
        "colab": {
          "base_uri": "https://localhost:8080/",
          "height": 318
        },
        "id": "t0MEKrVgtmSq",
        "outputId": "981ed7a9-d0ad-400c-c527-d99035718da4"
      },
      "execution_count": null,
      "outputs": [
        {
          "output_type": "display_data",
          "data": {
            "text/plain": [
              "<Figure size 720x720 with 0 Axes>"
            ]
          },
          "metadata": {}
        },
        {
          "output_type": "display_data",
          "data": {
            "text/plain": [
              "<Figure size 432x288 with 1 Axes>"
            ],
            "image/png": "[encoded data removed]"
          },
          "metadata": {
            "needs_background": "light"
          }
        }
      ]
    },
    {
      "cell_type": "markdown",
      "source": [
        "It shows that maximum rainfall occured in the year 2010, 2011 and 2016 almost more than 33000 mm.Whereas year 2007, 2008 and 2017 occured as least rainfall. "
      ],
      "metadata": {
        "id": "8NcuQZuYtxbp"
      }
    },
    {
      "cell_type": "markdown",
      "source": [
        "#To check the distribution of Target variable by plotting pie chart."
      ],
      "metadata": {
        "id": "OBcvfB0ev_iK"
      }
    },
    {
      "cell_type": "code",
      "source": [
        "#Pie chart of Target variable\n",
        "\n",
        "YES = RAIN.RainTomorrow[RAIN[\"RainTomorrow\"]==1].count()\n",
        "NO = RAIN.RainTomorrow[RAIN[\"RainTomorrow\"]==0].count()\n",
        "\n",
        "labels = ['WillRain', 'NoRain']\n",
        "slices = [YES, NO]\n",
        "explode = [0.1, 0]\n",
        "\n",
        "plt.pie(slices, labels = labels, explode = explode, shadow = True,\n",
        "        startangle = -90, autopct = '%1.1f%%',\n",
        "        wedgeprops = {'edgecolor': 'black'})\n",
        "plt.axis('equal') #equal aspect ratio ensures that pie is drawn as a circle\n",
        "plt.title(\"Will it rain tomorrow?\")\n",
        "plt.legend()\n",
        "plt.tight_layout #used for default padding\n",
        "plt.savefig('Will it rain tomorrow?.jpg')\n",
        "plt.show()"
      ],
      "metadata": {
        "colab": {
          "base_uri": "https://localhost:8080/",
          "height": 264
        },
        "id": "Yxa1B2F8s1n5",
        "outputId": "d2b538ea-6e2c-497a-ed21-71e70c476b93"
      },
      "execution_count": null,
      "outputs": [
        {
          "output_type": "display_data",
          "data": {
            "text/plain": [
              "<Figure size 432x288 with 1 Axes>"
            ],
            "image/png": "[encoded data removed]"
          },
          "metadata": {}
        }
      ]
    },
    {
      "cell_type": "markdown",
      "source": [
        "##From above chart we get to know that there are extremely less chances for raining tomorrow as it contains only 21.6% of total proportion whereas NoRain contains 78.4%."
      ],
      "metadata": {
        "id": "L9tSIn9twa3m"
      }
    },
    {
      "cell_type": "markdown",
      "source": [
        "#Temperature distribution to evaluate temperature with highest count."
      ],
      "metadata": {
        "id": "GH6VTgjBvcNs"
      }
    },
    {
      "cell_type": "code",
      "source": [
        "#distribution\n",
        "\n",
        "fig, ax = plt.subplots(2, 1, figsize=(10,10))\n",
        "\n",
        "# Temp9am\n",
        "sns.countplot(RAIN['Temp9am'], palette='ocean', ax=ax[0])\n",
        "ax[0].set_title(\"Distribution of Temp9am\", fontsize=20)\n",
        "\n",
        "#Rain Today\n",
        "\n",
        "sns.countplot(RAIN['RainToday'], palette='ocean', ax=ax[1])\n",
        "ax[1].set_title(\"Distribution of Rain Today\", fontsize=20)\n",
        "plt.savefig('Distribution.jpg')"
      ],
      "metadata": {
        "colab": {
          "base_uri": "https://localhost:8080/",
          "height": 627
        },
        "id": "pfvLwW5pxwfw",
        "outputId": "86f233f2-dde8-4951-e8f3-9e75ca356b1f"
      },
      "execution_count": null,
      "outputs": [
        {
          "output_type": "display_data",
          "data": {
            "text/plain": [
              "<Figure size 720x720 with 2 Axes>"
            ],
            "image/png": "[encoded data removed]"
          },
          "metadata": {
            "needs_background": "light"
          }
        }
      ]
    },
    {
      "cell_type": "markdown",
      "source": [
        "The above visualization demonstrates a normal distribuion of Temperature at 9am. The highest concenteration point for temp is 14 degree celcius beacuse it contains highest count of values which is more than 7000.\n",
        "The another representation shows there are extremely less chance corresponding to rain today because 'No' contains more counts as compared to 'Yes'."
      ],
      "metadata": {
        "id": "zNgV1U1K19_i"
      }
    },
    {
      "cell_type": "code",
      "source": [
        "#Drop Categorical variables for building classification models\n",
        "\n",
        "RAIN = RAIN.drop(['Date', 'year', 'month', 'Location', 'WindDir3pm', 'RainToday'], axis = 1)"
      ],
      "metadata": {
        "id": "R88iTvz4-WCV"
      },
      "execution_count": null,
      "outputs": []
    },
    {
      "cell_type": "code",
      "source": [
        "# Check changes\n",
        "\n",
        "RAIN.info()"
      ],
      "metadata": {
        "id": "5PBFhi5t_oX-",
        "colab": {
          "base_uri": "https://localhost:8080/"
        },
        "outputId": "1b09d9e1-bc0d-4907-9876-4f3737cc9186"
      },
      "execution_count": null,
      "outputs": [
        {
          "output_type": "stream",
          "name": "stdout",
          "text": [
            "<class 'pandas.core.frame.DataFrame'>\n",
            "Int64Index: 123707 entries, 0 to 139136\n",
            "Data columns (total 10 columns):\n",
            " #   Column        Non-Null Count   Dtype  \n",
            "---  ------        --------------   -----  \n",
            " 0   MiniTemp      123707 non-null  int64  \n",
            " 1   MaxiTemp      123707 non-null  int64  \n",
            " 2   Rainfall      123707 non-null  int64  \n",
            " 3   WindSpeed9am  123707 non-null  float64\n",
            " 4   WindSpeed3pm  123707 non-null  float64\n",
            " 5   Humidity9am   123707 non-null  int64  \n",
            " 6   Humidity3pm   123707 non-null  int64  \n",
            " 7   Temp9am       123707 non-null  int64  \n",
            " 8   Temp3pm       123707 non-null  int64  \n",
            " 9   RainTomorrow  123707 non-null  int64  \n",
            "dtypes: float64(2), int64(8)\n",
            "memory usage: 14.4 MB\n"
          ]
        }
      ]
    },
    {
      "cell_type": "markdown",
      "source": [
        "#Correlation between Target variable and other attributes. "
      ],
      "metadata": {
        "id": "d-73iYDEv4kp"
      }
    },
    {
      "cell_type": "code",
      "source": [
        "corr = RAIN.corr()\n",
        "plt.figure(figsize=(15,12))\n",
        "sns.heatmap(corr,cmap='Blues',annot=True)\n",
        "plt.savefig('Correlation between Target and other variables.jpg')"
      ],
      "metadata": {
        "colab": {
          "base_uri": "https://localhost:8080/",
          "height": 675
        },
        "id": "TeQA4k5svswj",
        "outputId": "bcce00a6-4b2c-4022-825f-2d99f8d76756"
      },
      "execution_count": null,
      "outputs": [
        {
          "output_type": "display_data",
          "data": {
            "text/plain": [
              "<Figure size 1080x864 with 2 Axes>"
            ],
            "image/png": "[encoded data removed]"
          },
          "metadata": {
            "needs_background": "light"
          }
        }
      ]
    },
    {
      "cell_type": "markdown",
      "source": [
        "The above graph shows that attribute Temp9am ,Temp3pm and Maxitemp are strongly corelated with each other which means they almost provide same information. So, we need to remove one from them,"
      ],
      "metadata": {
        "id": "UHsVC4DHwsKx"
      }
    },
    {
      "cell_type": "markdown",
      "source": [
        "#VARIANCE(To drop that attribute which having low variance)"
      ],
      "metadata": {
        "id": "Gb_eZr_7lpEe"
      }
    },
    {
      "cell_type": "code",
      "source": [
        "variance = RAIN.var()\n",
        "variance"
      ],
      "metadata": {
        "colab": {
          "base_uri": "https://localhost:8080/"
        },
        "id": "7anlNUjgicpd",
        "outputId": "19a38d5e-1eab-4b41-fb8d-647a7acc4925"
      },
      "execution_count": null,
      "outputs": [
        {
          "output_type": "execute_result",
          "data": {
            "text/plain": [
              "MiniTemp         36.474405\n",
              "MaxiTemp         43.429086\n",
              "Rainfall         60.832603\n",
              "WindSpeed9am     65.929090\n",
              "WindSpeed3pm     62.974172\n",
              "Humidity9am     323.672956\n",
              "Humidity3pm     401.371229\n",
              "Temp9am          36.912724\n",
              "Temp3pm          41.347838\n",
              "RainTomorrow      0.170240\n",
              "dtype: float64"
            ]
          },
          "metadata": {},
          "execution_count": 49
        }
      ]
    },
    {
      "cell_type": "markdown",
      "source": [
        "Here we need to remove those attribute whose variance is near to 0 from above mentioned attributes that were strongly correlated. But these are so far from 0 as a result we are not removing them."
      ],
      "metadata": {
        "id": "Nw7eSpmpxxGt"
      }
    },
    {
      "cell_type": "code",
      "source": [
        "variance.to_csv(\"Variance.csv\")"
      ],
      "metadata": {
        "id": "AZJggKsaAhus"
      },
      "execution_count": null,
      "outputs": []
    },
    {
      "cell_type": "markdown",
      "source": [
        "#To check which attribute is more closely associated with target variable."
      ],
      "metadata": {
        "id": "G3ajRfKriPk6"
      }
    },
    {
      "cell_type": "code",
      "source": [
        "CORR = RAIN.corr()['RainTomorrow'].abs().sort_values(ascending = False)\n",
        "CORR\n"
      ],
      "metadata": {
        "colab": {
          "base_uri": "https://localhost:8080/"
        },
        "id": "tT2F4mAQiBHr",
        "outputId": "946416ac-e2ee-4094-a061-7eb94dddc363"
      },
      "execution_count": null,
      "outputs": [
        {
          "output_type": "execute_result",
          "data": {
            "text/plain": [
              "RainTomorrow    1.000000\n",
              "Humidity3pm     0.444430\n",
              "Humidity9am     0.247892\n",
              "Rainfall        0.224034\n",
              "Temp3pm         0.189817\n",
              "MaxiTemp        0.153153\n",
              "MiniTemp        0.095956\n",
              "WindSpeed9am    0.084620\n",
              "WindSpeed3pm    0.074009\n",
              "Temp9am         0.015578\n",
              "Name: RainTomorrow, dtype: float64"
            ]
          },
          "metadata": {},
          "execution_count": 51
        }
      ]
    },
    {
      "cell_type": "markdown",
      "source": [
        "Above table shows that Humidity3pm is most closely associated with the target variable.   "
      ],
      "metadata": {
        "id": "u4A3A_1c3vPc"
      }
    },
    {
      "cell_type": "code",
      "source": [
        "#To extract Correlation into excel\n",
        "\n",
        "CORR.to_csv(\"CORRELATION.csv\")"
      ],
      "metadata": {
        "id": "lrYzPr4EimSO"
      },
      "execution_count": null,
      "outputs": []
    },
    {
      "cell_type": "code",
      "source": [
        "# No of counts corresponding to target variable\n",
        "\n",
        "RAIN[\"RainTomorrow\"].value_counts()"
      ],
      "metadata": {
        "id": "Nx2cg56-EvnL",
        "colab": {
          "base_uri": "https://localhost:8080/"
        },
        "outputId": "b8262a44-9245-4993-d1bd-91a56bc35c8c"
      },
      "execution_count": null,
      "outputs": [
        {
          "output_type": "execute_result",
          "data": {
            "text/plain": [
              "0    96791\n",
              "1    26916\n",
              "Name: RainTomorrow, dtype: int64"
            ]
          },
          "metadata": {},
          "execution_count": 53
        }
      ]
    },
    {
      "cell_type": "markdown",
      "source": [
        "It shows that there are two levels of categories in our target variable, corresponding to 0 there is 101378 values and to 1, 27996 values are there."
      ],
      "metadata": {
        "id": "CmhhS5MZzVyk"
      }
    },
    {
      "cell_type": "code",
      "source": [
        "#Separating the input and response variable\n",
        "\n",
        "X = RAIN.drop(['RainTomorrow'], axis = 1) # X (input variables)\n",
        "y = RAIN['RainTomorrow'] # y (target and response variable)"
      ],
      "metadata": {
        "id": "i-36f6LlGvQm"
      },
      "execution_count": null,
      "outputs": []
    },
    {
      "cell_type": "code",
      "source": [
        "X.head(5)"
      ],
      "metadata": {
        "id": "LqpDXDMaG3n8",
        "colab": {
          "base_uri": "https://localhost:8080/",
          "height": 270
        },
        "outputId": "69e3a652-132b-44f3-b9cc-d25cbeb1a7e1"
      },
      "execution_count": null,
      "outputs": [
        {
          "output_type": "execute_result",
          "data": {
            "text/plain": [
              "   MiniTemp  MaxiTemp  Rainfall  WindSpeed9am  WindSpeed3pm  Humidity9am  \\\n",
              "0        13        22         0          20.0          24.0           71   \n",
              "1         7        25         0           4.0          22.0           44   \n",
              "2        12        25         0          19.0          26.0           38   \n",
              "3         9        28         0          11.0           9.0           45   \n",
              "4        17        32         1           7.0          20.0           82   \n",
              "\n",
              "   Humidity3pm  Temp9am  Temp3pm  \n",
              "0           22       16       21  \n",
              "1           25       17       24  \n",
              "2           30       21       23  \n",
              "3           16       18       26  \n",
              "4           33       17       29  "
            ],
            "text/html": [
              "\n",
              "  <div id=\"df-7e2b7b04-879b-4978-94d1-429ea3568b49\">\n",
              "    <div class=\"colab-df-container\">\n",
              "      <div>\n",
              "<style scoped>\n",
              "    .dataframe tbody tr th:only-of-type {\n",
              "        vertical-align: middle;\n",
              "    }\n",
              "\n",
              "    .dataframe tbody tr th {\n",
              "        vertical-align: top;\n",
              "    }\n",
              "\n",
              "    .dataframe thead th {\n",
              "        text-align: right;\n",
              "    }\n",
              "</style>\n",
              "<table border=\"1\" class=\"dataframe\">\n",
              "  <thead>\n",
              "    <tr style=\"text-align: right;\">\n",
              "      <th></th>\n",
              "      <th>MiniTemp</th>\n",
              "      <th>MaxiTemp</th>\n",
              "      <th>Rainfall</th>\n",
              "      <th>WindSpeed9am</th>\n",
              "      <th>WindSpeed3pm</th>\n",
              "      <th>Humidity9am</th>\n",
              "      <th>Humidity3pm</th>\n",
              "      <th>Temp9am</th>\n",
              "      <th>Temp3pm</th>\n",
              "    </tr>\n",
              "  </thead>\n",
              "  <tbody>\n",
              "    <tr>\n",
              "      <th>0</th>\n",
              "      <td>13</td>\n",
              "      <td>22</td>\n",
              "      <td>0</td>\n",
              "      <td>20.0</td>\n",
              "      <td>24.0</td>\n",
              "      <td>71</td>\n",
              "      <td>22</td>\n",
              "      <td>16</td>\n",
              "      <td>21</td>\n",
              "    </tr>\n",
              "    <tr>\n",
              "      <th>1</th>\n",
              "      <td>7</td>\n",
              "      <td>25</td>\n",
              "      <td>0</td>\n",
              "      <td>4.0</td>\n",
              "      <td>22.0</td>\n",
              "      <td>44</td>\n",
              "      <td>25</td>\n",
              "      <td>17</td>\n",
              "      <td>24</td>\n",
              "    </tr>\n",
              "    <tr>\n",
              "      <th>2</th>\n",
              "      <td>12</td>\n",
              "      <td>25</td>\n",
              "      <td>0</td>\n",
              "      <td>19.0</td>\n",
              "      <td>26.0</td>\n",
              "      <td>38</td>\n",
              "      <td>30</td>\n",
              "      <td>21</td>\n",
              "      <td>23</td>\n",
              "    </tr>\n",
              "    <tr>\n",
              "      <th>3</th>\n",
              "      <td>9</td>\n",
              "      <td>28</td>\n",
              "      <td>0</td>\n",
              "      <td>11.0</td>\n",
              "      <td>9.0</td>\n",
              "      <td>45</td>\n",
              "      <td>16</td>\n",
              "      <td>18</td>\n",
              "      <td>26</td>\n",
              "    </tr>\n",
              "    <tr>\n",
              "      <th>4</th>\n",
              "      <td>17</td>\n",
              "      <td>32</td>\n",
              "      <td>1</td>\n",
              "      <td>7.0</td>\n",
              "      <td>20.0</td>\n",
              "      <td>82</td>\n",
              "      <td>33</td>\n",
              "      <td>17</td>\n",
              "      <td>29</td>\n",
              "    </tr>\n",
              "  </tbody>\n",
              "</table>\n",
              "</div>\n",
              "      <button class=\"colab-df-convert\" onclick=\"convertToInteractive('df-7e2b7b04-879b-4978-94d1-429ea3568b49')\"\n",
              "              title=\"Convert this dataframe to an interactive table.\"\n",
              "              style=\"display:none;\">\n",
              "        \n",
              "  <svg xmlns=\"http://www.w3.org/2000/svg\" height=\"24px\"viewBox=\"0 0 24 24\"\n",
              "       width=\"24px\">\n",
              "    <path d=\"M0 0h24v24H0V0z\" fill=\"none\"/>\n",
              "    <path d=\"M18.56 5.44l.94 2.06.94-2.06 2.06-.94-2.06-.94-.94-2.06-.94 2.06-2.06.94zm-11 1L8.5 8.5l.94-2.06 2.06-.94-2.06-.94L8.5 2.5l-.94 2.06-2.06.94zm10 10l.94 2.06.94-2.06 2.06-.94-2.06-.94-.94-2.06-.94 2.06-2.06.94z\"/><path d=\"M17.41 7.96l-1.37-1.37c-.4-.4-.92-.59-1.43-.59-.52 0-1.04.2-1.43.59L10.3 9.45l-7.72 7.72c-.78.78-.78 2.05 0 2.83L4 21.41c.39.39.9.59 1.41.59.51 0 1.02-.2 1.41-.59l7.78-7.78 2.81-2.81c.8-.78.8-2.07 0-2.86zM5.41 20L4 18.59l7.72-7.72 1.47 1.35L5.41 20z\"/>\n",
              "  </svg>\n",
              "      </button>\n",
              "      \n",
              "  <style>\n",
              "    .colab-df-container {\n",
              "      display:flex;\n",
              "      flex-wrap:wrap;\n",
              "      gap: 12px;\n",
              "    }\n",
              "\n",
              "    .colab-df-convert {\n",
              "      background-color: #E8F0FE;\n",
              "      border: none;\n",
              "      border-radius: 50%;\n",
              "      cursor: pointer;\n",
              "      display: none;\n",
              "      fill: #1967D2;\n",
              "      height: 32px;\n",
              "      padding: 0 0 0 0;\n",
              "      width: 32px;\n",
              "    }\n",
              "\n",
              "    .colab-df-convert:hover {\n",
              "      background-color: #E2EBFA;\n",
              "      box-shadow: 0px 1px 2px rgba(60, 64, 67, 0.3), 0px 1px 3px 1px rgba(60, 64, 67, 0.15);\n",
              "      fill: #174EA6;\n",
              "    }\n",
              "\n",
              "    [theme=dark] .colab-df-convert {\n",
              "      background-color: #3B4455;\n",
              "      fill: #D2E3FC;\n",
              "    }\n",
              "\n",
              "    [theme=dark] .colab-df-convert:hover {\n",
              "      background-color: #434B5C;\n",
              "      box-shadow: 0px 1px 3px 1px rgba(0, 0, 0, 0.15);\n",
              "      filter: drop-shadow(0px 1px 2px rgba(0, 0, 0, 0.3));\n",
              "      fill: #FFFFFF;\n",
              "    }\n",
              "  </style>\n",
              "\n",
              "      <script>\n",
              "        const buttonEl =\n",
              "          document.querySelector('#df-7e2b7b04-879b-4978-94d1-429ea3568b49 button.colab-df-convert');\n",
              "        buttonEl.style.display =\n",
              "          google.colab.kernel.accessAllowed ? 'block' : 'none';\n",
              "\n",
              "        async function convertToInteractive(key) {\n",
              "          const element = document.querySelector('#df-7e2b7b04-879b-4978-94d1-429ea3568b49');\n",
              "          const dataTable =\n",
              "            await google.colab.kernel.invokeFunction('convertToInteractive',\n",
              "                                                     [key], {});\n",
              "          if (!dataTable) return;\n",
              "\n",
              "          const docLinkHtml = 'Like what you see? Visit the ' +\n",
              "            '<a target=\"_blank\" href=https://colab.research.google.com/notebooks/data_table.ipynb>data table notebook</a>'\n",
              "            + ' to learn more about interactive tables.';\n",
              "          element.innerHTML = '';\n",
              "          dataTable['output_type'] = 'display_data';\n",
              "          await google.colab.output.renderOutput(dataTable, element);\n",
              "          const docLink = document.createElement('div');\n",
              "          docLink.innerHTML = docLinkHtml;\n",
              "          element.appendChild(docLink);\n",
              "        }\n",
              "      </script>\n",
              "    </div>\n",
              "  </div>\n",
              "  "
            ]
          },
          "metadata": {},
          "execution_count": 55
        }
      ]
    },
    {
      "cell_type": "code",
      "source": [
        "y.head(10)"
      ],
      "metadata": {
        "id": "SF0Dk4hFG_5F",
        "colab": {
          "base_uri": "https://localhost:8080/"
        },
        "outputId": "cf5b2a2d-043e-4e69-9604-678d174e9ba6"
      },
      "execution_count": null,
      "outputs": [
        {
          "output_type": "execute_result",
          "data": {
            "text/plain": [
              "0    0\n",
              "1    0\n",
              "2    0\n",
              "3    0\n",
              "4    0\n",
              "5    0\n",
              "6    0\n",
              "7    0\n",
              "8    1\n",
              "9    0\n",
              "Name: RainTomorrow, dtype: int64"
            ]
          },
          "metadata": {},
          "execution_count": 56
        }
      ]
    },
    {
      "cell_type": "markdown",
      "source": [
        "#TRAIN-TEST SPLIT"
      ],
      "metadata": {
        "id": "YbAMinKI6D99"
      }
    },
    {
      "cell_type": "code",
      "source": [
        "# Split train_test to build models (we create our model with x test and y test)\n",
        "\n",
        "from sklearn.model_selection import train_test_split\n",
        "X_train, X_test, y_train, y_test = train_test_split(X, y, test_size = 0.30, random_state = 3) #0.30 mns our test size is 30%; random state to(get same training set with each run) fix output on multiple runs\n",
        "X_train.head(5)"
      ],
      "metadata": {
        "id": "imsLfjkJHWdn",
        "colab": {
          "base_uri": "https://localhost:8080/",
          "height": 270
        },
        "outputId": "592d62fe-2b20-4cfe-c103-ac76f848c125"
      },
      "execution_count": null,
      "outputs": [
        {
          "output_type": "execute_result",
          "data": {
            "text/plain": [
              "        MiniTemp  MaxiTemp  Rainfall  WindSpeed9am  WindSpeed3pm  Humidity9am  \\\n",
              "132018         7        13         0           9.0          20.0           57   \n",
              "73214         17        29         0          22.0          20.0           59   \n",
              "21950         17        22         0           2.0          13.0           73   \n",
              "136152        22        35         0          20.0          24.0           35   \n",
              "38892          4        19         0          13.0          13.0           63   \n",
              "\n",
              "        Humidity3pm  Temp9am  Temp3pm  \n",
              "132018           51       12        9  \n",
              "73214            21       19       27  \n",
              "21950            64       21       22  \n",
              "136152           15       26       35  \n",
              "38892            50       13       19  "
            ],
            "text/html": [
              "\n",
              "  <div id=\"df-9cab7223-81cd-4b89-a8b2-8e3c9095d39a\">\n",
              "    <div class=\"colab-df-container\">\n",
              "      <div>\n",
              "<style scoped>\n",
              "    .dataframe tbody tr th:only-of-type {\n",
              "        vertical-align: middle;\n",
              "    }\n",
              "\n",
              "    .dataframe tbody tr th {\n",
              "        vertical-align: top;\n",
              "    }\n",
              "\n",
              "    .dataframe thead th {\n",
              "        text-align: right;\n",
              "    }\n",
              "</style>\n",
              "<table border=\"1\" class=\"dataframe\">\n",
              "  <thead>\n",
              "    <tr style=\"text-align: right;\">\n",
              "      <th></th>\n",
              "      <th>MiniTemp</th>\n",
              "      <th>MaxiTemp</th>\n",
              "      <th>Rainfall</th>\n",
              "      <th>WindSpeed9am</th>\n",
              "      <th>WindSpeed3pm</th>\n",
              "      <th>Humidity9am</th>\n",
              "      <th>Humidity3pm</th>\n",
              "      <th>Temp9am</th>\n",
              "      <th>Temp3pm</th>\n",
              "    </tr>\n",
              "  </thead>\n",
              "  <tbody>\n",
              "    <tr>\n",
              "      <th>132018</th>\n",
              "      <td>7</td>\n",
              "      <td>13</td>\n",
              "      <td>0</td>\n",
              "      <td>9.0</td>\n",
              "      <td>20.0</td>\n",
              "      <td>57</td>\n",
              "      <td>51</td>\n",
              "      <td>12</td>\n",
              "      <td>9</td>\n",
              "    </tr>\n",
              "    <tr>\n",
              "      <th>73214</th>\n",
              "      <td>17</td>\n",
              "      <td>29</td>\n",
              "      <td>0</td>\n",
              "      <td>22.0</td>\n",
              "      <td>20.0</td>\n",
              "      <td>59</td>\n",
              "      <td>21</td>\n",
              "      <td>19</td>\n",
              "      <td>27</td>\n",
              "    </tr>\n",
              "    <tr>\n",
              "      <th>21950</th>\n",
              "      <td>17</td>\n",
              "      <td>22</td>\n",
              "      <td>0</td>\n",
              "      <td>2.0</td>\n",
              "      <td>13.0</td>\n",
              "      <td>73</td>\n",
              "      <td>64</td>\n",
              "      <td>21</td>\n",
              "      <td>22</td>\n",
              "    </tr>\n",
              "    <tr>\n",
              "      <th>136152</th>\n",
              "      <td>22</td>\n",
              "      <td>35</td>\n",
              "      <td>0</td>\n",
              "      <td>20.0</td>\n",
              "      <td>24.0</td>\n",
              "      <td>35</td>\n",
              "      <td>15</td>\n",
              "      <td>26</td>\n",
              "      <td>35</td>\n",
              "    </tr>\n",
              "    <tr>\n",
              "      <th>38892</th>\n",
              "      <td>4</td>\n",
              "      <td>19</td>\n",
              "      <td>0</td>\n",
              "      <td>13.0</td>\n",
              "      <td>13.0</td>\n",
              "      <td>63</td>\n",
              "      <td>50</td>\n",
              "      <td>13</td>\n",
              "      <td>19</td>\n",
              "    </tr>\n",
              "  </tbody>\n",
              "</table>\n",
              "</div>\n",
              "      <button class=\"colab-df-convert\" onclick=\"convertToInteractive('df-9cab7223-81cd-4b89-a8b2-8e3c9095d39a')\"\n",
              "              title=\"Convert this dataframe to an interactive table.\"\n",
              "              style=\"display:none;\">\n",
              "        \n",
              "  <svg xmlns=\"http://www.w3.org/2000/svg\" height=\"24px\"viewBox=\"0 0 24 24\"\n",
              "       width=\"24px\">\n",
              "    <path d=\"M0 0h24v24H0V0z\" fill=\"none\"/>\n",
              "    <path d=\"M18.56 5.44l.94 2.06.94-2.06 2.06-.94-2.06-.94-.94-2.06-.94 2.06-2.06.94zm-11 1L8.5 8.5l.94-2.06 2.06-.94-2.06-.94L8.5 2.5l-.94 2.06-2.06.94zm10 10l.94 2.06.94-2.06 2.06-.94-2.06-.94-.94-2.06-.94 2.06-2.06.94z\"/><path d=\"M17.41 7.96l-1.37-1.37c-.4-.4-.92-.59-1.43-.59-.52 0-1.04.2-1.43.59L10.3 9.45l-7.72 7.72c-.78.78-.78 2.05 0 2.83L4 21.41c.39.39.9.59 1.41.59.51 0 1.02-.2 1.41-.59l7.78-7.78 2.81-2.81c.8-.78.8-2.07 0-2.86zM5.41 20L4 18.59l7.72-7.72 1.47 1.35L5.41 20z\"/>\n",
              "  </svg>\n",
              "      </button>\n",
              "      \n",
              "  <style>\n",
              "    .colab-df-container {\n",
              "      display:flex;\n",
              "      flex-wrap:wrap;\n",
              "      gap: 12px;\n",
              "    }\n",
              "\n",
              "    .colab-df-convert {\n",
              "      background-color: #E8F0FE;\n",
              "      border: none;\n",
              "      border-radius: 50%;\n",
              "      cursor: pointer;\n",
              "      display: none;\n",
              "      fill: #1967D2;\n",
              "      height: 32px;\n",
              "      padding: 0 0 0 0;\n",
              "      width: 32px;\n",
              "    }\n",
              "\n",
              "    .colab-df-convert:hover {\n",
              "      background-color: #E2EBFA;\n",
              "      box-shadow: 0px 1px 2px rgba(60, 64, 67, 0.3), 0px 1px 3px 1px rgba(60, 64, 67, 0.15);\n",
              "      fill: #174EA6;\n",
              "    }\n",
              "\n",
              "    [theme=dark] .colab-df-convert {\n",
              "      background-color: #3B4455;\n",
              "      fill: #D2E3FC;\n",
              "    }\n",
              "\n",
              "    [theme=dark] .colab-df-convert:hover {\n",
              "      background-color: #434B5C;\n",
              "      box-shadow: 0px 1px 3px 1px rgba(0, 0, 0, 0.15);\n",
              "      filter: drop-shadow(0px 1px 2px rgba(0, 0, 0, 0.3));\n",
              "      fill: #FFFFFF;\n",
              "    }\n",
              "  </style>\n",
              "\n",
              "      <script>\n",
              "        const buttonEl =\n",
              "          document.querySelector('#df-9cab7223-81cd-4b89-a8b2-8e3c9095d39a button.colab-df-convert');\n",
              "        buttonEl.style.display =\n",
              "          google.colab.kernel.accessAllowed ? 'block' : 'none';\n",
              "\n",
              "        async function convertToInteractive(key) {\n",
              "          const element = document.querySelector('#df-9cab7223-81cd-4b89-a8b2-8e3c9095d39a');\n",
              "          const dataTable =\n",
              "            await google.colab.kernel.invokeFunction('convertToInteractive',\n",
              "                                                     [key], {});\n",
              "          if (!dataTable) return;\n",
              "\n",
              "          const docLinkHtml = 'Like what you see? Visit the ' +\n",
              "            '<a target=\"_blank\" href=https://colab.research.google.com/notebooks/data_table.ipynb>data table notebook</a>'\n",
              "            + ' to learn more about interactive tables.';\n",
              "          element.innerHTML = '';\n",
              "          dataTable['output_type'] = 'display_data';\n",
              "          await google.colab.output.renderOutput(dataTable, element);\n",
              "          const docLink = document.createElement('div');\n",
              "          docLink.innerHTML = docLinkHtml;\n",
              "          element.appendChild(docLink);\n",
              "        }\n",
              "      </script>\n",
              "    </div>\n",
              "  </div>\n",
              "  "
            ]
          },
          "metadata": {},
          "execution_count": 57
        }
      ]
    },
    {
      "cell_type": "markdown",
      "source": [
        "From above table, we can see that our data is not normalize. So we need to normalize it for getting better accurate results."
      ],
      "metadata": {
        "id": "psYfcJPW44qw"
      }
    },
    {
      "cell_type": "markdown",
      "source": [
        "#DATA NORMALIZATION"
      ],
      "metadata": {
        "id": "KV4pnKyl6I-6"
      }
    },
    {
      "cell_type": "markdown",
      "source": [
        "Normalization is a technique to normalize our dataset to get more accurate results. For data normalization, we are using Standard Scaler method which will normalize the data distribution by subtracting ##mean## from each value and then divide it with standard deviation(x-mean/sd)."
      ],
      "metadata": {
        "id": "jbJ-gnTP5E_y"
      }
    },
    {
      "cell_type": "code",
      "source": [
        "from sklearn.preprocessing import StandardScaler\n",
        "sc = StandardScaler()\n",
        "X_train = sc.fit_transform(X_train)\n",
        "X_test = sc.fit_transform(X_test)"
      ],
      "metadata": {
        "id": "Bj5HCuC8451t"
      },
      "execution_count": null,
      "outputs": []
    },
    {
      "cell_type": "code",
      "source": [
        "X_train"
      ],
      "metadata": {
        "colab": {
          "base_uri": "https://localhost:8080/"
        },
        "id": "-FdEDfbr5YOU",
        "outputId": "91b54418-ba54-4984-cb0e-8f1df138bb14"
      },
      "execution_count": null,
      "outputs": [
        {
          "output_type": "execute_result",
          "data": {
            "text/plain": [
              "array([[-0.70880987, -1.40227517, -0.26595083, ..., -0.05639915,\n",
              "        -0.6566514 , -1.82661411],\n",
              "       [ 0.94530332,  1.02606342, -0.26595083, ..., -1.55521097,\n",
              "         0.49479227,  0.97395798],\n",
              "       [ 0.94530332, -0.03633471, -0.26595083, ...,  0.59308597,\n",
              "         0.82377617,  0.19602129],\n",
              "       ...,\n",
              "       [ 1.27612596,  1.17783458, -0.26595083, ..., -0.35616152,\n",
              "         1.48174398,  1.28513266],\n",
              "       [-1.03963251, -0.79519052, -0.26595083, ...,  0.44320478,\n",
              "        -0.6566514 , -0.73750274],\n",
              "       [-0.87422119, -0.64341936, -0.26595083, ...,  0.44320478,\n",
              "        -1.15012726, -0.5819154 ]])"
            ]
          },
          "metadata": {},
          "execution_count": 59
        }
      ]
    },
    {
      "cell_type": "code",
      "source": [
        "X_test"
      ],
      "metadata": {
        "colab": {
          "base_uri": "https://localhost:8080/"
        },
        "id": "MaP-O2MH53ms",
        "outputId": "31eb6fb1-635b-410a-c4b8-b96c7660267c"
      },
      "execution_count": null,
      "outputs": [
        {
          "output_type": "execute_result",
          "data": {
            "text/plain": [
              "array([[-1.5478887 , -0.65374052, -0.26845963, ..., -1.09564954,\n",
              "        -1.32607647, -0.59157449],\n",
              "       [-0.38604307, -0.65374052, -0.26845963, ...,  0.29901336,\n",
              "        -0.00738175, -0.43621822],\n",
              "       [ 1.77167025,  0.55975229,  0.38806867, ...,  1.49443871,\n",
              "         1.47614982,  0.65127571],\n",
              "       ...,\n",
              "       [ 0.27786872,  0.25637909,  0.9132913 , ...,  0.5978697 ,\n",
              "         0.48712877, -0.12550567],\n",
              "       [ 0.94178051,  1.0148121 , -0.26845963, ...,  0.0997758 ,\n",
              "         1.31131298,  1.27270081],\n",
              "       [ 1.43971435,  1.7732451 , -0.26845963, ..., -0.94622137,\n",
              "         1.31131298,  1.89412591]])"
            ]
          },
          "metadata": {},
          "execution_count": 60
        }
      ]
    },
    {
      "cell_type": "code",
      "source": [
        "print(\"X_train:\", X_train.shape)\n",
        "print(\"X_test:\", X_test.shape)\n",
        "print(\"y_train:\", y_train.shape)\n",
        "print(\"y_test:\", y_test.shape)"
      ],
      "metadata": {
        "colab": {
          "base_uri": "https://localhost:8080/"
        },
        "id": "h3JRMBn_yx43",
        "outputId": "3613cf50-5690-4573-9a55-b03368631260"
      },
      "execution_count": null,
      "outputs": [
        {
          "output_type": "stream",
          "name": "stdout",
          "text": [
            "X_train: (86594, 9)\n",
            "X_test: (37113, 9)\n",
            "y_train: (86594,)\n",
            "y_test: (37113,)\n"
          ]
        }
      ]
    },
    {
      "cell_type": "markdown",
      "source": [
        "#SAMPLING"
      ],
      "metadata": {
        "id": "4OMN7VqA58OU"
      }
    },
    {
      "cell_type": "code",
      "source": [
        "#Summarize class distribution\n",
        "\n",
        "print(\"Before Sampling:\")\n",
        "balancing = y_train.value_counts()\n",
        "balancing"
      ],
      "metadata": {
        "id": "-a1M_CCIHlt0",
        "colab": {
          "base_uri": "https://localhost:8080/"
        },
        "outputId": "3c972f0c-4540-45b6-bdde-396d77268a82"
      },
      "execution_count": null,
      "outputs": [
        {
          "output_type": "stream",
          "name": "stdout",
          "text": [
            "Before Sampling:\n"
          ]
        },
        {
          "output_type": "execute_result",
          "data": {
            "text/plain": [
              "0    67695\n",
              "1    18899\n",
              "Name: RainTomorrow, dtype: int64"
            ]
          },
          "metadata": {},
          "execution_count": 62
        }
      ]
    },
    {
      "cell_type": "code",
      "source": [
        "balancing.to_csv(\"Classs distribution.csv\")"
      ],
      "metadata": {
        "id": "xvTsvZJkb358"
      },
      "execution_count": null,
      "outputs": []
    },
    {
      "cell_type": "markdown",
      "source": [
        "Now, we can see that our target variable is not balanced. For getting exact result we need balances data so we will resample the data by using appropriate sampling method."
      ],
      "metadata": {
        "id": "3HOHaTXQ59AL"
      }
    },
    {
      "cell_type": "markdown",
      "source": [
        "#INSTALLING pip"
      ],
      "metadata": {
        "id": "Z0qQHGpUciP0"
      }
    },
    {
      "cell_type": "code",
      "source": [
        "!pip install imblearn # for re-sampling or dealing with imbalanced classes"
      ],
      "metadata": {
        "id": "1yCnIRSYIEq9",
        "colab": {
          "base_uri": "https://localhost:8080/"
        },
        "outputId": "b7ce5f3d-5df9-46d1-8855-b09f759c5d62"
      },
      "execution_count": null,
      "outputs": [
        {
          "output_type": "stream",
          "name": "stdout",
          "text": [
            "Requirement already satisfied: imblearn in /usr/local/lib/python3.7/dist-packages (0.0)\n",
            "Requirement already satisfied: imbalanced-learn in /usr/local/lib/python3.7/dist-packages (from imblearn) (0.8.1)\n",
            "Requirement already satisfied: numpy>=1.13.3 in /usr/local/lib/python3.7/dist-packages (from imbalanced-learn->imblearn) (1.21.5)\n",
            "Requirement already satisfied: scipy>=0.19.1 in /usr/local/lib/python3.7/dist-packages (from imbalanced-learn->imblearn) (1.4.1)\n",
            "Requirement already satisfied: joblib>=0.11 in /usr/local/lib/python3.7/dist-packages (from imbalanced-learn->imblearn) (1.1.0)\n",
            "Requirement already satisfied: scikit-learn>=0.24 in /usr/local/lib/python3.7/dist-packages (from imbalanced-learn->imblearn) (1.0.2)\n",
            "Requirement already satisfied: threadpoolctl>=2.0.0 in /usr/local/lib/python3.7/dist-packages (from scikit-learn>=0.24->imbalanced-learn->imblearn) (3.1.0)\n"
          ]
        }
      ]
    },
    {
      "cell_type": "code",
      "source": [
        "# Importing SMOTE\n",
        "\n",
        "from imblearn.over_sampling import SMOTE\n",
        "SMOTE=SMOTE()"
      ],
      "metadata": {
        "id": "Uaro4U8NdlhU"
      },
      "execution_count": null,
      "outputs": []
    },
    {
      "cell_type": "markdown",
      "source": [
        "SMOTE is an over sampling techniques that deals with the minority class and create new synthetic samples from existing class."
      ],
      "metadata": {
        "id": "H1AijNe36bCk"
      }
    },
    {
      "cell_type": "code",
      "source": [
        "# fit and apply the transform\n",
        "X_train_SMOTE, y_train_SMOTE = SMOTE.fit_resample(X_train, y_train)"
      ],
      "metadata": {
        "id": "GedxsISo2RUO"
      },
      "execution_count": null,
      "outputs": []
    },
    {
      "cell_type": "code",
      "source": [
        "print(\"after SMOTE\")\n",
        "y_train_SMOTE.value_counts()"
      ],
      "metadata": {
        "colab": {
          "base_uri": "https://localhost:8080/"
        },
        "id": "hWTIa80N2Xmr",
        "outputId": "60e210d1-103b-4d8f-92bd-b8880f453fb8"
      },
      "execution_count": null,
      "outputs": [
        {
          "output_type": "stream",
          "name": "stdout",
          "text": [
            "after SMOTE\n"
          ]
        },
        {
          "output_type": "execute_result",
          "data": {
            "text/plain": [
              "1    67695\n",
              "0    67695\n",
              "Name: RainTomorrow, dtype: int64"
            ]
          },
          "metadata": {},
          "execution_count": 67
        }
      ]
    },
    {
      "cell_type": "markdown",
      "source": [
        "#Building accuracy models."
      ],
      "metadata": {
        "id": "qEb-cP4MfYMr"
      }
    },
    {
      "cell_type": "markdown",
      "source": [
        "LOGISTIC REGRESSION MODEL\n",
        "\n",
        "\n"
      ],
      "metadata": {
        "id": "Icqph_ia7TEl"
      }
    },
    {
      "cell_type": "code",
      "source": [
        "# LogisticRegression (when target variable having two possible outcomes(logical data))\n",
        "\n",
        "from sklearn.linear_model import LogisticRegression\n",
        "from sklearn.metrics import accuracy_score\n",
        "\n",
        "LR = LogisticRegression()\n",
        "LR.fit(X_train_SMOTE, y_train_SMOTE)\n",
        "pred_log = LR.predict(X_test)\n",
        "logistic_acc = accuracy_score(y_test, pred_log)*100\n",
        "print(\"Accuracy of Logistic Regression :\", logistic_acc)"
      ],
      "metadata": {
        "id": "wPhPr4GOByyK",
        "colab": {
          "base_uri": "https://localhost:8080/"
        },
        "outputId": "177412d0-6493-439b-d536-2983b67d1a08"
      },
      "execution_count": null,
      "outputs": [
        {
          "output_type": "stream",
          "name": "stdout",
          "text": [
            "Accuracy of Logistic Regression : 73.45674022579689\n"
          ]
        }
      ]
    },
    {
      "cell_type": "markdown",
      "source": [
        "K_NEAREST NEIGHBORS MODEL"
      ],
      "metadata": {
        "id": "X8dMeCoz7coi"
      }
    },
    {
      "cell_type": "code",
      "source": [
        "#KNN model()\n",
        "\n",
        "from sklearn.neighbors import KNeighborsClassifier\n",
        "\n",
        "#fit the model\n",
        "knn = KNeighborsClassifier()\n",
        "knn.fit(X_train_SMOTE, y_train_SMOTE)\n",
        "pred_k = knn.predict(X_test)\n",
        "knn_acc = accuracy_score(y_test, pred_k)*100\n",
        "print(\"Accuracy of KNN:\", knn_acc)"
      ],
      "metadata": {
        "id": "Z4Q_v8b4C-1c",
        "colab": {
          "base_uri": "https://localhost:8080/"
        },
        "outputId": "c05ac703-54c6-4356-95f1-a60daa4bd411"
      },
      "execution_count": null,
      "outputs": [
        {
          "output_type": "stream",
          "name": "stdout",
          "text": [
            "Accuracy of KNN: 71.40894026351953\n"
          ]
        }
      ]
    },
    {
      "cell_type": "markdown",
      "source": [
        "NAIVE BAYES MODEL"
      ],
      "metadata": {
        "id": "iW9Ajv3c7jt3"
      }
    },
    {
      "cell_type": "code",
      "source": [
        "# Naive bayes model (well in cases of categorical input variables compared to numerical variables &  suitable for binary and multiclass classification)\n",
        "\n",
        "from sklearn.naive_bayes import GaussianNB\n",
        "\n",
        "# Fit the model\n",
        "model=GaussianNB()\n",
        "gnb = model.fit(X_train_SMOTE, y_train_SMOTE)\n",
        "gnb_predict = gnb.predict(X_test)\n",
        "gnb_acc = accuracy_score(y_test, gnb_predict)*100\n",
        "print(\"Accuracy of GNB:\", gnb_acc)"
      ],
      "metadata": {
        "id": "YGd-IX93DPP7",
        "colab": {
          "base_uri": "https://localhost:8080/"
        },
        "outputId": "0eba261f-038a-4446-96ae-75f1c6283d7a"
      },
      "execution_count": null,
      "outputs": [
        {
          "output_type": "stream",
          "name": "stdout",
          "text": [
            "Accuracy of GNB: 77.02152884434025\n"
          ]
        }
      ]
    },
    {
      "cell_type": "markdown",
      "source": [
        "RANDOM FOREST MODEL"
      ],
      "metadata": {
        "id": "aELRx8aO7qFv"
      }
    },
    {
      "cell_type": "code",
      "source": [
        "# Random ForestClassifier  (large proportion of data.)\n",
        "\n",
        "from sklearn.ensemble import RandomForestClassifier\n",
        "\n",
        "#fitting model\n",
        "rfc = RandomForestClassifier(n_estimators = 40, max_depth = 6)\n",
        "rfc.fit(X_train_SMOTE, y_train_SMOTE)\n",
        "pred_rfc = rfc.predict(X_test)\n",
        "rfc_acc = accuracy_score(y_test, pred_rfc)*100\n",
        "print(\"Accuracy of RFC:\", rfc_acc)"
      ],
      "metadata": {
        "colab": {
          "base_uri": "https://localhost:8080/"
        },
        "id": "jIftHbH4ONcO",
        "outputId": "3ca97ea6-2635-42ed-91c5-1bd9e4339c74"
      },
      "execution_count": null,
      "outputs": [
        {
          "output_type": "stream",
          "name": "stdout",
          "text": [
            "Accuracy of RFC: 73.72618758925444\n"
          ]
        }
      ]
    },
    {
      "cell_type": "markdown",
      "source": [
        "# COMPARING ACCURACIES"
      ],
      "metadata": {
        "id": "ID-eI_acAtqP"
      }
    },
    {
      "cell_type": "code",
      "source": [
        "labels = [\"Logistic Regression\",\"KNN\",  \"Naive Bayes\", \"Random Forest\"]\n",
        "x = [logistic_acc, knn_acc, gnb_acc, rfc_acc]\n",
        "Eval_frame = pd.DataFrame()\n",
        "Eval_frame['Model'] = labels\n",
        "Eval_frame['train_test_split'] = x\n",
        "Eval_frame"
      ],
      "metadata": {
        "colab": {
          "base_uri": "https://localhost:8080/"
        },
        "id": "NeWB8KvxAoP2",
        "outputId": "642fd4a7-fd7a-4ded-cf3b-2de726afe395"
      },
      "execution_count": null,
      "outputs": [
        {
          "output_type": "execute_result",
          "data": {
            "text/plain": [
              "                 Model  train_test_split\n",
              "0  Logistic Regression         73.456740\n",
              "1                  KNN         71.408940\n",
              "2          Naive Bayes         77.021529\n",
              "3        Random Forest         73.405545"
            ],
            "text/html": [
              "\n",
              "  <div id=\"df-82021012-2f47-4207-8e39-2ee354be19c0\">\n",
              "    <div class=\"colab-df-container\">\n",
              "      <div>\n",
              "<style scoped>\n",
              "    .dataframe tbody tr th:only-of-type {\n",
              "        vertical-align: middle;\n",
              "    }\n",
              "\n",
              "    .dataframe tbody tr th {\n",
              "        vertical-align: top;\n",
              "    }\n",
              "\n",
              "    .dataframe thead th {\n",
              "        text-align: right;\n",
              "    }\n",
              "</style>\n",
              "<table border=\"1\" class=\"dataframe\">\n",
              "  <thead>\n",
              "    <tr style=\"text-align: right;\">\n",
              "      <th></th>\n",
              "      <th>Model</th>\n",
              "      <th>train_test_split</th>\n",
              "    </tr>\n",
              "  </thead>\n",
              "  <tbody>\n",
              "    <tr>\n",
              "      <th>0</th>\n",
              "      <td>Logistic Regression</td>\n",
              "      <td>73.456740</td>\n",
              "    </tr>\n",
              "    <tr>\n",
              "      <th>1</th>\n",
              "      <td>KNN</td>\n",
              "      <td>71.408940</td>\n",
              "    </tr>\n",
              "    <tr>\n",
              "      <th>2</th>\n",
              "      <td>Naive Bayes</td>\n",
              "      <td>77.021529</td>\n",
              "    </tr>\n",
              "    <tr>\n",
              "      <th>3</th>\n",
              "      <td>Random Forest</td>\n",
              "      <td>73.405545</td>\n",
              "    </tr>\n",
              "  </tbody>\n",
              "</table>\n",
              "</div>\n",
              "      <button class=\"colab-df-convert\" onclick=\"convertToInteractive('df-82021012-2f47-4207-8e39-2ee354be19c0')\"\n",
              "              title=\"Convert this dataframe to an interactive table.\"\n",
              "              style=\"display:none;\">\n",
              "        \n",
              "  <svg xmlns=\"http://www.w3.org/2000/svg\" height=\"24px\"viewBox=\"0 0 24 24\"\n",
              "       width=\"24px\">\n",
              "    <path d=\"M0 0h24v24H0V0z\" fill=\"none\"/>\n",
              "    <path d=\"M18.56 5.44l.94 2.06.94-2.06 2.06-.94-2.06-.94-.94-2.06-.94 2.06-2.06.94zm-11 1L8.5 8.5l.94-2.06 2.06-.94-2.06-.94L8.5 2.5l-.94 2.06-2.06.94zm10 10l.94 2.06.94-2.06 2.06-.94-2.06-.94-.94-2.06-.94 2.06-2.06.94z\"/><path d=\"M17.41 7.96l-1.37-1.37c-.4-.4-.92-.59-1.43-.59-.52 0-1.04.2-1.43.59L10.3 9.45l-7.72 7.72c-.78.78-.78 2.05 0 2.83L4 21.41c.39.39.9.59 1.41.59.51 0 1.02-.2 1.41-.59l7.78-7.78 2.81-2.81c.8-.78.8-2.07 0-2.86zM5.41 20L4 18.59l7.72-7.72 1.47 1.35L5.41 20z\"/>\n",
              "  </svg>\n",
              "      </button>\n",
              "      \n",
              "  <style>\n",
              "    .colab-df-container {\n",
              "      display:flex;\n",
              "      flex-wrap:wrap;\n",
              "      gap: 12px;\n",
              "    }\n",
              "\n",
              "    .colab-df-convert {\n",
              "      background-color: #E8F0FE;\n",
              "      border: none;\n",
              "      border-radius: 50%;\n",
              "      cursor: pointer;\n",
              "      display: none;\n",
              "      fill: #1967D2;\n",
              "      height: 32px;\n",
              "      padding: 0 0 0 0;\n",
              "      width: 32px;\n",
              "    }\n",
              "\n",
              "    .colab-df-convert:hover {\n",
              "      background-color: #E2EBFA;\n",
              "      box-shadow: 0px 1px 2px rgba(60, 64, 67, 0.3), 0px 1px 3px 1px rgba(60, 64, 67, 0.15);\n",
              "      fill: #174EA6;\n",
              "    }\n",
              "\n",
              "    [theme=dark] .colab-df-convert {\n",
              "      background-color: #3B4455;\n",
              "      fill: #D2E3FC;\n",
              "    }\n",
              "\n",
              "    [theme=dark] .colab-df-convert:hover {\n",
              "      background-color: #434B5C;\n",
              "      box-shadow: 0px 1px 3px 1px rgba(0, 0, 0, 0.15);\n",
              "      filter: drop-shadow(0px 1px 2px rgba(0, 0, 0, 0.3));\n",
              "      fill: #FFFFFF;\n",
              "    }\n",
              "  </style>\n",
              "\n",
              "      <script>\n",
              "        const buttonEl =\n",
              "          document.querySelector('#df-82021012-2f47-4207-8e39-2ee354be19c0 button.colab-df-convert');\n",
              "        buttonEl.style.display =\n",
              "          google.colab.kernel.accessAllowed ? 'block' : 'none';\n",
              "\n",
              "        async function convertToInteractive(key) {\n",
              "          const element = document.querySelector('#df-82021012-2f47-4207-8e39-2ee354be19c0');\n",
              "          const dataTable =\n",
              "            await google.colab.kernel.invokeFunction('convertToInteractive',\n",
              "                                                     [key], {});\n",
              "          if (!dataTable) return;\n",
              "\n",
              "          const docLinkHtml = 'Like what you see? Visit the ' +\n",
              "            '<a target=\"_blank\" href=https://colab.research.google.com/notebooks/data_table.ipynb>data table notebook</a>'\n",
              "            + ' to learn more about interactive tables.';\n",
              "          element.innerHTML = '';\n",
              "          dataTable['output_type'] = 'display_data';\n",
              "          await google.colab.output.renderOutput(dataTable, element);\n",
              "          const docLink = document.createElement('div');\n",
              "          docLink.innerHTML = docLinkHtml;\n",
              "          element.appendChild(docLink);\n",
              "        }\n",
              "      </script>\n",
              "    </div>\n",
              "  </div>\n",
              "  "
            ]
          },
          "metadata": {},
          "execution_count": 92
        }
      ]
    },
    {
      "cell_type": "markdown",
      "source": [
        "#K-FOLD CROSS VALIDATION"
      ],
      "metadata": {
        "id": "I-utt0w1BYtg"
      }
    },
    {
      "cell_type": "code",
      "source": [
        "from sklearn.model_selection import KFold"
      ],
      "metadata": {
        "id": "gkGqElutBVY1"
      },
      "execution_count": null,
      "outputs": []
    },
    {
      "cell_type": "code",
      "source": [
        "kfold = KFold(n_splits = 5)"
      ],
      "metadata": {
        "id": "165ZtUHfBpmX"
      },
      "execution_count": null,
      "outputs": []
    },
    {
      "cell_type": "code",
      "source": [
        "#Modeling step test differents algorithms\n",
        "\n",
        "classifiers1 = []\n",
        "\n",
        "classifiers1.append(KNeighborsClassifier())\n",
        "classifiers1.append(LogisticRegression())\n",
        "classifiers1.append(GaussianNB())\n",
        "classifiers1.append(RandomForestClassifier())"
      ],
      "metadata": {
        "id": "1WhdiYMaBs-D"
      },
      "execution_count": null,
      "outputs": []
    },
    {
      "cell_type": "code",
      "source": [
        "from sklearn.model_selection import cross_val_score"
      ],
      "metadata": {
        "id": "lQlqaicwCDV4"
      },
      "execution_count": null,
      "outputs": []
    },
    {
      "cell_type": "code",
      "source": [
        "accuracy_results1 = []\n",
        "for a in classifiers1:\n",
        "  accuracy_results1.append(cross_val_score(a, X_train_SMOTE, y_train_SMOTE, scoring = \"accuracy\", cv = kfold))#Here d is 1st model knn"
      ],
      "metadata": {
        "id": "olNi4ScbCLpB"
      },
      "execution_count": null,
      "outputs": []
    },
    {
      "cell_type": "code",
      "source": [
        "#Kfolds corresponding to models\n",
        "accuracy_results1"
      ],
      "metadata": {
        "colab": {
          "base_uri": "https://localhost:8080/"
        },
        "id": "hDbeLKfOCL8t",
        "outputId": "d87e37a1-d3de-46f6-e151-067e039ec0af"
      },
      "execution_count": null,
      "outputs": [
        {
          "output_type": "execute_result",
          "data": {
            "text/plain": [
              "[array([0.72948519, 0.72841421, 0.72926361, 0.90427653, 0.9100746 ]),\n",
              " array([0.68731073, 0.68369156, 0.6827683 , 0.67069207, 0.59716375]),\n",
              " array([0.75068321, 0.74953837, 0.74831967, 0.62696654, 0.55569097]),\n",
              " array([0.85364503, 0.84976734, 0.84799468, 0.96048453, 0.9839353 ])]"
            ]
          },
          "metadata": {},
          "execution_count": 78
        }
      ]
    },
    {
      "cell_type": "code",
      "source": [
        "accuracy_means1 = []\n",
        "for e in accuracy_results1:\n",
        "  accuracy_means1.append(e.mean()*100)"
      ],
      "metadata": {
        "id": "SdN3o5wQCgBT"
      },
      "execution_count": null,
      "outputs": []
    },
    {
      "cell_type": "code",
      "source": [
        "accuracy_means1"
      ],
      "metadata": {
        "colab": {
          "base_uri": "https://localhost:8080/"
        },
        "id": "2_Fz3VA2CpJV",
        "outputId": "8a68f8d0-2f20-4674-981d-1d5f01a5a60d"
      },
      "execution_count": null,
      "outputs": [
        {
          "output_type": "execute_result",
          "data": {
            "text/plain": [
              "[80.03028288647612, 66.43252825171724, 68.62397518280522, 89.9165374104439]"
            ]
          },
          "metadata": {},
          "execution_count": 80
        }
      ]
    },
    {
      "cell_type": "code",
      "source": [
        "Eval_frame['kfolds_5'] = accuracy_means1\n",
        "Eval_frame"
      ],
      "metadata": {
        "colab": {
          "base_uri": "https://localhost:8080/"
        },
        "id": "WyKzy5K9CqsF",
        "outputId": "b909f775-d08e-4430-8380-f4766e4a00c7"
      },
      "execution_count": null,
      "outputs": [
        {
          "output_type": "execute_result",
          "data": {
            "text/plain": [
              "                 Model  train_test_split   kfolds_5\n",
              "0  Logistic Regression         73.456740  80.030283\n",
              "1                  KNN         71.408940  66.432528\n",
              "2          Naive Bayes         77.021529  68.623975\n",
              "3        Random Forest         73.405545  89.916537"
            ],
            "text/html": [
              "\n",
              "  <div id=\"df-b08a986c-c597-48ad-8179-fe605212964b\">\n",
              "    <div class=\"colab-df-container\">\n",
              "      <div>\n",
              "<style scoped>\n",
              "    .dataframe tbody tr th:only-of-type {\n",
              "        vertical-align: middle;\n",
              "    }\n",
              "\n",
              "    .dataframe tbody tr th {\n",
              "        vertical-align: top;\n",
              "    }\n",
              "\n",
              "    .dataframe thead th {\n",
              "        text-align: right;\n",
              "    }\n",
              "</style>\n",
              "<table border=\"1\" class=\"dataframe\">\n",
              "  <thead>\n",
              "    <tr style=\"text-align: right;\">\n",
              "      <th></th>\n",
              "      <th>Model</th>\n",
              "      <th>train_test_split</th>\n",
              "      <th>kfolds_5</th>\n",
              "    </tr>\n",
              "  </thead>\n",
              "  <tbody>\n",
              "    <tr>\n",
              "      <th>0</th>\n",
              "      <td>Logistic Regression</td>\n",
              "      <td>73.456740</td>\n",
              "      <td>80.030283</td>\n",
              "    </tr>\n",
              "    <tr>\n",
              "      <th>1</th>\n",
              "      <td>KNN</td>\n",
              "      <td>71.408940</td>\n",
              "      <td>66.432528</td>\n",
              "    </tr>\n",
              "    <tr>\n",
              "      <th>2</th>\n",
              "      <td>Naive Bayes</td>\n",
              "      <td>77.021529</td>\n",
              "      <td>68.623975</td>\n",
              "    </tr>\n",
              "    <tr>\n",
              "      <th>3</th>\n",
              "      <td>Random Forest</td>\n",
              "      <td>73.405545</td>\n",
              "      <td>89.916537</td>\n",
              "    </tr>\n",
              "  </tbody>\n",
              "</table>\n",
              "</div>\n",
              "      <button class=\"colab-df-convert\" onclick=\"convertToInteractive('df-b08a986c-c597-48ad-8179-fe605212964b')\"\n",
              "              title=\"Convert this dataframe to an interactive table.\"\n",
              "              style=\"display:none;\">\n",
              "        \n",
              "  <svg xmlns=\"http://www.w3.org/2000/svg\" height=\"24px\"viewBox=\"0 0 24 24\"\n",
              "       width=\"24px\">\n",
              "    <path d=\"M0 0h24v24H0V0z\" fill=\"none\"/>\n",
              "    <path d=\"M18.56 5.44l.94 2.06.94-2.06 2.06-.94-2.06-.94-.94-2.06-.94 2.06-2.06.94zm-11 1L8.5 8.5l.94-2.06 2.06-.94-2.06-.94L8.5 2.5l-.94 2.06-2.06.94zm10 10l.94 2.06.94-2.06 2.06-.94-2.06-.94-.94-2.06-.94 2.06-2.06.94z\"/><path d=\"M17.41 7.96l-1.37-1.37c-.4-.4-.92-.59-1.43-.59-.52 0-1.04.2-1.43.59L10.3 9.45l-7.72 7.72c-.78.78-.78 2.05 0 2.83L4 21.41c.39.39.9.59 1.41.59.51 0 1.02-.2 1.41-.59l7.78-7.78 2.81-2.81c.8-.78.8-2.07 0-2.86zM5.41 20L4 18.59l7.72-7.72 1.47 1.35L5.41 20z\"/>\n",
              "  </svg>\n",
              "      </button>\n",
              "      \n",
              "  <style>\n",
              "    .colab-df-container {\n",
              "      display:flex;\n",
              "      flex-wrap:wrap;\n",
              "      gap: 12px;\n",
              "    }\n",
              "\n",
              "    .colab-df-convert {\n",
              "      background-color: #E8F0FE;\n",
              "      border: none;\n",
              "      border-radius: 50%;\n",
              "      cursor: pointer;\n",
              "      display: none;\n",
              "      fill: #1967D2;\n",
              "      height: 32px;\n",
              "      padding: 0 0 0 0;\n",
              "      width: 32px;\n",
              "    }\n",
              "\n",
              "    .colab-df-convert:hover {\n",
              "      background-color: #E2EBFA;\n",
              "      box-shadow: 0px 1px 2px rgba(60, 64, 67, 0.3), 0px 1px 3px 1px rgba(60, 64, 67, 0.15);\n",
              "      fill: #174EA6;\n",
              "    }\n",
              "\n",
              "    [theme=dark] .colab-df-convert {\n",
              "      background-color: #3B4455;\n",
              "      fill: #D2E3FC;\n",
              "    }\n",
              "\n",
              "    [theme=dark] .colab-df-convert:hover {\n",
              "      background-color: #434B5C;\n",
              "      box-shadow: 0px 1px 3px 1px rgba(0, 0, 0, 0.15);\n",
              "      filter: drop-shadow(0px 1px 2px rgba(0, 0, 0, 0.3));\n",
              "      fill: #FFFFFF;\n",
              "    }\n",
              "  </style>\n",
              "\n",
              "      <script>\n",
              "        const buttonEl =\n",
              "          document.querySelector('#df-b08a986c-c597-48ad-8179-fe605212964b button.colab-df-convert');\n",
              "        buttonEl.style.display =\n",
              "          google.colab.kernel.accessAllowed ? 'block' : 'none';\n",
              "\n",
              "        async function convertToInteractive(key) {\n",
              "          const element = document.querySelector('#df-b08a986c-c597-48ad-8179-fe605212964b');\n",
              "          const dataTable =\n",
              "            await google.colab.kernel.invokeFunction('convertToInteractive',\n",
              "                                                     [key], {});\n",
              "          if (!dataTable) return;\n",
              "\n",
              "          const docLinkHtml = 'Like what you see? Visit the ' +\n",
              "            '<a target=\"_blank\" href=https://colab.research.google.com/notebooks/data_table.ipynb>data table notebook</a>'\n",
              "            + ' to learn more about interactive tables.';\n",
              "          element.innerHTML = '';\n",
              "          dataTable['output_type'] = 'display_data';\n",
              "          await google.colab.output.renderOutput(dataTable, element);\n",
              "          const docLink = document.createElement('div');\n",
              "          docLink.innerHTML = docLinkHtml;\n",
              "          element.appendChild(docLink);\n",
              "        }\n",
              "      </script>\n",
              "    </div>\n",
              "  </div>\n",
              "  "
            ]
          },
          "metadata": {},
          "execution_count": 81
        }
      ]
    },
    {
      "cell_type": "markdown",
      "source": [
        "#STRATIFIED K FOLD"
      ],
      "metadata": {
        "id": "1rinYV2yC6Fx"
      }
    },
    {
      "cell_type": "code",
      "source": [
        "from sklearn.model_selection import StratifiedKFold"
      ],
      "metadata": {
        "id": "sLpQ1H6KC7Vd"
      },
      "execution_count": null,
      "outputs": []
    },
    {
      "cell_type": "code",
      "source": [
        "Stratifiedkfold = StratifiedKFold(n_splits = 5)"
      ],
      "metadata": {
        "id": "GRRjav4nC_Lv"
      },
      "execution_count": null,
      "outputs": []
    },
    {
      "cell_type": "code",
      "source": [
        "# Modeling step Test differents algorithms \n",
        "classifiers_4 = []\n",
        "classifiers_4.append(KNeighborsClassifier())\n",
        "classifiers_4.append(LogisticRegression())\n",
        "classifiers_4.append(GaussianNB())\n",
        "classifiers_4.append(RandomForestClassifier())\n",
        "accuracy_results_4 = []\n",
        "for classifier in classifiers_4 :\n",
        "    accuracy_results_4.append(cross_val_score(classifier, X_train_SMOTE,y_train_SMOTE, scoring = \"accuracy\", cv = Stratifiedkfold))\n",
        "accuracy_means_4 = []\n",
        "for accuracy_result in accuracy_results_4:\n",
        "    accuracy_means_4.append(accuracy_result.mean()*100)\n",
        "accuracy_means_4\n",
        "Eval_frame['Stratifiedkfold_5']=accuracy_means_4\n",
        "Eval_frame"
      ],
      "metadata": {
        "colab": {
          "base_uri": "https://localhost:8080/",
          "height": 174
        },
        "id": "Rh7woapCDCiq",
        "outputId": "26832509-7f67-4f84-9bfd-68bf0533a0a8"
      },
      "execution_count": null,
      "outputs": [
        {
          "output_type": "execute_result",
          "data": {
            "text/plain": [
              "                 Model  train_test_split   kfolds_5  Stratifiedkfold_5\n",
              "0  Logistic Regression         73.456740  80.030283          83.637639\n",
              "1                  KNN         71.408940  66.432528          73.642810\n",
              "2          Naive Bayes         77.021529  68.623975          72.272694\n",
              "3        Random Forest         73.405545  89.916537          89.452692"
            ],
            "text/html": [
              "\n",
              "  <div id=\"df-a39bca1a-84f1-4a62-bb60-778540cbf453\">\n",
              "    <div class=\"colab-df-container\">\n",
              "      <div>\n",
              "<style scoped>\n",
              "    .dataframe tbody tr th:only-of-type {\n",
              "        vertical-align: middle;\n",
              "    }\n",
              "\n",
              "    .dataframe tbody tr th {\n",
              "        vertical-align: top;\n",
              "    }\n",
              "\n",
              "    .dataframe thead th {\n",
              "        text-align: right;\n",
              "    }\n",
              "</style>\n",
              "<table border=\"1\" class=\"dataframe\">\n",
              "  <thead>\n",
              "    <tr style=\"text-align: right;\">\n",
              "      <th></th>\n",
              "      <th>Model</th>\n",
              "      <th>train_test_split</th>\n",
              "      <th>kfolds_5</th>\n",
              "      <th>Stratifiedkfold_5</th>\n",
              "    </tr>\n",
              "  </thead>\n",
              "  <tbody>\n",
              "    <tr>\n",
              "      <th>0</th>\n",
              "      <td>Logistic Regression</td>\n",
              "      <td>73.456740</td>\n",
              "      <td>80.030283</td>\n",
              "      <td>83.637639</td>\n",
              "    </tr>\n",
              "    <tr>\n",
              "      <th>1</th>\n",
              "      <td>KNN</td>\n",
              "      <td>71.408940</td>\n",
              "      <td>66.432528</td>\n",
              "      <td>73.642810</td>\n",
              "    </tr>\n",
              "    <tr>\n",
              "      <th>2</th>\n",
              "      <td>Naive Bayes</td>\n",
              "      <td>77.021529</td>\n",
              "      <td>68.623975</td>\n",
              "      <td>72.272694</td>\n",
              "    </tr>\n",
              "    <tr>\n",
              "      <th>3</th>\n",
              "      <td>Random Forest</td>\n",
              "      <td>73.405545</td>\n",
              "      <td>89.916537</td>\n",
              "      <td>89.452692</td>\n",
              "    </tr>\n",
              "  </tbody>\n",
              "</table>\n",
              "</div>\n",
              "      <button class=\"colab-df-convert\" onclick=\"convertToInteractive('df-a39bca1a-84f1-4a62-bb60-778540cbf453')\"\n",
              "              title=\"Convert this dataframe to an interactive table.\"\n",
              "              style=\"display:none;\">\n",
              "        \n",
              "  <svg xmlns=\"http://www.w3.org/2000/svg\" height=\"24px\"viewBox=\"0 0 24 24\"\n",
              "       width=\"24px\">\n",
              "    <path d=\"M0 0h24v24H0V0z\" fill=\"none\"/>\n",
              "    <path d=\"M18.56 5.44l.94 2.06.94-2.06 2.06-.94-2.06-.94-.94-2.06-.94 2.06-2.06.94zm-11 1L8.5 8.5l.94-2.06 2.06-.94-2.06-.94L8.5 2.5l-.94 2.06-2.06.94zm10 10l.94 2.06.94-2.06 2.06-.94-2.06-.94-.94-2.06-.94 2.06-2.06.94z\"/><path d=\"M17.41 7.96l-1.37-1.37c-.4-.4-.92-.59-1.43-.59-.52 0-1.04.2-1.43.59L10.3 9.45l-7.72 7.72c-.78.78-.78 2.05 0 2.83L4 21.41c.39.39.9.59 1.41.59.51 0 1.02-.2 1.41-.59l7.78-7.78 2.81-2.81c.8-.78.8-2.07 0-2.86zM5.41 20L4 18.59l7.72-7.72 1.47 1.35L5.41 20z\"/>\n",
              "  </svg>\n",
              "      </button>\n",
              "      \n",
              "  <style>\n",
              "    .colab-df-container {\n",
              "      display:flex;\n",
              "      flex-wrap:wrap;\n",
              "      gap: 12px;\n",
              "    }\n",
              "\n",
              "    .colab-df-convert {\n",
              "      background-color: #E8F0FE;\n",
              "      border: none;\n",
              "      border-radius: 50%;\n",
              "      cursor: pointer;\n",
              "      display: none;\n",
              "      fill: #1967D2;\n",
              "      height: 32px;\n",
              "      padding: 0 0 0 0;\n",
              "      width: 32px;\n",
              "    }\n",
              "\n",
              "    .colab-df-convert:hover {\n",
              "      background-color: #E2EBFA;\n",
              "      box-shadow: 0px 1px 2px rgba(60, 64, 67, 0.3), 0px 1px 3px 1px rgba(60, 64, 67, 0.15);\n",
              "      fill: #174EA6;\n",
              "    }\n",
              "\n",
              "    [theme=dark] .colab-df-convert {\n",
              "      background-color: #3B4455;\n",
              "      fill: #D2E3FC;\n",
              "    }\n",
              "\n",
              "    [theme=dark] .colab-df-convert:hover {\n",
              "      background-color: #434B5C;\n",
              "      box-shadow: 0px 1px 3px 1px rgba(0, 0, 0, 0.15);\n",
              "      filter: drop-shadow(0px 1px 2px rgba(0, 0, 0, 0.3));\n",
              "      fill: #FFFFFF;\n",
              "    }\n",
              "  </style>\n",
              "\n",
              "      <script>\n",
              "        const buttonEl =\n",
              "          document.querySelector('#df-a39bca1a-84f1-4a62-bb60-778540cbf453 button.colab-df-convert');\n",
              "        buttonEl.style.display =\n",
              "          google.colab.kernel.accessAllowed ? 'block' : 'none';\n",
              "\n",
              "        async function convertToInteractive(key) {\n",
              "          const element = document.querySelector('#df-a39bca1a-84f1-4a62-bb60-778540cbf453');\n",
              "          const dataTable =\n",
              "            await google.colab.kernel.invokeFunction('convertToInteractive',\n",
              "                                                     [key], {});\n",
              "          if (!dataTable) return;\n",
              "\n",
              "          const docLinkHtml = 'Like what you see? Visit the ' +\n",
              "            '<a target=\"_blank\" href=https://colab.research.google.com/notebooks/data_table.ipynb>data table notebook</a>'\n",
              "            + ' to learn more about interactive tables.';\n",
              "          element.innerHTML = '';\n",
              "          dataTable['output_type'] = 'display_data';\n",
              "          await google.colab.output.renderOutput(dataTable, element);\n",
              "          const docLink = document.createElement('div');\n",
              "          docLink.innerHTML = docLinkHtml;\n",
              "          element.appendChild(docLink);\n",
              "        }\n",
              "      </script>\n",
              "    </div>\n",
              "  </div>\n",
              "  "
            ]
          },
          "metadata": {},
          "execution_count": 84
        }
      ]
    },
    {
      "cell_type": "markdown",
      "source": [
        "#Repeated Random Train-Test Splits"
      ],
      "metadata": {
        "id": "RiJRcwHvBtpU"
      }
    },
    {
      "cell_type": "code",
      "source": [
        "from sklearn.model_selection import ShuffleSplit #randomly sample entire dataset during each iteration to generate training nd test set"
      ],
      "metadata": {
        "id": "La566R39D-3W"
      },
      "execution_count": null,
      "outputs": []
    },
    {
      "cell_type": "code",
      "source": [
        "kfold = ShuffleSplit(n_splits=5,test_size=0.3)\n",
        "# Modeling step Test differents algorithms \n",
        "classifiers_2 = []\n",
        "classifiers_2.append(KNeighborsClassifier())\n",
        "classifiers_2.append(LogisticRegression())\n",
        "classifiers_2.append(GaussianNB())\n",
        "classifiers_2.append(RandomForestClassifier())\n",
        "accuracy_results_2 = []\n",
        "for classifier in classifiers_2:\n",
        "    accuracy_results_2.append(cross_val_score(classifier, X_train_SMOTE,y_train_SMOTE, scoring = \"accuracy\", cv = kfold))\n",
        "accuracy_means_2 = []\n",
        "for accuracy_result in accuracy_results_2:\n",
        "    accuracy_means_2.append(accuracy_result.mean()*100)\n",
        "accuracy_means_2\n",
        "Eval_frame['RRTestTrainSplits_5']=accuracy_means_2\n",
        "Eval_frame.round(2)"
      ],
      "metadata": {
        "id": "RHODI1xeEDcT",
        "colab": {
          "base_uri": "https://localhost:8080/",
          "height": 174
        },
        "outputId": "b742b4b6-00d6-4e77-f8b6-92f1e35d53a4"
      },
      "execution_count": null,
      "outputs": [
        {
          "output_type": "execute_result",
          "data": {
            "text/plain": [
              "                 Model  train_test_split  kfolds_5  Stratifiedkfold_5  \\\n",
              "0  Logistic Regression             73.46     80.03              83.64   \n",
              "1                  KNN             71.41     66.43              73.64   \n",
              "2          Naive Bayes             77.02     68.62              72.27   \n",
              "3        Random Forest             73.41     89.92              89.45   \n",
              "\n",
              "   RRTestTrainSplits_5  \n",
              "0                82.72  \n",
              "1                73.60  \n",
              "2                72.16  \n",
              "3                89.75  "
            ],
            "text/html": [
              "\n",
              "  <div id=\"df-5c89330a-9a9c-4c9f-8c7a-fd2f3b7288ce\">\n",
              "    <div class=\"colab-df-container\">\n",
              "      <div>\n",
              "<style scoped>\n",
              "    .dataframe tbody tr th:only-of-type {\n",
              "        vertical-align: middle;\n",
              "    }\n",
              "\n",
              "    .dataframe tbody tr th {\n",
              "        vertical-align: top;\n",
              "    }\n",
              "\n",
              "    .dataframe thead th {\n",
              "        text-align: right;\n",
              "    }\n",
              "</style>\n",
              "<table border=\"1\" class=\"dataframe\">\n",
              "  <thead>\n",
              "    <tr style=\"text-align: right;\">\n",
              "      <th></th>\n",
              "      <th>Model</th>\n",
              "      <th>train_test_split</th>\n",
              "      <th>kfolds_5</th>\n",
              "      <th>Stratifiedkfold_5</th>\n",
              "      <th>RRTestTrainSplits_5</th>\n",
              "    </tr>\n",
              "  </thead>\n",
              "  <tbody>\n",
              "    <tr>\n",
              "      <th>0</th>\n",
              "      <td>Logistic Regression</td>\n",
              "      <td>73.46</td>\n",
              "      <td>80.03</td>\n",
              "      <td>83.64</td>\n",
              "      <td>82.72</td>\n",
              "    </tr>\n",
              "    <tr>\n",
              "      <th>1</th>\n",
              "      <td>KNN</td>\n",
              "      <td>71.41</td>\n",
              "      <td>66.43</td>\n",
              "      <td>73.64</td>\n",
              "      <td>73.60</td>\n",
              "    </tr>\n",
              "    <tr>\n",
              "      <th>2</th>\n",
              "      <td>Naive Bayes</td>\n",
              "      <td>77.02</td>\n",
              "      <td>68.62</td>\n",
              "      <td>72.27</td>\n",
              "      <td>72.16</td>\n",
              "    </tr>\n",
              "    <tr>\n",
              "      <th>3</th>\n",
              "      <td>Random Forest</td>\n",
              "      <td>73.41</td>\n",
              "      <td>89.92</td>\n",
              "      <td>89.45</td>\n",
              "      <td>89.75</td>\n",
              "    </tr>\n",
              "  </tbody>\n",
              "</table>\n",
              "</div>\n",
              "      <button class=\"colab-df-convert\" onclick=\"convertToInteractive('df-5c89330a-9a9c-4c9f-8c7a-fd2f3b7288ce')\"\n",
              "              title=\"Convert this dataframe to an interactive table.\"\n",
              "              style=\"display:none;\">\n",
              "        \n",
              "  <svg xmlns=\"http://www.w3.org/2000/svg\" height=\"24px\"viewBox=\"0 0 24 24\"\n",
              "       width=\"24px\">\n",
              "    <path d=\"M0 0h24v24H0V0z\" fill=\"none\"/>\n",
              "    <path d=\"M18.56 5.44l.94 2.06.94-2.06 2.06-.94-2.06-.94-.94-2.06-.94 2.06-2.06.94zm-11 1L8.5 8.5l.94-2.06 2.06-.94-2.06-.94L8.5 2.5l-.94 2.06-2.06.94zm10 10l.94 2.06.94-2.06 2.06-.94-2.06-.94-.94-2.06-.94 2.06-2.06.94z\"/><path d=\"M17.41 7.96l-1.37-1.37c-.4-.4-.92-.59-1.43-.59-.52 0-1.04.2-1.43.59L10.3 9.45l-7.72 7.72c-.78.78-.78 2.05 0 2.83L4 21.41c.39.39.9.59 1.41.59.51 0 1.02-.2 1.41-.59l7.78-7.78 2.81-2.81c.8-.78.8-2.07 0-2.86zM5.41 20L4 18.59l7.72-7.72 1.47 1.35L5.41 20z\"/>\n",
              "  </svg>\n",
              "      </button>\n",
              "      \n",
              "  <style>\n",
              "    .colab-df-container {\n",
              "      display:flex;\n",
              "      flex-wrap:wrap;\n",
              "      gap: 12px;\n",
              "    }\n",
              "\n",
              "    .colab-df-convert {\n",
              "      background-color: #E8F0FE;\n",
              "      border: none;\n",
              "      border-radius: 50%;\n",
              "      cursor: pointer;\n",
              "      display: none;\n",
              "      fill: #1967D2;\n",
              "      height: 32px;\n",
              "      padding: 0 0 0 0;\n",
              "      width: 32px;\n",
              "    }\n",
              "\n",
              "    .colab-df-convert:hover {\n",
              "      background-color: #E2EBFA;\n",
              "      box-shadow: 0px 1px 2px rgba(60, 64, 67, 0.3), 0px 1px 3px 1px rgba(60, 64, 67, 0.15);\n",
              "      fill: #174EA6;\n",
              "    }\n",
              "\n",
              "    [theme=dark] .colab-df-convert {\n",
              "      background-color: #3B4455;\n",
              "      fill: #D2E3FC;\n",
              "    }\n",
              "\n",
              "    [theme=dark] .colab-df-convert:hover {\n",
              "      background-color: #434B5C;\n",
              "      box-shadow: 0px 1px 3px 1px rgba(0, 0, 0, 0.15);\n",
              "      filter: drop-shadow(0px 1px 2px rgba(0, 0, 0, 0.3));\n",
              "      fill: #FFFFFF;\n",
              "    }\n",
              "  </style>\n",
              "\n",
              "      <script>\n",
              "        const buttonEl =\n",
              "          document.querySelector('#df-5c89330a-9a9c-4c9f-8c7a-fd2f3b7288ce button.colab-df-convert');\n",
              "        buttonEl.style.display =\n",
              "          google.colab.kernel.accessAllowed ? 'block' : 'none';\n",
              "\n",
              "        async function convertToInteractive(key) {\n",
              "          const element = document.querySelector('#df-5c89330a-9a9c-4c9f-8c7a-fd2f3b7288ce');\n",
              "          const dataTable =\n",
              "            await google.colab.kernel.invokeFunction('convertToInteractive',\n",
              "                                                     [key], {});\n",
              "          if (!dataTable) return;\n",
              "\n",
              "          const docLinkHtml = 'Like what you see? Visit the ' +\n",
              "            '<a target=\"_blank\" href=https://colab.research.google.com/notebooks/data_table.ipynb>data table notebook</a>'\n",
              "            + ' to learn more about interactive tables.';\n",
              "          element.innerHTML = '';\n",
              "          dataTable['output_type'] = 'display_data';\n",
              "          await google.colab.output.renderOutput(dataTable, element);\n",
              "          const docLink = document.createElement('div');\n",
              "          docLink.innerHTML = docLinkHtml;\n",
              "          element.appendChild(docLink);\n",
              "        }\n",
              "      </script>\n",
              "    </div>\n",
              "  </div>\n",
              "  "
            ]
          },
          "metadata": {},
          "execution_count": 86
        }
      ]
    },
    {
      "cell_type": "markdown",
      "source": [
        "#Evaluation table to excel"
      ],
      "metadata": {
        "id": "FmMxIqTDGO5g"
      }
    },
    {
      "cell_type": "code",
      "source": [
        "Eval_frame.to_csv(\"Evaluating Accuracies.csv\")"
      ],
      "metadata": {
        "id": "Gma39AZ_Fh-y"
      },
      "execution_count": null,
      "outputs": []
    },
    {
      "cell_type": "markdown",
      "source": [
        "By cross validation we get to know that Random Forest's scores highest accuracy in each method. So RFC is our Optimal model."
      ],
      "metadata": {
        "id": "jOKacWXi70hI"
      }
    },
    {
      "cell_type": "markdown",
      "source": [
        "#CONFUSION MATRIX CORRESPONDING TO RANDOM FOREST CLASSIFIER(OPTIMAL MODEL)."
      ],
      "metadata": {
        "id": "Uy5aSANzEe0G"
      }
    },
    {
      "cell_type": "code",
      "source": [
        "from sklearn.metrics import confusion_matrix\n",
        "C_MATRIX = confusion_matrix(y_test, pred_rfc)\n",
        "C_MATRIX"
      ],
      "metadata": {
        "id": "9pN18fyfEVnY",
        "colab": {
          "base_uri": "https://localhost:8080/"
        },
        "outputId": "ec2069cc-6362-4b69-f327-2a37968f6dc5"
      },
      "execution_count": null,
      "outputs": [
        {
          "output_type": "execute_result",
          "data": {
            "text/plain": [
              "array([[21386,  7710],\n",
              "       [ 2160,  5857]])"
            ]
          },
          "metadata": {},
          "execution_count": 88
        }
      ]
    },
    {
      "cell_type": "code",
      "source": [
        "#Plotting confusion matrix\n",
        "\n",
        "ax = sns.heatmap(C_MATRIX/np.sum(C_MATRIX), annot=True, fmt='.2%', cmap='Blues')\n",
        "ax.set_title('Confusion Matrix corresponding to Random Forest Classifier algorithm \\n');\n",
        "ax.set_xlabel('Predicted Values')\n",
        "ax.set_ylabel('Actual Values');\n",
        "\n",
        "## Display the visualization of the Confusion Matrix.\n",
        "\n",
        "plt.savefig(\"cf_matrix_RFC.png\",bbox_inches='tight' )\n",
        "plt.show()\n",
        "print(\"Confusion matrix of Random Forest :\", rfc_acc)"
      ],
      "metadata": {
        "colab": {
          "base_uri": "https://localhost:8080/",
          "height": 327
        },
        "id": "FyUNTELeyQKh",
        "outputId": "9f58bef9-8f76-4c6c-e84c-f7b83b781fb4"
      },
      "execution_count": null,
      "outputs": [
        {
          "output_type": "display_data",
          "data": {
            "text/plain": [
              "<Figure size 432x288 with 2 Axes>"
            ],
            "image/png": "[encoded data removed]"
          },
          "metadata": {
            "needs_background": "light"
          }
        },
        {
          "output_type": "stream",
          "name": "stdout",
          "text": [
            "Confusion matrix of Random Forest : 73.40554522673996\n"
          ]
        }
      ]
    },
    {
      "cell_type": "markdown",
      "source": [
        "The above confusion matrix shows that corresponding to 0 there are 58.44% of total proportion are correct predictions and corresponding to 1 there are 15.99% of total proportion are correction predictions because here when our predicted value is 0 then actual values is also 0 and when predicted values is 1 actual is also 1."
      ],
      "metadata": {
        "id": "5HZdHSdX3joQ"
      }
    },
    {
      "cell_type": "markdown",
      "source": [
        "#ROC CURVE"
      ],
      "metadata": {
        "id": "oKYkzezZCRip"
      }
    },
    {
      "cell_type": "code",
      "source": [
        "from sklearn import metrics #(AUC = how much the model is capable of distinguishing between classes.)\n",
        "rfc.fit(X_train, y_train)\n",
        "metrics.plot_roc_curve(rfc, X_test, y_test)\n",
        "plt.plot([0, 1], [0, 1], 'g--')\n",
        "plt.xlim([0.0, 1.0])\n",
        "plt.ylim([0.0, 1.0])\n",
        "plt.xlabel('False Positive Rate')\n",
        "plt.ylabel('True Positive Rate')\n",
        "plt.title('ROC Curve\\n\\n')\n",
        "plt.savefig(\"ROC Curve.png\", bbox_inches = 'tight')\n",
        "plt.show()"
      ],
      "metadata": {
        "id": "sGVXmPOCHw5B",
        "colab": {
          "base_uri": "https://localhost:8080/",
          "height": 325
        },
        "outputId": "7b90e9e4-3066-48a5-b9b0-46f618f6d1a8"
      },
      "execution_count": null,
      "outputs": [
        {
          "output_type": "display_data",
          "data": {
            "text/plain": [
              "<Figure size 432x288 with 1 Axes>"
            ],
            "image/png": "[encoded data removed]"
          },
          "metadata": {
            "needs_background": "light"
          }
        }
      ]
    },
    {
      "cell_type": "markdown",
      "source": [
        "FROM ABOVE GRAPH, AREA UNDER THE CURVE SCORE IS 0.82. IT SHOW THAT **RANDOM FOREST** IS AN OPTIMAL CLASSIFIER."
      ],
      "metadata": {
        "id": "th3BL8Cwpzqg"
      }
    },
    {
      "cell_type": "markdown",
      "source": [
        "#CLASSIFICATION REPORT OF RFC MODEL."
      ],
      "metadata": {
        "id": "8f9bC_eWCKik"
      }
    },
    {
      "cell_type": "code",
      "source": [
        "from sklearn.metrics import accuracy_score\n",
        "from sklearn.metrics import classification_report\n",
        "\n",
        "print(classification_report(y_test, pred_rfc))\n"
      ],
      "metadata": {
        "id": "Kf_a7pH8MtgJ",
        "colab": {
          "base_uri": "https://localhost:8080/"
        },
        "outputId": "d5a67fa8-57d1-4e0c-8c9b-6be925cb32f9"
      },
      "execution_count": null,
      "outputs": [
        {
          "output_type": "stream",
          "name": "stdout",
          "text": [
            "              precision    recall  f1-score   support\n",
            "\n",
            "           0       0.91      0.74      0.81     29096\n",
            "           1       0.43      0.73      0.54      8017\n",
            "\n",
            "    accuracy                           0.73     37113\n",
            "   macro avg       0.67      0.73      0.68     37113\n",
            "weighted avg       0.81      0.73      0.75     37113\n",
            "\n"
          ]
        }
      ]
    },
    {
      "cell_type": "markdown",
      "source": [
        "Precision: The classification report shows corresponding to 0 there are 91% values were correctly predicted out of total predicted values and corresponding to 1 it is 45%.\n",
        "Recall: corresponding to 0, out of total actual values 75% are correct,whereas corresponding to 1, 72% values are correct.\n"
      ],
      "metadata": {
        "id": "o1mPDOI64f_E"
      }
    }
  ]
}